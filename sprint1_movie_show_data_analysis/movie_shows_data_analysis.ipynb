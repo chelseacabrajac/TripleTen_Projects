{
 "cells": [
  {
   "cell_type": "markdown",
   "metadata": {
    "id": "JKIIqy01lgHq"
   },
   "source": [
    "# Project: Data Analysis with Pandas\n",
    "\n",
    "In this project, you will work with a dataset containing information about movies and shows. You will use the pandas library to read, clean, and analyze the data. This project will help you practice working with DataFrames, indexing, and data manipulation using pandas.\n",
    "\n",
    "\n",
    "## Dataset Description\n",
    "\n",
    "The dataset `movies_and_shows.csv` contains information about various movies and shows, including:\n",
    "\n",
    "- **name**: The name of the actor or actress.\n",
    "- **Character**: The character they played.\n",
    "- **r0le**: The role type (e.g., ACTOR).\n",
    "- **TITLE**: The title of the movie or show.\n",
    "- **Type**: Whether it's a MOVIE or SHOW.\n",
    "- **release Year**: The year it was released.\n",
    "- **genres**: A list of genres the movie or show belongs to.\n",
    "- **imdb sc0re**: The IMDb score of the movie or show.\n",
    "- **imdb v0tes**: The number of votes on IMDb.\n",
    "\n",
    "Here's a small sample of the dataset:\n",
    "\n",
    "| name              | Character                         | r0le   | TITLE        |  Type | release Year | genres             | imdb sc0re | imdb v0tes |\n",
    "|-------------------|-----------------------------------|--------|--------------|-------|--------------|--------------------|------------|------------|\n",
    "| Robert De Niro    | Travis Bickle                     | ACTOR  | Taxi Driver  | MOVIE | 1976         | ['drama', 'crime'] | 8.2        | 808582     |\n",
    "| Jodie Foster      | Iris Steensma                     | ACTOR  | Taxi Driver  | MOVIE | 1976         | ['drama', 'crime'] | 8.2        | 808582     |\n",
    "| Albert Brooks     | Tom                               | ACTOR  | Taxi Driver  | MOVIE | 1976         | ['drama', 'crime'] | 8.2        | 808582     |\n",
    "| Harvey Keitel     | Matthew 'Sport' Higgins           | ACTOR  | Taxi Driver  | MOVIE | 1976         | ['drama', 'crime'] | 8.2        | 808582     |\n",
    "| Cybill Shepherd   | Betsy                             | ACTOR  | Taxi Driver  | MOVIE | 1976         | ['drama', 'crime'] | 8.2        | 808582     |\n",
    "\n"
   ]
  },
  {
   "cell_type": "code",
   "execution_count": null,
   "metadata": {
    "id": "xVSzQhyjlg2F"
   },
   "outputs": [],
   "source": [
    "import pandas as pd\n"
   ]
  },
  {
   "cell_type": "code",
   "execution_count": null,
   "metadata": {
    "id": "afwv-RRIlwcF"
   },
   "outputs": [],
   "source": [
    "df = pd.read_csv(\"/datasets/movies_and_shows.csv\")\n"
   ]
  },
  {
   "cell_type": "code",
   "execution_count": null,
   "metadata": {
    "id": "iHI5NhB6mYel"
   },
   "outputs": [
    {
     "data": {
      "text/html": [
       "<div>\n",
       "<style scoped>\n",
       "    .dataframe tbody tr th:only-of-type {\n",
       "        vertical-align: middle;\n",
       "    }\n",
       "\n",
       "    .dataframe tbody tr th {\n",
       "        vertical-align: top;\n",
       "    }\n",
       "\n",
       "    .dataframe thead th {\n",
       "        text-align: right;\n",
       "    }\n",
       "</style>\n",
       "<table border=\"1\" class=\"dataframe\">\n",
       "  <thead>\n",
       "    <tr style=\"text-align: right;\">\n",
       "      <th></th>\n",
       "      <th>name</th>\n",
       "      <th>Character</th>\n",
       "      <th>r0le</th>\n",
       "      <th>TITLE</th>\n",
       "      <th>Type</th>\n",
       "      <th>release Year</th>\n",
       "      <th>genres</th>\n",
       "      <th>imdb sc0re</th>\n",
       "      <th>imdb v0tes</th>\n",
       "    </tr>\n",
       "  </thead>\n",
       "  <tbody>\n",
       "    <tr>\n",
       "      <th>0</th>\n",
       "      <td>Robert De Niro</td>\n",
       "      <td>Travis Bickle</td>\n",
       "      <td>ACTOR</td>\n",
       "      <td>Taxi Driver</td>\n",
       "      <td>MOVIE</td>\n",
       "      <td>1976</td>\n",
       "      <td>['drama', 'crime']</td>\n",
       "      <td>8.2</td>\n",
       "      <td>808582.0</td>\n",
       "    </tr>\n",
       "    <tr>\n",
       "      <th>1</th>\n",
       "      <td>Jodie Foster</td>\n",
       "      <td>Iris Steensma</td>\n",
       "      <td>ACTOR</td>\n",
       "      <td>Taxi Driver</td>\n",
       "      <td>MOVIE</td>\n",
       "      <td>1976</td>\n",
       "      <td>['drama', 'crime']</td>\n",
       "      <td>8.2</td>\n",
       "      <td>808582.0</td>\n",
       "    </tr>\n",
       "    <tr>\n",
       "      <th>2</th>\n",
       "      <td>Albert Brooks</td>\n",
       "      <td>Tom</td>\n",
       "      <td>ACTOR</td>\n",
       "      <td>Taxi Driver</td>\n",
       "      <td>MOVIE</td>\n",
       "      <td>1976</td>\n",
       "      <td>['drama', 'crime']</td>\n",
       "      <td>8.2</td>\n",
       "      <td>808582.0</td>\n",
       "    </tr>\n",
       "    <tr>\n",
       "      <th>3</th>\n",
       "      <td>Harvey Keitel</td>\n",
       "      <td>Matthew 'Sport' Higgins</td>\n",
       "      <td>ACTOR</td>\n",
       "      <td>Taxi Driver</td>\n",
       "      <td>MOVIE</td>\n",
       "      <td>1976</td>\n",
       "      <td>['drama', 'crime']</td>\n",
       "      <td>8.2</td>\n",
       "      <td>808582.0</td>\n",
       "    </tr>\n",
       "    <tr>\n",
       "      <th>4</th>\n",
       "      <td>Cybill Shepherd</td>\n",
       "      <td>Betsy</td>\n",
       "      <td>ACTOR</td>\n",
       "      <td>Taxi Driver</td>\n",
       "      <td>MOVIE</td>\n",
       "      <td>1976</td>\n",
       "      <td>['drama', 'crime']</td>\n",
       "      <td>8.2</td>\n",
       "      <td>808582.0</td>\n",
       "    </tr>\n",
       "  </tbody>\n",
       "</table>\n",
       "</div>"
      ],
      "text/plain": [
       "              name                Character   r0le        TITLE   Type  \\\n",
       "0   Robert De Niro            Travis Bickle  ACTOR  Taxi Driver  MOVIE   \n",
       "1     Jodie Foster            Iris Steensma  ACTOR  Taxi Driver  MOVIE   \n",
       "2    Albert Brooks                      Tom  ACTOR  Taxi Driver  MOVIE   \n",
       "3    Harvey Keitel  Matthew 'Sport' Higgins  ACTOR  Taxi Driver  MOVIE   \n",
       "4  Cybill Shepherd                    Betsy  ACTOR  Taxi Driver  MOVIE   \n",
       "\n",
       "   release Year              genres  imdb sc0re  imdb v0tes  \n",
       "0          1976  ['drama', 'crime']         8.2    808582.0  \n",
       "1          1976  ['drama', 'crime']         8.2    808582.0  \n",
       "2          1976  ['drama', 'crime']         8.2    808582.0  \n",
       "3          1976  ['drama', 'crime']         8.2    808582.0  \n",
       "4          1976  ['drama', 'crime']         8.2    808582.0  "
      ]
     },
     "execution_count": 19,
     "metadata": {},
     "output_type": "execute_result"
    }
   ],
   "source": [
    "df.head()\n"
   ]
  },
  {
   "cell_type": "code",
   "execution_count": null,
   "metadata": {
    "id": "v7Oa8Zuzmjo1"
   },
   "outputs": [
    {
     "name": "stdout",
     "output_type": "stream",
     "text": [
      "<class 'pandas.core.frame.DataFrame'>\n",
      "RangeIndex: 85579 entries, 0 to 85578\n",
      "Data columns (total 9 columns):\n",
      " #   Column        Non-Null Count  Dtype  \n",
      "---  ------        --------------  -----  \n",
      " 0      name       85579 non-null  object \n",
      " 1   Character     85579 non-null  object \n",
      " 2   r0le          85579 non-null  object \n",
      " 3   TITLE         85578 non-null  object \n",
      " 4     Type        85579 non-null  object \n",
      " 5   release Year  85579 non-null  int64  \n",
      " 6   genres        85579 non-null  object \n",
      " 7   imdb sc0re    80970 non-null  float64\n",
      " 8   imdb v0tes    80853 non-null  float64\n",
      "dtypes: float64(2), int64(1), object(6)\n",
      "memory usage: 5.9+ MB\n"
     ]
    }
   ],
   "source": [
    "df.info()\n"
   ]
  },
  {
   "cell_type": "markdown",
   "metadata": {
    "id": "_rsPAidUm3lS"
   },
   "source": [
    "## Task 1: Data Cleaning\n",
    "\n",
    "Let's clean the data to fix issues with the column names\n",
    "\n",
    "**Instructions:**\n",
    "- Rename the columns to correct any errors and make them consistent.\n",
    "\n",
    "**Hints:**\n",
    "\n",
    "- Use the `.rename()` method to rename columns.\n",
    "- Pass a dictionary to the `columns` parameter of `.rename()`, where the keys are the old column names and the values are the new names.\n",
    "- Remove unnecessary whitespace from the column names."
   ]
  },
  {
   "cell_type": "code",
   "execution_count": null,
   "metadata": {
    "id": "FkIUzgKPm4Rz"
   },
   "outputs": [],
   "source": [
    "df = df.rename(columns = {\n",
    "    '   name' : 'name',\n",
    "    'Character' : 'character',\n",
    "    'r0le' : 'role',\n",
    "    'TITLE' : 'title',\n",
    "    '  Type' : 'type',\n",
    "    'release Year' : 'release_year',\n",
    "    'genres':'genres',\n",
    "    'imdb sc0re' : 'imdb_score',\n",
    "    'imdb v0tes' : 'imdb_votes',\n",
    "    })\n"
   ]
  },
  {
   "cell_type": "code",
   "execution_count": null,
   "metadata": {
    "id": "cHi0aQgunByj"
   },
   "outputs": [
    {
     "data": {
      "text/plain": [
       "Index(['name', 'character', 'role', 'title', 'type', 'release_year', 'genres',\n",
       "       'imdb_score', 'imdb_votes'],\n",
       "      dtype='object')"
      ]
     },
     "execution_count": 22,
     "metadata": {},
     "output_type": "execute_result"
    }
   ],
   "source": [
    "df.columns\n"
   ]
  },
  {
   "cell_type": "markdown",
   "metadata": {
    "id": "z6ShKY5boqj1"
   },
   "source": [
    "## Task 2: Correcting a Misspelled Name in the Data\n",
    "\n",
    "While analyzing the dataset, you notice that some names are misspelled or contain special characters due to encoding issues. Accurate data is essential for reporting and recommendations, so let’s correct one of these entries.\n",
    "\n",
    "### Instructions\n",
    "\n",
    "1. **Locate the Row with the Incorrect Name**:\n",
    "   - Use `.loc[]` to retrieve the row where `name` is `\"In??s Prieto\"`.\n",
    "   - You can locate a row based on the index (85576) and column name called \"name\".\n",
    "   - Print the row to verify that you have the correct one.\n",
    "\n",
    "\n",
    "2. **Correct the Name**:\n",
    "   - Using `.loc[]`, update the `name` column for this row to \"Ines Prieto.\"\n",
    "   \n",
    "3. **Verify the Correction**:\n",
    "   - Print the row again to ensure that the name has been corrected."
   ]
  },
  {
   "cell_type": "code",
   "execution_count": null,
   "metadata": {
    "id": "JeEDNCYsoo0z"
   },
   "outputs": [
    {
     "data": {
      "text/plain": [
       "'In??s Prieto'"
      ]
     },
     "execution_count": 23,
     "metadata": {},
     "output_type": "execute_result"
    }
   ],
   "source": [
    "df.loc[85576,'name']\n"
   ]
  },
  {
   "cell_type": "code",
   "execution_count": null,
   "metadata": {
    "id": "US2yweQ3RFTE"
   },
   "outputs": [],
   "source": [
    "df.loc[85576, 'name'] = 'Ines Prieto'\n"
   ]
  },
  {
   "cell_type": "code",
   "execution_count": null,
   "metadata": {
    "id": "IgEGbcNVqLnU"
   },
   "outputs": [
    {
     "data": {
      "text/plain": [
       "'Ines Prieto'"
      ]
     },
     "execution_count": 25,
     "metadata": {},
     "output_type": "execute_result"
    }
   ],
   "source": [
    "df.loc[85576, 'name']\n"
   ]
  },
  {
   "cell_type": "markdown",
   "metadata": {
    "id": "vLIvSF0hsYpE"
   },
   "source": [
    "## Task 3: Finding All Movies and Shows Featuring Ines Prieto\n",
    "\n",
    "Now that we've corrected the spelling of \"Ines Prieto\" in the dataset, let's find all the TV shows and movies she has acted in. This type of filtering is helpful for generating actor-specific profiles or building a list of their works.\n",
    "\n",
    "### Instructions\n",
    "\n",
    "1. **Filter by Actor’s Name**:\n",
    "   - Use a filtering condition to select rows where the `name` column is equal to `\"Ines Prieto\"`.\n",
    "   \n",
    "2. **Display Relevant Columns**:\n",
    "   - From each matching row, retrieve only the `title`, `release_year`, `imdb_score`, and `genres` columns for a clear, concise output.\n",
    "\n",
    "**Hint:**\n",
    "\n",
    "To filter rows based on a specific value in a column, use a condition inside df[ ... ]. In this case, check if the name column equals \"Ines Prieto\". Then, select only the columns you need (like title, release_year, imdb_score, and genres) by specifying them in double brackets [ [ ... ] ].\n"
   ]
  },
  {
   "cell_type": "code",
   "execution_count": null,
   "metadata": {
    "id": "eksJ9sXXr1UU"
   },
   "outputs": [],
   "source": [
    "filtered_df = df[(df['name'] == 'Ines Prieto')\n",
    "    ][['title','release_year', 'imdb_score','genres']]\n"
   ]
  },
  {
   "cell_type": "code",
   "execution_count": null,
   "metadata": {
    "id": "vYrm6MhERlZc"
   },
   "outputs": [
    {
     "data": {
      "text/html": [
       "<div>\n",
       "<style scoped>\n",
       "    .dataframe tbody tr th:only-of-type {\n",
       "        vertical-align: middle;\n",
       "    }\n",
       "\n",
       "    .dataframe tbody tr th {\n",
       "        vertical-align: top;\n",
       "    }\n",
       "\n",
       "    .dataframe thead th {\n",
       "        text-align: right;\n",
       "    }\n",
       "</style>\n",
       "<table border=\"1\" class=\"dataframe\">\n",
       "  <thead>\n",
       "    <tr style=\"text-align: right;\">\n",
       "      <th></th>\n",
       "      <th>title</th>\n",
       "      <th>release_year</th>\n",
       "      <th>imdb_score</th>\n",
       "      <th>genres</th>\n",
       "    </tr>\n",
       "  </thead>\n",
       "  <tbody>\n",
       "    <tr>\n",
       "      <th>85576</th>\n",
       "      <td>Lokillo</td>\n",
       "      <td>2021</td>\n",
       "      <td>3.8</td>\n",
       "      <td>['comedy']</td>\n",
       "    </tr>\n",
       "  </tbody>\n",
       "</table>\n",
       "</div>"
      ],
      "text/plain": [
       "         title  release_year  imdb_score      genres\n",
       "85576  Lokillo          2021         3.8  ['comedy']"
      ]
     },
     "execution_count": 27,
     "metadata": {},
     "output_type": "execute_result"
    }
   ],
   "source": [
    "filtered_df\n"
   ]
  },
  {
   "cell_type": "markdown",
   "metadata": {
    "id": "HtmXfQHHutNk"
   },
   "source": [
    "## Task 4: Finding Highly Rated Movies\n",
    "\n",
    "We want to identify movies with an IMDb rating of at least **9.0**. This list could be helpful for curating a \"Top Movies\" section based on high ratings.\n",
    "\n",
    "### Instructions\n",
    "\n",
    "1. **Filter for High IMDb Scores**:\n",
    "   - First, filter the DataFrame to include only rows where the `imdb_score` is greater than 9.0.\n",
    "\n",
    "2. **Extract the Titles**:\n",
    "   - From this filtered DataFrame, select only the `title` column, which contains the names of the movies.\n",
    "\n",
    "3. **Get Unique Titles**:\n",
    "   - Convert the resulting list of titles to a set to remove any duplicate titles. Using `set()` will keep only unique movie names.\n",
    "\n",
    "   - *Example*: `unique_titles = set(high_score_titles)`\n",
    "\n",
    "4. **Print the Unique Titles**:\n",
    "   - Display the final set of unique movie titles to see the list of top-rated movies.\n"
   ]
  },
  {
   "cell_type": "code",
   "execution_count": null,
   "metadata": {
    "id": "B_smQ3cAtAXk"
   },
   "outputs": [
    {
     "name": "stdout",
     "output_type": "stream",
     "text": [
      "{'My Mister', 'Kota Factory', 'The Last Dance', 'Reply 1988', 'Our Planet', 'Breaking Bad', 'Avatar: The Last Airbender', 'Major'}\n"
     ]
    }
   ],
   "source": [
    "top_movies = df[(df['imdb_score'] > 9.0)]['title']\n",
    "\n",
    "unique_titles = set(top_movies)\n",
    "\n",
    "print(unique_titles)"
   ]
  },
  {
   "cell_type": "markdown",
   "metadata": {
    "id": "PrlORh6mwoZs"
   },
   "source": [
    "## Task 5: Creating a Function to Find Unique Top-Rated Movies\n",
    "\n",
    "In this task, we’ll create a function to find unique movies with an IMDb score above a certain threshold that the user provides.\n",
    "\n",
    "### Instructions\n",
    "\n",
    "1. **Define the Function**:\n",
    "   - Start by creating a function called `get_unique_top_movies` that takes one parameter, `min_score`.\n",
    "\n",
    "2. **Filter the Data**:\n",
    "   - Inside the function, create a new variable (e.g., `high_score_df`) that stores rows where the `imdb_score` is greater than or equal to `min_score`.\n",
    "\n",
    "3. **Extract Movie Titles**:\n",
    "   - In a new variable (e.g., `high_score_titles`), select the `title` column from the filtered DataFrame.\n",
    "\n",
    "4. **Remove Duplicate Titles**:\n",
    "   - Convert `high_score_titles` to a set using `set(high_score_titles)` to automatically remove duplicates, ensuring each title appears only once.\n",
    "\n",
    "5. **Return the Unique Titles**:\n",
    "   - Make sure the function returns the `unique_titles` set.\n"
   ]
  },
  {
   "cell_type": "code",
   "execution_count": null,
   "metadata": {
    "id": "pamLDfY9vErT"
   },
   "outputs": [],
   "source": [
    "def get_unique_top_movies(min_score):\n",
    "    high_score_df = df[df['imdb_score'] >= min_score]\n",
    "   \n",
    "\n",
    "\n",
    "    high_score_titles = high_score_df['title']\n",
    "\n",
    "\n",
    "    unique_titles = set(high_score_titles)\n",
    "\n",
    "\n",
    "    return unique_titles\n",
    "\n"
   ]
  },
  {
   "cell_type": "code",
   "execution_count": null,
   "metadata": {
    "id": "kUUJMTWgww1E"
   },
   "outputs": [
    {
     "name": "stdout",
     "output_type": "stream",
     "text": [
      "{'Attack on Titan', 'My Mister', 'Kota Factory', 'Major', 'Okupas', 'The Last Dance', 'Arcane', 'Reply 1988', 'Our Planet', 'Breaking Bad', 'Avatar: The Last Airbender', 'Leah Remini: Scientology and the Aftermath', 'DEATH NOTE', 'Hunter x Hunter'}\n"
     ]
    }
   ],
   "source": [
    "print(get_unique_top_movies(9.0))"
   ]
  },
  {
   "cell_type": "markdown",
   "metadata": {
    "id": "YvWTywMQxynt"
   },
   "source": [
    "## Task 6: Creating a Function to Find Top Movies from a Specific Decade\n",
    "\n",
    "Let’s create a function to retrieve movies from a particular decade with high IMDb ratings. This function can be useful for generating lists of top-rated movies from different time periods.\n",
    "\n",
    "### Instructions\n",
    "\n",
    "1. **Define the Function**:\n",
    "   - Create a function called `get_top_movies_from_decade` that accepts `decade_start` and `min_score` as parameters.\n",
    "\n",
    "2. **Filter by Decade**:\n",
    "   - Inside the function, filter the DataFrame to include only movies where `release_year` is within the specified decade.\n",
    "   - *Hint*: You can achieve this by checking that `release_year` is between `decade_start` and `decade_start + 9`\n",
    "\n",
    "3. **Filter by IMDb Score**:\n",
    "   - Further filter this subset to include only movies where `imdb_score` is greater than or equal to `min_score`.\n",
    "\n",
    "4. **Extract Movie Titles**:\n",
    "   - From the resulting DataFrame, select the `title` column and remove duplicates using set().\n",
    "\n",
    "5. **Return the List of Titles**:\n",
    "   - Return the set of the best movies from that decade.\n",
    "\n",
    "By completing this task, you’ll have a function that returns unique, top-rated movies from a specified decade. This is useful for highlighting standout movies from different eras, perfect for “Best of the Decade” features!"
   ]
  },
  {
   "cell_type": "code",
   "execution_count": null,
   "metadata": {
    "id": "H6pJpElgxxtT"
   },
   "outputs": [],
   "source": [
    "def get_top_movies_from_decade(decade_start, min_score):\n",
    "    best_of_decade_df = df[(df['release_year'] >= decade_start) &\n",
    "                        (df['release_year'] <= decade_start + 9)]\n",
    "\n",
    "\n",
    "    best_of_decade_df = best_of_decade_df[best_of_decade_df['imdb_score'] >= min_score]\n",
    "\n",
    "\n",
    "    best_of_decade = set(best_of_decade_df['title'])\\\n",
    "\n",
    "    return best_of_decade\n"
   ]
  },
  {
   "cell_type": "code",
   "execution_count": null,
   "metadata": {
    "id": "r_q7imodyIbz"
   },
   "outputs": [
    {
     "name": "stdout",
     "output_type": "stream",
     "text": [
      "{'Neon Genesis Evangelion', 'GoodFellas', 'Cowboy Bebop', 'Se7en', 'One Piece', 'Forrest Gump', 'Bill Hicks: Revelations', 'L??on: The Professional'}\n"
     ]
    }
   ],
   "source": [
    "print(get_top_movies_from_decade(1990, 8.5))"
   ]
  },
  {
   "cell_type": "markdown",
   "metadata": {
    "id": "5olBh5JRzYgN"
   },
   "source": [
    "\n",
    "## Task 7: Creating a Function to List All Actors in a Given Title\n",
    "\n",
    "Imagine you want to list all the actors in a specific movie or show. Let’s create a function that takes a `title` as input and returns the names of all actors in that title, combined into a single string.\n",
    "\n",
    "\n",
    "### Instructions\n",
    "\n",
    "1. **Define the Function**:\n",
    "   - Create a function called `get_actors_for_title` that accepts one parameter, `title`.\n",
    "   \n",
    "2. **Filter by Title and Role**:\n",
    "   - Inside the function, filter the DataFrame to select rows where the `title` column matches the provided `title` parameter and the `role` column is `\"ACTOR\"` (to ensure you only retrieve actors).\n",
    "\n",
    "3. **Extract Actor Names**:\n",
    "   - From this filtered DataFrame, select only the `name` column to get the actor names.\n",
    "\n",
    "4. **Combine Names into a Single String**:\n",
    "   - Use `', '.join()` to combine the list of actor names into a single string, with each name separated by a comma.\n",
    "\n",
    "5. **Return the Result**:\n",
    "   - Return the resulting string of actor names.\n",
    "\n",
    "\n",
    "This function will allow you to retrieve and format a list of actors for any movie or show title, which is useful for creating cast lists or displaying actors for specific titles."
   ]
  },
  {
   "cell_type": "code",
   "execution_count": null,
   "metadata": {
    "id": "hSCm5mYRziCD"
   },
   "outputs": [],
   "source": [
    "def get_actors_for_title(title):\n",
    "    cast_list_df = df[(df['title'] == title) &\n",
    "                    (df['role'] == 'ACTOR')]\n",
    "\n",
    "\n",
    "    cast_list = cast_list_df['name']\n",
    "\n",
    "\n",
    "    cast = ', '.join(cast_list)\n",
    "\n",
    "\n",
    "    return cast\n",
    "\n"
   ]
  },
  {
   "cell_type": "code",
   "execution_count": null,
   "metadata": {
    "id": "BCnnBFUdzj20"
   },
   "outputs": [
    {
     "name": "stdout",
     "output_type": "stream",
     "text": [
      "Robert De Niro, Jodie Foster, Albert Brooks, Harvey Keitel, Cybill Shepherd, Peter Boyle, Leonard Harris, Diahnne Abbott, Gino Ardito, Martin Scorsese, Murray Moston, Richard Higgs, Bill Minkin, Bob Maroff, Victor Argo, Joe Spinell, Robinson Frank Adu, Brenda Dickson, Norman Matlock, Harry Northup, Harlan Cary Poe, Steven Prince, Peter Savage, Nicholas Shields, Ralph S. Singleton, Annie Gagen, Carson Grant, Mary-Pat Green, Debbi Morgan, Don Stroud, Copper Cunningham, Garth Avery, Nat Grant, Billie Perkins, Catherine Scorsese, Charles Scorsese, Odunlade Adekola, Ijeoma Grace Agu\n"
     ]
    }
   ],
   "source": [
    "print(get_actors_for_title(\"Taxi Driver\"))"
   ]
  },
  {
   "cell_type": "markdown",
   "metadata": {
    "id": "Iu7Zzk7M0o_9"
   },
   "source": [
    "## Task 8: Creating a Function to Categorize Movies by IMDb Score\n",
    "\n",
    "Let’s categorize movies and shows based on their IMDb scores to provide a quick evaluation of their popularity or quality. We’ll create a function that takes in a `title` and returns a rating category based on the movie or show’s IMDb score.\n",
    "\n",
    "### Rating Categories\n",
    "\n",
    "- **Excellent**: IMDb score of 9.0 or higher\n",
    "- **Good**: IMDb score between 7.0 and 8.9\n",
    "- **Average**: IMDb score between 5.0 and 6.9\n",
    "- **Low**: IMDb score below 5.0\n",
    "\n",
    "### Instructions\n",
    "\n",
    "1. **Define the Function**:\n",
    "   - Create a function called `categorize_imdb_score` that accepts one parameter, `title`.\n",
    "\n",
    "2. **Filter by Title**:\n",
    "   - Inside the function, filter the DataFrame to find the row where `title` matches the given title.\n",
    "\n",
    "3. **Retrieve IMDb Score**:\n",
    "   - If the title exists, retrieve the `imdb_score` for that movie or show.\n",
    "   - If the title is not found, return `\"Title not found\"`.\n",
    "\n",
    "4. **Categorize Score with `if-else`**:\n",
    "   - Use `if-elif-else` statements to evaluate the `imdb_score` and return one of the rating categories based on the ranges provided.\n",
    "\n",
    "5. **Return the Category**:\n",
    "   - Return the appropriate category based on the score.\n",
    "\n",
    "This function allows you to quickly categorize movies or shows by their IMDb score, which could be helpful for creating rating tags or recommending top-rated content."
   ]
  },
  {
   "cell_type": "code",
   "execution_count": null,
   "metadata": {
    "id": "ZfrrGY7h0zYT"
   },
   "outputs": [],
   "source": [
    "def categorize_imdb_score(title):\n",
    "    imdb_score_df = df[df['title'] == title]\n",
    "\n",
    "    if imdb_score_df.empty:\n",
    "        return 'Movie not found'\n",
    "\n",
    "\n",
    "    imdb_score = imdb_score_df['imdb_score'].iloc[0]\n",
    "\n",
    "\n",
    "    if imdb_score >= 9.0:\n",
    "        return 'Excellent'\n",
    "    \n",
    "    elif imdb_score >= 7.0:\n",
    "        return 'Good'\n",
    "\n",
    "    elif imdb_score >= 5.0:\n",
    "        return 'Average'\n",
    "\n",
    "    else: \n",
    "        return 'Low'\n"
   ]
  },
  {
   "cell_type": "code",
   "execution_count": null,
   "metadata": {
    "id": "4wqHjcFZ01Qk"
   },
   "outputs": [
    {
     "name": "stdout",
     "output_type": "stream",
     "text": [
      "Good\n"
     ]
    }
   ],
   "source": [
    "print(categorize_imdb_score(\"Taxi Driver\"))"
   ]
  }
 ],
 "metadata": {
  "colab": {
   "provenance": []
  },
  "kernelspec": {
   "display_name": "Python 3 (ipykernel)",
   "language": "python",
   "name": "python3"
  },
  "language_info": {
   "codemirror_mode": {
    "name": "ipython",
    "version": 3
   },
   "file_extension": ".py",
   "mimetype": "text/x-python",
   "name": "python",
   "nbconvert_exporter": "python",
   "pygments_lexer": "ipython3",
   "version": "3.9.22"
  }
 },
 "nbformat": 4,
 "nbformat_minor": 4
}
