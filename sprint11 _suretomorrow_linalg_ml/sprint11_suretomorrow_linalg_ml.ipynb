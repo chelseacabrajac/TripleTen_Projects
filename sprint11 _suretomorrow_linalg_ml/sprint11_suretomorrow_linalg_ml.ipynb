{
 "cells": [
  {
   "cell_type": "markdown",
   "metadata": {},
   "source": [
    "# Statement"
   ]
  },
  {
   "cell_type": "markdown",
   "metadata": {},
   "source": [
    "The Sure Tomorrow insurance company wants to solve several tasks with the help of Machine Learning and you are asked to evaluate that possibility.\n",
    "\n",
    "- Task 1: Find customers who are similar to a given customer. This will help the company's agents with marketing.\n",
    "- Task 2: Predict whether a new customer is likely to receive an insurance benefit. Can a prediction model do better than a dummy model?\n",
    "- Task 3: Predict the number of insurance benefits a new customer is likely to receive using a linear regression model.\n",
    "- Task 4: Protect clients' personal data without breaking the model from the previous task. It's necessary to develop a data transformation algorithm that would make it hard to recover personal information if the data fell into the wrong hands. This is called data masking, or data obfuscation. But the data should be protected in such a way that the quality of machine learning models doesn't suffer. You don't need to pick the best model, just prove that the algorithm works correctly."
   ]
  },
  {
   "cell_type": "markdown",
   "metadata": {},
   "source": [
    "# Data Preprocessing & Exploration\n",
    "\n",
    "## Initialization"
   ]
  },
  {
   "cell_type": "code",
   "execution_count": 78,
   "metadata": {},
   "outputs": [],
   "source": [
    "import numpy as np\n",
    "import pandas as pd\n",
    "\n",
    "import seaborn as sns\n",
    "\n",
    "import sklearn.linear_model\n",
    "import sklearn.metrics\n",
    "import sklearn.neighbors\n",
    "import sklearn.preprocessing\n",
    "\n",
    "from sklearn.model_selection import train_test_split\n",
    "\n",
    "from IPython.display import display"
   ]
  },
  {
   "cell_type": "markdown",
   "metadata": {},
   "source": [
    "## Load Data"
   ]
  },
  {
   "cell_type": "markdown",
   "metadata": {},
   "source": [
    "<div class=\"alert alert-info\">\n",
    "Load data and conduct a basic check that it's free from obvious issues."
   ]
  },
  {
   "cell_type": "code",
   "execution_count": 79,
   "metadata": {},
   "outputs": [],
   "source": [
    "df = pd.read_csv('/datasets/insurance_us.csv')"
   ]
  },
  {
   "cell_type": "markdown",
   "metadata": {},
   "source": [
    "<div class=\"alert alert-info\">\n",
    "We rename the colums to make the code look more consistent with its style."
   ]
  },
  {
   "cell_type": "code",
   "execution_count": 80,
   "metadata": {},
   "outputs": [],
   "source": [
    "df = df.rename(columns={'Gender': 'gender', 'Age': 'age', 'Salary': 'income', 'Family members': 'family_members', 'Insurance benefits': 'insurance_benefits'})"
   ]
  },
  {
   "cell_type": "code",
   "execution_count": 81,
   "metadata": {},
   "outputs": [
    {
     "data": {
      "text/html": [
       "<div>\n",
       "<style scoped>\n",
       "    .dataframe tbody tr th:only-of-type {\n",
       "        vertical-align: middle;\n",
       "    }\n",
       "\n",
       "    .dataframe tbody tr th {\n",
       "        vertical-align: top;\n",
       "    }\n",
       "\n",
       "    .dataframe thead th {\n",
       "        text-align: right;\n",
       "    }\n",
       "</style>\n",
       "<table border=\"1\" class=\"dataframe\">\n",
       "  <thead>\n",
       "    <tr style=\"text-align: right;\">\n",
       "      <th></th>\n",
       "      <th>gender</th>\n",
       "      <th>age</th>\n",
       "      <th>income</th>\n",
       "      <th>family_members</th>\n",
       "      <th>insurance_benefits</th>\n",
       "    </tr>\n",
       "  </thead>\n",
       "  <tbody>\n",
       "    <tr>\n",
       "      <th>4124</th>\n",
       "      <td>1</td>\n",
       "      <td>21.0</td>\n",
       "      <td>34100.0</td>\n",
       "      <td>0</td>\n",
       "      <td>0</td>\n",
       "    </tr>\n",
       "    <tr>\n",
       "      <th>2635</th>\n",
       "      <td>0</td>\n",
       "      <td>23.0</td>\n",
       "      <td>32900.0</td>\n",
       "      <td>0</td>\n",
       "      <td>0</td>\n",
       "    </tr>\n",
       "    <tr>\n",
       "      <th>842</th>\n",
       "      <td>0</td>\n",
       "      <td>20.0</td>\n",
       "      <td>45000.0</td>\n",
       "      <td>1</td>\n",
       "      <td>0</td>\n",
       "    </tr>\n",
       "    <tr>\n",
       "      <th>3104</th>\n",
       "      <td>1</td>\n",
       "      <td>33.0</td>\n",
       "      <td>41000.0</td>\n",
       "      <td>0</td>\n",
       "      <td>0</td>\n",
       "    </tr>\n",
       "    <tr>\n",
       "      <th>3053</th>\n",
       "      <td>1</td>\n",
       "      <td>26.0</td>\n",
       "      <td>46300.0</td>\n",
       "      <td>1</td>\n",
       "      <td>0</td>\n",
       "    </tr>\n",
       "    <tr>\n",
       "      <th>5</th>\n",
       "      <td>1</td>\n",
       "      <td>43.0</td>\n",
       "      <td>41000.0</td>\n",
       "      <td>2</td>\n",
       "      <td>1</td>\n",
       "    </tr>\n",
       "    <tr>\n",
       "      <th>996</th>\n",
       "      <td>1</td>\n",
       "      <td>31.0</td>\n",
       "      <td>25800.0</td>\n",
       "      <td>1</td>\n",
       "      <td>0</td>\n",
       "    </tr>\n",
       "    <tr>\n",
       "      <th>1518</th>\n",
       "      <td>0</td>\n",
       "      <td>25.0</td>\n",
       "      <td>49000.0</td>\n",
       "      <td>1</td>\n",
       "      <td>0</td>\n",
       "    </tr>\n",
       "    <tr>\n",
       "      <th>286</th>\n",
       "      <td>0</td>\n",
       "      <td>39.0</td>\n",
       "      <td>36000.0</td>\n",
       "      <td>0</td>\n",
       "      <td>0</td>\n",
       "    </tr>\n",
       "    <tr>\n",
       "      <th>1147</th>\n",
       "      <td>1</td>\n",
       "      <td>42.0</td>\n",
       "      <td>40800.0</td>\n",
       "      <td>2</td>\n",
       "      <td>0</td>\n",
       "    </tr>\n",
       "  </tbody>\n",
       "</table>\n",
       "</div>"
      ],
      "text/plain": [
       "      gender   age   income  family_members  insurance_benefits\n",
       "4124       1  21.0  34100.0               0                   0\n",
       "2635       0  23.0  32900.0               0                   0\n",
       "842        0  20.0  45000.0               1                   0\n",
       "3104       1  33.0  41000.0               0                   0\n",
       "3053       1  26.0  46300.0               1                   0\n",
       "5          1  43.0  41000.0               2                   1\n",
       "996        1  31.0  25800.0               1                   0\n",
       "1518       0  25.0  49000.0               1                   0\n",
       "286        0  39.0  36000.0               0                   0\n",
       "1147       1  42.0  40800.0               2                   0"
      ]
     },
     "execution_count": 81,
     "metadata": {},
     "output_type": "execute_result"
    }
   ],
   "source": [
    "df.sample(10)"
   ]
  },
  {
   "cell_type": "code",
   "execution_count": 82,
   "metadata": {},
   "outputs": [
    {
     "name": "stdout",
     "output_type": "stream",
     "text": [
      "<class 'pandas.core.frame.DataFrame'>\n",
      "RangeIndex: 5000 entries, 0 to 4999\n",
      "Data columns (total 5 columns):\n",
      " #   Column              Non-Null Count  Dtype  \n",
      "---  ------              --------------  -----  \n",
      " 0   gender              5000 non-null   int64  \n",
      " 1   age                 5000 non-null   float64\n",
      " 2   income              5000 non-null   float64\n",
      " 3   family_members      5000 non-null   int64  \n",
      " 4   insurance_benefits  5000 non-null   int64  \n",
      "dtypes: float64(2), int64(3)\n",
      "memory usage: 195.4 KB\n"
     ]
    }
   ],
   "source": [
    "df.info()"
   ]
  },
  {
   "cell_type": "code",
   "execution_count": 83,
   "metadata": {},
   "outputs": [],
   "source": [
    "df['age']= df['age'].astype(int)"
   ]
  },
  {
   "cell_type": "code",
   "execution_count": 84,
   "metadata": {},
   "outputs": [
    {
     "name": "stdout",
     "output_type": "stream",
     "text": [
      "<class 'pandas.core.frame.DataFrame'>\n",
      "RangeIndex: 5000 entries, 0 to 4999\n",
      "Data columns (total 5 columns):\n",
      " #   Column              Non-Null Count  Dtype  \n",
      "---  ------              --------------  -----  \n",
      " 0   gender              5000 non-null   int64  \n",
      " 1   age                 5000 non-null   int64  \n",
      " 2   income              5000 non-null   float64\n",
      " 3   family_members      5000 non-null   int64  \n",
      " 4   insurance_benefits  5000 non-null   int64  \n",
      "dtypes: float64(1), int64(4)\n",
      "memory usage: 195.4 KB\n"
     ]
    }
   ],
   "source": [
    "df.info()"
   ]
  },
  {
   "cell_type": "code",
   "execution_count": 85,
   "metadata": {},
   "outputs": [
    {
     "data": {
      "text/html": [
       "<div>\n",
       "<style scoped>\n",
       "    .dataframe tbody tr th:only-of-type {\n",
       "        vertical-align: middle;\n",
       "    }\n",
       "\n",
       "    .dataframe tbody tr th {\n",
       "        vertical-align: top;\n",
       "    }\n",
       "\n",
       "    .dataframe thead th {\n",
       "        text-align: right;\n",
       "    }\n",
       "</style>\n",
       "<table border=\"1\" class=\"dataframe\">\n",
       "  <thead>\n",
       "    <tr style=\"text-align: right;\">\n",
       "      <th></th>\n",
       "      <th>gender</th>\n",
       "      <th>age</th>\n",
       "      <th>income</th>\n",
       "      <th>family_members</th>\n",
       "      <th>insurance_benefits</th>\n",
       "    </tr>\n",
       "  </thead>\n",
       "  <tbody>\n",
       "    <tr>\n",
       "      <th>count</th>\n",
       "      <td>5000.000000</td>\n",
       "      <td>5000.000000</td>\n",
       "      <td>5000.000000</td>\n",
       "      <td>5000.000000</td>\n",
       "      <td>5000.000000</td>\n",
       "    </tr>\n",
       "    <tr>\n",
       "      <th>mean</th>\n",
       "      <td>0.499000</td>\n",
       "      <td>30.952800</td>\n",
       "      <td>39916.360000</td>\n",
       "      <td>1.194200</td>\n",
       "      <td>0.148000</td>\n",
       "    </tr>\n",
       "    <tr>\n",
       "      <th>std</th>\n",
       "      <td>0.500049</td>\n",
       "      <td>8.440807</td>\n",
       "      <td>9900.083569</td>\n",
       "      <td>1.091387</td>\n",
       "      <td>0.463183</td>\n",
       "    </tr>\n",
       "    <tr>\n",
       "      <th>min</th>\n",
       "      <td>0.000000</td>\n",
       "      <td>18.000000</td>\n",
       "      <td>5300.000000</td>\n",
       "      <td>0.000000</td>\n",
       "      <td>0.000000</td>\n",
       "    </tr>\n",
       "    <tr>\n",
       "      <th>25%</th>\n",
       "      <td>0.000000</td>\n",
       "      <td>24.000000</td>\n",
       "      <td>33300.000000</td>\n",
       "      <td>0.000000</td>\n",
       "      <td>0.000000</td>\n",
       "    </tr>\n",
       "    <tr>\n",
       "      <th>50%</th>\n",
       "      <td>0.000000</td>\n",
       "      <td>30.000000</td>\n",
       "      <td>40200.000000</td>\n",
       "      <td>1.000000</td>\n",
       "      <td>0.000000</td>\n",
       "    </tr>\n",
       "    <tr>\n",
       "      <th>75%</th>\n",
       "      <td>1.000000</td>\n",
       "      <td>37.000000</td>\n",
       "      <td>46600.000000</td>\n",
       "      <td>2.000000</td>\n",
       "      <td>0.000000</td>\n",
       "    </tr>\n",
       "    <tr>\n",
       "      <th>max</th>\n",
       "      <td>1.000000</td>\n",
       "      <td>65.000000</td>\n",
       "      <td>79000.000000</td>\n",
       "      <td>6.000000</td>\n",
       "      <td>5.000000</td>\n",
       "    </tr>\n",
       "  </tbody>\n",
       "</table>\n",
       "</div>"
      ],
      "text/plain": [
       "            gender          age        income  family_members  \\\n",
       "count  5000.000000  5000.000000   5000.000000     5000.000000   \n",
       "mean      0.499000    30.952800  39916.360000        1.194200   \n",
       "std       0.500049     8.440807   9900.083569        1.091387   \n",
       "min       0.000000    18.000000   5300.000000        0.000000   \n",
       "25%       0.000000    24.000000  33300.000000        0.000000   \n",
       "50%       0.000000    30.000000  40200.000000        1.000000   \n",
       "75%       1.000000    37.000000  46600.000000        2.000000   \n",
       "max       1.000000    65.000000  79000.000000        6.000000   \n",
       "\n",
       "       insurance_benefits  \n",
       "count         5000.000000  \n",
       "mean             0.148000  \n",
       "std              0.463183  \n",
       "min              0.000000  \n",
       "25%              0.000000  \n",
       "50%              0.000000  \n",
       "75%              0.000000  \n",
       "max              5.000000  "
      ]
     },
     "execution_count": 85,
     "metadata": {},
     "output_type": "execute_result"
    }
   ],
   "source": [
    "df.describe()"
   ]
  },
  {
   "cell_type": "markdown",
   "metadata": {},
   "source": [
    "<div class=\"alert alert-info\">\n",
    "\n",
    "The dataset appears clean — there are no missing values, the feature ranges (age, income, family size) look realistic, and gender is properly coded as a binary variable. The main point to note is that most customers have zero insurance benefits, creating a highly imbalanced target distribution. This will be important to keep in mind for modeling, as metrics like F1 or ROC-AUC will be more informative than plain accuracy."
   ]
  },
  {
   "cell_type": "markdown",
   "metadata": {},
   "source": [
    "## EDA"
   ]
  },
  {
   "cell_type": "markdown",
   "metadata": {},
   "source": [
    "<div class=\"alert alert-info\">\n",
    "Let's quickly check whether there are certain groups of customers by looking at the pair plot."
   ]
  },
  {
   "cell_type": "code",
   "execution_count": 86,
   "metadata": {},
   "outputs": [
    {
     "data": {
      "image/png": "[encoded data removed]",
      "text/plain": [
       "<Figure size 1200x1200 with 30 Axes>"
      ]
     },
     "metadata": {},
     "output_type": "display_data"
    }
   ],
   "source": [
    "g = sns.pairplot(df, kind='hist')\n",
    "g.fig.set_size_inches(12, 12)"
   ]
  },
  {
   "cell_type": "markdown",
   "metadata": {},
   "source": [
    "<div class=\"alert alert-info\">\n",
    "Ok, it is a bit difficult to spot obvious groups (clusters) as it is difficult to combine several variables simultaneously (to analyze multivariate distributions). That's where LA and ML can be quite handy."
   ]
  },
  {
   "cell_type": "markdown",
   "metadata": {},
   "source": [
    "# Task 1. Similar Customers"
   ]
  },
  {
   "cell_type": "code",
   "execution_count": 87,
   "metadata": {},
   "outputs": [],
   "source": [
    "feature_names = ['gender', 'age', 'income', 'family_members']"
   ]
  },
  {
   "cell_type": "code",
   "execution_count": 88,
   "metadata": {},
   "outputs": [],
   "source": [
    "def get_knn(df, n, k, metric):\n",
    "    \n",
    "    \"\"\"\n",
    "    Returns k nearest neighbors\n",
    "\n",
    "    :param df: pandas DataFrame used to find similar objects within\n",
    "    :param n: object no for which the nearest neighbours are looked for\n",
    "    :param k: the number of the nearest neighbours to return\n",
    "    :param metric: name of distance metric\n",
    "    \"\"\"\n",
    "\n",
    "    nbrs = sklearn.neighbors.NearestNeighbors(metric=metric)\n",
    "    nbrs.fit(df[feature_names].to_numpy())\n",
    "    nbrs_distances, nbrs_indices = nbrs.kneighbors([df.iloc[n][feature_names]], k, return_distance=True)\n",
    "    \n",
    "    df_res = pd.concat([\n",
    "        df.iloc[nbrs_indices[0]], \n",
    "        pd.DataFrame(nbrs_distances.T, index=nbrs_indices[0], columns=['distance'])\n",
    "        ], axis=1)\n",
    "    \n",
    "    return df_res"
   ]
  },
  {
   "cell_type": "markdown",
   "metadata": {},
   "source": [
    "<div class=\"alert alert-info\">\n",
    "Scaling the data."
   ]
  },
  {
   "cell_type": "code",
   "execution_count": 89,
   "metadata": {},
   "outputs": [],
   "source": [
    "feature_names = ['gender', 'age', 'income', 'family_members']\n",
    "\n",
    "transformer_mas = sklearn.preprocessing.MaxAbsScaler().fit(df[feature_names].to_numpy())\n",
    "\n",
    "df_scaled = df.copy()\n",
    "df_scaled.loc[:, feature_names] = transformer_mas.transform(df[feature_names].to_numpy())"
   ]
  },
  {
   "cell_type": "code",
   "execution_count": 90,
   "metadata": {},
   "outputs": [
    {
     "data": {
      "text/html": [
       "<div>\n",
       "<style scoped>\n",
       "    .dataframe tbody tr th:only-of-type {\n",
       "        vertical-align: middle;\n",
       "    }\n",
       "\n",
       "    .dataframe tbody tr th {\n",
       "        vertical-align: top;\n",
       "    }\n",
       "\n",
       "    .dataframe thead th {\n",
       "        text-align: right;\n",
       "    }\n",
       "</style>\n",
       "<table border=\"1\" class=\"dataframe\">\n",
       "  <thead>\n",
       "    <tr style=\"text-align: right;\">\n",
       "      <th></th>\n",
       "      <th>gender</th>\n",
       "      <th>age</th>\n",
       "      <th>income</th>\n",
       "      <th>family_members</th>\n",
       "      <th>insurance_benefits</th>\n",
       "    </tr>\n",
       "  </thead>\n",
       "  <tbody>\n",
       "    <tr>\n",
       "      <th>2336</th>\n",
       "      <td>0.0</td>\n",
       "      <td>0.323077</td>\n",
       "      <td>0.420253</td>\n",
       "      <td>0.166667</td>\n",
       "      <td>0</td>\n",
       "    </tr>\n",
       "    <tr>\n",
       "      <th>2112</th>\n",
       "      <td>1.0</td>\n",
       "      <td>0.476923</td>\n",
       "      <td>0.383544</td>\n",
       "      <td>0.000000</td>\n",
       "      <td>0</td>\n",
       "    </tr>\n",
       "    <tr>\n",
       "      <th>1120</th>\n",
       "      <td>1.0</td>\n",
       "      <td>0.507692</td>\n",
       "      <td>0.274684</td>\n",
       "      <td>0.500000</td>\n",
       "      <td>0</td>\n",
       "    </tr>\n",
       "    <tr>\n",
       "      <th>2174</th>\n",
       "      <td>1.0</td>\n",
       "      <td>0.323077</td>\n",
       "      <td>0.470886</td>\n",
       "      <td>0.166667</td>\n",
       "      <td>0</td>\n",
       "    </tr>\n",
       "    <tr>\n",
       "      <th>941</th>\n",
       "      <td>1.0</td>\n",
       "      <td>0.307692</td>\n",
       "      <td>0.607595</td>\n",
       "      <td>0.166667</td>\n",
       "      <td>0</td>\n",
       "    </tr>\n",
       "  </tbody>\n",
       "</table>\n",
       "</div>"
      ],
      "text/plain": [
       "      gender       age    income  family_members  insurance_benefits\n",
       "2336     0.0  0.323077  0.420253        0.166667                   0\n",
       "2112     1.0  0.476923  0.383544        0.000000                   0\n",
       "1120     1.0  0.507692  0.274684        0.500000                   0\n",
       "2174     1.0  0.323077  0.470886        0.166667                   0\n",
       "941      1.0  0.307692  0.607595        0.166667                   0"
      ]
     },
     "execution_count": 90,
     "metadata": {},
     "output_type": "execute_result"
    }
   ],
   "source": [
    "df_scaled.sample(5)"
   ]
  },
  {
   "cell_type": "markdown",
   "metadata": {},
   "source": [
    "<div class=\"alert alert-info\">\n",
    "Now, let's get similar records for a given one for every combination"
   ]
  },
  {
   "cell_type": "code",
   "execution_count": null,
   "metadata": {},
   "outputs": [],
   "source": [
    "row_n = 100\n",
    "k = 5 "
   ]
  },
  {
   "cell_type": "code",
   "execution_count": 92,
   "metadata": {},
   "outputs": [
    {
     "name": "stdout",
     "output_type": "stream",
     "text": [
      "Unscaled + Euclidean\n"
     ]
    },
    {
     "data": {
      "text/html": [
       "<div>\n",
       "<style scoped>\n",
       "    .dataframe tbody tr th:only-of-type {\n",
       "        vertical-align: middle;\n",
       "    }\n",
       "\n",
       "    .dataframe tbody tr th {\n",
       "        vertical-align: top;\n",
       "    }\n",
       "\n",
       "    .dataframe thead th {\n",
       "        text-align: right;\n",
       "    }\n",
       "</style>\n",
       "<table border=\"1\" class=\"dataframe\">\n",
       "  <thead>\n",
       "    <tr style=\"text-align: right;\">\n",
       "      <th></th>\n",
       "      <th>gender</th>\n",
       "      <th>age</th>\n",
       "      <th>income</th>\n",
       "      <th>family_members</th>\n",
       "      <th>insurance_benefits</th>\n",
       "      <th>distance</th>\n",
       "    </tr>\n",
       "  </thead>\n",
       "  <tbody>\n",
       "    <tr>\n",
       "      <th>100</th>\n",
       "      <td>0</td>\n",
       "      <td>19</td>\n",
       "      <td>37300.0</td>\n",
       "      <td>1</td>\n",
       "      <td>0</td>\n",
       "      <td>0.000000</td>\n",
       "    </tr>\n",
       "    <tr>\n",
       "      <th>2624</th>\n",
       "      <td>1</td>\n",
       "      <td>19</td>\n",
       "      <td>37300.0</td>\n",
       "      <td>0</td>\n",
       "      <td>0</td>\n",
       "      <td>1.414214</td>\n",
       "    </tr>\n",
       "    <tr>\n",
       "      <th>1831</th>\n",
       "      <td>0</td>\n",
       "      <td>20</td>\n",
       "      <td>37300.0</td>\n",
       "      <td>2</td>\n",
       "      <td>0</td>\n",
       "      <td>1.414214</td>\n",
       "    </tr>\n",
       "    <tr>\n",
       "      <th>4278</th>\n",
       "      <td>1</td>\n",
       "      <td>19</td>\n",
       "      <td>37300.0</td>\n",
       "      <td>2</td>\n",
       "      <td>0</td>\n",
       "      <td>1.414214</td>\n",
       "    </tr>\n",
       "    <tr>\n",
       "      <th>1086</th>\n",
       "      <td>0</td>\n",
       "      <td>22</td>\n",
       "      <td>37300.0</td>\n",
       "      <td>3</td>\n",
       "      <td>0</td>\n",
       "      <td>3.605551</td>\n",
       "    </tr>\n",
       "  </tbody>\n",
       "</table>\n",
       "</div>"
      ],
      "text/plain": [
       "      gender  age   income  family_members  insurance_benefits  distance\n",
       "100        0   19  37300.0               1                   0  0.000000\n",
       "2624       1   19  37300.0               0                   0  1.414214\n",
       "1831       0   20  37300.0               2                   0  1.414214\n",
       "4278       1   19  37300.0               2                   0  1.414214\n",
       "1086       0   22  37300.0               3                   0  3.605551"
      ]
     },
     "metadata": {},
     "output_type": "display_data"
    }
   ],
   "source": [
    "print(\"Unscaled + Euclidean\")\n",
    "display(get_knn(df, row_n, k, \"euclidean\"))"
   ]
  },
  {
   "cell_type": "code",
   "execution_count": 93,
   "metadata": {},
   "outputs": [
    {
     "name": "stdout",
     "output_type": "stream",
     "text": [
      "Unscaled + Manhattan\n"
     ]
    },
    {
     "data": {
      "text/html": [
       "<div>\n",
       "<style scoped>\n",
       "    .dataframe tbody tr th:only-of-type {\n",
       "        vertical-align: middle;\n",
       "    }\n",
       "\n",
       "    .dataframe tbody tr th {\n",
       "        vertical-align: top;\n",
       "    }\n",
       "\n",
       "    .dataframe thead th {\n",
       "        text-align: right;\n",
       "    }\n",
       "</style>\n",
       "<table border=\"1\" class=\"dataframe\">\n",
       "  <thead>\n",
       "    <tr style=\"text-align: right;\">\n",
       "      <th></th>\n",
       "      <th>gender</th>\n",
       "      <th>age</th>\n",
       "      <th>income</th>\n",
       "      <th>family_members</th>\n",
       "      <th>insurance_benefits</th>\n",
       "      <th>distance</th>\n",
       "    </tr>\n",
       "  </thead>\n",
       "  <tbody>\n",
       "    <tr>\n",
       "      <th>100</th>\n",
       "      <td>0</td>\n",
       "      <td>19</td>\n",
       "      <td>37300.0</td>\n",
       "      <td>1</td>\n",
       "      <td>0</td>\n",
       "      <td>0.0</td>\n",
       "    </tr>\n",
       "    <tr>\n",
       "      <th>4278</th>\n",
       "      <td>1</td>\n",
       "      <td>19</td>\n",
       "      <td>37300.0</td>\n",
       "      <td>2</td>\n",
       "      <td>0</td>\n",
       "      <td>2.0</td>\n",
       "    </tr>\n",
       "    <tr>\n",
       "      <th>1831</th>\n",
       "      <td>0</td>\n",
       "      <td>20</td>\n",
       "      <td>37300.0</td>\n",
       "      <td>2</td>\n",
       "      <td>0</td>\n",
       "      <td>2.0</td>\n",
       "    </tr>\n",
       "    <tr>\n",
       "      <th>2624</th>\n",
       "      <td>1</td>\n",
       "      <td>19</td>\n",
       "      <td>37300.0</td>\n",
       "      <td>0</td>\n",
       "      <td>0</td>\n",
       "      <td>2.0</td>\n",
       "    </tr>\n",
       "    <tr>\n",
       "      <th>1086</th>\n",
       "      <td>0</td>\n",
       "      <td>22</td>\n",
       "      <td>37300.0</td>\n",
       "      <td>3</td>\n",
       "      <td>0</td>\n",
       "      <td>5.0</td>\n",
       "    </tr>\n",
       "  </tbody>\n",
       "</table>\n",
       "</div>"
      ],
      "text/plain": [
       "      gender  age   income  family_members  insurance_benefits  distance\n",
       "100        0   19  37300.0               1                   0       0.0\n",
       "4278       1   19  37300.0               2                   0       2.0\n",
       "1831       0   20  37300.0               2                   0       2.0\n",
       "2624       1   19  37300.0               0                   0       2.0\n",
       "1086       0   22  37300.0               3                   0       5.0"
      ]
     },
     "metadata": {},
     "output_type": "display_data"
    }
   ],
   "source": [
    "print(\"Unscaled + Manhattan\")\n",
    "display(get_knn(df, row_n, k, \"manhattan\"))"
   ]
  },
  {
   "cell_type": "code",
   "execution_count": 94,
   "metadata": {},
   "outputs": [
    {
     "name": "stdout",
     "output_type": "stream",
     "text": [
      "Scaled + Euclidean\n"
     ]
    },
    {
     "data": {
      "text/html": [
       "<div>\n",
       "<style scoped>\n",
       "    .dataframe tbody tr th:only-of-type {\n",
       "        vertical-align: middle;\n",
       "    }\n",
       "\n",
       "    .dataframe tbody tr th {\n",
       "        vertical-align: top;\n",
       "    }\n",
       "\n",
       "    .dataframe thead th {\n",
       "        text-align: right;\n",
       "    }\n",
       "</style>\n",
       "<table border=\"1\" class=\"dataframe\">\n",
       "  <thead>\n",
       "    <tr style=\"text-align: right;\">\n",
       "      <th></th>\n",
       "      <th>gender</th>\n",
       "      <th>age</th>\n",
       "      <th>income</th>\n",
       "      <th>family_members</th>\n",
       "      <th>insurance_benefits</th>\n",
       "      <th>distance</th>\n",
       "    </tr>\n",
       "  </thead>\n",
       "  <tbody>\n",
       "    <tr>\n",
       "      <th>100</th>\n",
       "      <td>0.0</td>\n",
       "      <td>0.292308</td>\n",
       "      <td>0.472152</td>\n",
       "      <td>0.166667</td>\n",
       "      <td>0</td>\n",
       "      <td>0.000000</td>\n",
       "    </tr>\n",
       "    <tr>\n",
       "      <th>4915</th>\n",
       "      <td>0.0</td>\n",
       "      <td>0.292308</td>\n",
       "      <td>0.477215</td>\n",
       "      <td>0.166667</td>\n",
       "      <td>0</td>\n",
       "      <td>0.005063</td>\n",
       "    </tr>\n",
       "    <tr>\n",
       "      <th>243</th>\n",
       "      <td>0.0</td>\n",
       "      <td>0.292308</td>\n",
       "      <td>0.467089</td>\n",
       "      <td>0.166667</td>\n",
       "      <td>0</td>\n",
       "      <td>0.005063</td>\n",
       "    </tr>\n",
       "    <tr>\n",
       "      <th>1323</th>\n",
       "      <td>0.0</td>\n",
       "      <td>0.292308</td>\n",
       "      <td>0.456962</td>\n",
       "      <td>0.166667</td>\n",
       "      <td>0</td>\n",
       "      <td>0.015190</td>\n",
       "    </tr>\n",
       "    <tr>\n",
       "      <th>811</th>\n",
       "      <td>0.0</td>\n",
       "      <td>0.307692</td>\n",
       "      <td>0.470886</td>\n",
       "      <td>0.166667</td>\n",
       "      <td>0</td>\n",
       "      <td>0.015437</td>\n",
       "    </tr>\n",
       "  </tbody>\n",
       "</table>\n",
       "</div>"
      ],
      "text/plain": [
       "      gender       age    income  family_members  insurance_benefits  distance\n",
       "100      0.0  0.292308  0.472152        0.166667                   0  0.000000\n",
       "4915     0.0  0.292308  0.477215        0.166667                   0  0.005063\n",
       "243      0.0  0.292308  0.467089        0.166667                   0  0.005063\n",
       "1323     0.0  0.292308  0.456962        0.166667                   0  0.015190\n",
       "811      0.0  0.307692  0.470886        0.166667                   0  0.015437"
      ]
     },
     "metadata": {},
     "output_type": "display_data"
    }
   ],
   "source": [
    "print(\"Scaled + Euclidean\")\n",
    "display(get_knn(df_scaled, row_n, k, \"euclidean\"))"
   ]
  },
  {
   "cell_type": "code",
   "execution_count": 95,
   "metadata": {},
   "outputs": [
    {
     "name": "stdout",
     "output_type": "stream",
     "text": [
      "Scaled + Manhattan\n"
     ]
    },
    {
     "data": {
      "text/html": [
       "<div>\n",
       "<style scoped>\n",
       "    .dataframe tbody tr th:only-of-type {\n",
       "        vertical-align: middle;\n",
       "    }\n",
       "\n",
       "    .dataframe tbody tr th {\n",
       "        vertical-align: top;\n",
       "    }\n",
       "\n",
       "    .dataframe thead th {\n",
       "        text-align: right;\n",
       "    }\n",
       "</style>\n",
       "<table border=\"1\" class=\"dataframe\">\n",
       "  <thead>\n",
       "    <tr style=\"text-align: right;\">\n",
       "      <th></th>\n",
       "      <th>gender</th>\n",
       "      <th>age</th>\n",
       "      <th>income</th>\n",
       "      <th>family_members</th>\n",
       "      <th>insurance_benefits</th>\n",
       "      <th>distance</th>\n",
       "    </tr>\n",
       "  </thead>\n",
       "  <tbody>\n",
       "    <tr>\n",
       "      <th>100</th>\n",
       "      <td>0.0</td>\n",
       "      <td>0.292308</td>\n",
       "      <td>0.472152</td>\n",
       "      <td>0.166667</td>\n",
       "      <td>0</td>\n",
       "      <td>0.000000</td>\n",
       "    </tr>\n",
       "    <tr>\n",
       "      <th>4915</th>\n",
       "      <td>0.0</td>\n",
       "      <td>0.292308</td>\n",
       "      <td>0.477215</td>\n",
       "      <td>0.166667</td>\n",
       "      <td>0</td>\n",
       "      <td>0.005063</td>\n",
       "    </tr>\n",
       "    <tr>\n",
       "      <th>243</th>\n",
       "      <td>0.0</td>\n",
       "      <td>0.292308</td>\n",
       "      <td>0.467089</td>\n",
       "      <td>0.166667</td>\n",
       "      <td>0</td>\n",
       "      <td>0.005063</td>\n",
       "    </tr>\n",
       "    <tr>\n",
       "      <th>1323</th>\n",
       "      <td>0.0</td>\n",
       "      <td>0.292308</td>\n",
       "      <td>0.456962</td>\n",
       "      <td>0.166667</td>\n",
       "      <td>0</td>\n",
       "      <td>0.015190</td>\n",
       "    </tr>\n",
       "    <tr>\n",
       "      <th>811</th>\n",
       "      <td>0.0</td>\n",
       "      <td>0.307692</td>\n",
       "      <td>0.470886</td>\n",
       "      <td>0.166667</td>\n",
       "      <td>0</td>\n",
       "      <td>0.016650</td>\n",
       "    </tr>\n",
       "  </tbody>\n",
       "</table>\n",
       "</div>"
      ],
      "text/plain": [
       "      gender       age    income  family_members  insurance_benefits  distance\n",
       "100      0.0  0.292308  0.472152        0.166667                   0  0.000000\n",
       "4915     0.0  0.292308  0.477215        0.166667                   0  0.005063\n",
       "243      0.0  0.292308  0.467089        0.166667                   0  0.005063\n",
       "1323     0.0  0.292308  0.456962        0.166667                   0  0.015190\n",
       "811      0.0  0.307692  0.470886        0.166667                   0  0.016650"
      ]
     },
     "metadata": {},
     "output_type": "display_data"
    }
   ],
   "source": [
    "print(\"Scaled + Manhattan\")\n",
    "display(get_knn(df_scaled, row_n, k, \"manhattan\"))"
   ]
  },
  {
   "cell_type": "markdown",
   "metadata": {},
   "source": [
    "**Does the data being not scaled affect the kNN algorithm? If so, how does that appear?** \n",
    "<div class=\"alert alert-info\">\n",
    "\n",
    "Yes. When the data is not scaled, features with larger numeric ranges (such as income) dominate the distance calculation.\n",
    "In the unscaled results, the nearest neighbors are chosen primarily by having a very similar income, while differences in age or family size have less influence.\n",
    "After applying MaxAbsScaler, all features contribute on a comparable scale, so the neighbors change — they are now selected based on a more balanced similarity across all features."
   ]
  },
  {
   "cell_type": "markdown",
   "metadata": {},
   "source": [
    "**How similar are the results using the Manhattan distance metric (regardless of the scaling)?** \n",
    "<div class=\"alert alert-info\">\n",
    "\n",
    "The results for Manhattan and Euclidean distances are very similar, especially after scaling.\n",
    "They tend to pick almost the same neighbors and differ only slightly in the ordering of very close points.\n",
    "This is because in low-dimensional, moderately well-behaved data, both distance metrics behave similarly once features are on the same scale."
   ]
  },
  {
   "cell_type": "markdown",
   "metadata": {},
   "source": [
    "# Task 2. Is Customer Likely to Receive Insurance Benefit?"
   ]
  },
  {
   "cell_type": "markdown",
   "metadata": {},
   "source": [
    "With `insurance_benefits` being more than zero as the target, evaluate whether the kNN classification approach can do better than a dummy model.\n",
    "\n",
    "Instructions:\n",
    "- Build a KNN-based classifier and measure its quality with the F1 metric for k=1..10 for both the original data and the scaled one. That'd be interesting to see how k may influece the evaluation metric, and whether scaling the data makes any difference. You can use a ready implemention of the kNN classification algorithm from scikit-learn (check [the link](https://scikit-learn.org/stable/modules/generated/sklearn.neighbors.KNeighborsClassifier.html)) or use your own.\n",
    "- Build the dummy model which is just random for this case. It should return \"1\" with some probability. Let's test the model with four probability values: 0, the probability of paying any insurance benefit, 0.5, 1.\n",
    "\n",
    "The probability of paying any insurance benefit can be defined as\n",
    "\n",
    "$$\n",
    "P\\{\\text{insurance benefit received}\\}=\\frac{\\text{number of clients received any insurance benefit}}{\\text{total number of clients}}.\n",
    "$$\n",
    "\n",
    "Split the whole data in the 70:30 proportion for the training/testing parts."
   ]
  },
  {
   "cell_type": "code",
   "execution_count": 96,
   "metadata": {},
   "outputs": [],
   "source": [
    "# calculate the target\n",
    "\n",
    "df['insurance_benefits_received'] = (df['insurance_benefits']> 0).astype(int)"
   ]
  },
  {
   "cell_type": "code",
   "execution_count": 97,
   "metadata": {},
   "outputs": [],
   "source": [
    "# check for the class imbalance with value_counts()\n",
    "\n",
    "df['insurance_benefits_received'].value_counts(normalize = True)\n",
    "target_col = 'insurance_benefits_received'"
   ]
  },
  {
   "cell_type": "code",
   "execution_count": 98,
   "metadata": {},
   "outputs": [],
   "source": [
    "def eval_classifier(y_true, y_pred):\n",
    "    \n",
    "    f1_score = sklearn.metrics.f1_score(y_true, y_pred)\n",
    "    print(f'F1: {f1_score:.2f}')\n",
    "    \n",
    "# if you have an issue with the following line, restart the kernel and run the notebook again\n",
    "    cm = sklearn.metrics.confusion_matrix(y_true, y_pred, normalize='all')\n",
    "    print('Confusion Matrix')\n",
    "    print(cm)"
   ]
  },
  {
   "cell_type": "code",
   "execution_count": 99,
   "metadata": {},
   "outputs": [],
   "source": [
    "# generating output of a random model\n",
    "\n",
    "def rnd_model_predict(P, size, seed=42):\n",
    "\n",
    "    rng = np.random.default_rng(seed=seed)\n",
    "    return rng.binomial(n=1, p=P, size=size)"
   ]
  },
  {
   "cell_type": "code",
   "execution_count": 100,
   "metadata": {},
   "outputs": [
    {
     "name": "stdout",
     "output_type": "stream",
     "text": [
      "The probability: 0.00\n",
      "F1: 0.00\n",
      "Confusion Matrix\n",
      "[[0.8872 0.    ]\n",
      " [0.1128 0.    ]]\n",
      "\n",
      "The probability: 0.11\n",
      "F1: 0.12\n",
      "Confusion Matrix\n",
      "[[0.7914 0.0958]\n",
      " [0.0994 0.0134]]\n",
      "\n",
      "The probability: 0.50\n",
      "F1: 0.20\n",
      "Confusion Matrix\n",
      "[[0.456  0.4312]\n",
      " [0.053  0.0598]]\n",
      "\n",
      "The probability: 1.00\n",
      "F1: 0.20\n",
      "Confusion Matrix\n",
      "[[0.     0.8872]\n",
      " [0.     0.1128]]\n",
      "\n"
     ]
    }
   ],
   "source": [
    "for P in [0, df['insurance_benefits_received'].sum() / len(df), 0.5, 1]:\n",
    "\n",
    "    print(f'The probability: {P:.2f}')\n",
    "    y_pred_rnd = rnd_model_predict(P, size=len(df), seed = 42)\n",
    "        \n",
    "    eval_classifier(df['insurance_benefits_received'], y_pred_rnd)\n",
    "    \n",
    "    print()"
   ]
  },
  {
   "cell_type": "code",
   "execution_count": 101,
   "metadata": {},
   "outputs": [
    {
     "name": "stdout",
     "output_type": "stream",
     "text": [
      "k-NN F1 by k and scaling\n"
     ]
    },
    {
     "data": {
      "text/html": [
       "<div>\n",
       "<style scoped>\n",
       "    .dataframe tbody tr th:only-of-type {\n",
       "        vertical-align: middle;\n",
       "    }\n",
       "\n",
       "    .dataframe tbody tr th {\n",
       "        vertical-align: top;\n",
       "    }\n",
       "\n",
       "    .dataframe thead th {\n",
       "        text-align: right;\n",
       "    }\n",
       "</style>\n",
       "<table border=\"1\" class=\"dataframe\">\n",
       "  <thead>\n",
       "    <tr style=\"text-align: right;\">\n",
       "      <th>setting</th>\n",
       "      <th>Scaled (MaxAbs)</th>\n",
       "      <th>Unscaled</th>\n",
       "    </tr>\n",
       "    <tr>\n",
       "      <th>k</th>\n",
       "      <th></th>\n",
       "      <th></th>\n",
       "    </tr>\n",
       "  </thead>\n",
       "  <tbody>\n",
       "    <tr>\n",
       "      <th>1</th>\n",
       "      <td>0.949254</td>\n",
       "      <td>0.666667</td>\n",
       "    </tr>\n",
       "    <tr>\n",
       "      <th>2</th>\n",
       "      <td>0.924528</td>\n",
       "      <td>0.401786</td>\n",
       "    </tr>\n",
       "    <tr>\n",
       "      <th>3</th>\n",
       "      <td>0.934985</td>\n",
       "      <td>0.408333</td>\n",
       "    </tr>\n",
       "    <tr>\n",
       "      <th>4</th>\n",
       "      <td>0.899676</td>\n",
       "      <td>0.196891</td>\n",
       "    </tr>\n",
       "    <tr>\n",
       "      <th>5</th>\n",
       "      <td>0.923077</td>\n",
       "      <td>0.231156</td>\n",
       "    </tr>\n",
       "    <tr>\n",
       "      <th>6</th>\n",
       "      <td>0.927445</td>\n",
       "      <td>0.140541</td>\n",
       "    </tr>\n",
       "    <tr>\n",
       "      <th>7</th>\n",
       "      <td>0.941538</td>\n",
       "      <td>0.139785</td>\n",
       "    </tr>\n",
       "    <tr>\n",
       "      <th>8</th>\n",
       "      <td>0.930818</td>\n",
       "      <td>0.057143</td>\n",
       "    </tr>\n",
       "    <tr>\n",
       "      <th>9</th>\n",
       "      <td>0.934985</td>\n",
       "      <td>0.079096</td>\n",
       "    </tr>\n",
       "    <tr>\n",
       "      <th>10</th>\n",
       "      <td>0.914286</td>\n",
       "      <td>0.034682</td>\n",
       "    </tr>\n",
       "  </tbody>\n",
       "</table>\n",
       "</div>"
      ],
      "text/plain": [
       "setting  Scaled (MaxAbs)  Unscaled\n",
       "k                                 \n",
       "1               0.949254  0.666667\n",
       "2               0.924528  0.401786\n",
       "3               0.934985  0.408333\n",
       "4               0.899676  0.196891\n",
       "5               0.923077  0.231156\n",
       "6               0.927445  0.140541\n",
       "7               0.941538  0.139785\n",
       "8               0.930818  0.057143\n",
       "9               0.934985  0.079096\n",
       "10              0.914286  0.034682"
      ]
     },
     "metadata": {},
     "output_type": "display_data"
    }
   ],
   "source": [
    "X = df[feature_names].to_numpy(dtype=float)\n",
    "y = df[target_col].to_numpy(dtype=int)\n",
    "\n",
    "X_train, X_test, y_train, y_test = train_test_split(X, y, test_size=0.30, random_state=123)\n",
    "\n",
    "scaler = sklearn.preprocessing.MaxAbsScaler().fit(X_train)\n",
    "Xtr_scaled = scaler.transform(X_train)\n",
    "Xte_scaled = scaler.transform(X_test)\n",
    "\n",
    "def f1(y_true, y_pred):\n",
    "    return sklearn.metrics.f1_score(y_true, y_pred)\n",
    "\n",
    "rows = []\n",
    "for k in range(1, 11):\n",
    "    knn_u = sklearn.neighbors.KNeighborsClassifier(n_neighbors=k, metric='minkowski', p=2)\n",
    "    knn_u.fit(X_train, y_train)\n",
    "    yhat_u = knn_u.predict(X_test)\n",
    "    rows.append({\"setting\": \"Unscaled\", \"k\": k, \"F1\": f1(y_test, yhat_u)})\n",
    "\n",
    "    knn_s = sklearn.neighbors.KNeighborsClassifier(n_neighbors=k, metric='minkowski', p=2)\n",
    "    knn_s.fit(Xtr_scaled, y_train)\n",
    "    yhat_s = knn_s.predict(Xte_scaled)\n",
    "    rows.append({\"setting\": \"Scaled (MaxAbs)\", \"k\": k, \"F1\": f1(y_test, yhat_s)})\n",
    "\n",
    "knn_results = pd.DataFrame(rows)\n",
    "\n",
    "print(\"k-NN F1 by k and scaling\")\n",
    "display(knn_results.pivot(index=\"k\", columns=\"setting\", values=\"F1\"))"
   ]
  },
  {
   "cell_type": "code",
   "execution_count": 102,
   "metadata": {},
   "outputs": [
    {
     "name": "stdout",
     "output_type": "stream",
     "text": [
      "Best k per setting:\n"
     ]
    },
    {
     "data": {
      "text/html": [
       "<div>\n",
       "<style scoped>\n",
       "    .dataframe tbody tr th:only-of-type {\n",
       "        vertical-align: middle;\n",
       "    }\n",
       "\n",
       "    .dataframe tbody tr th {\n",
       "        vertical-align: top;\n",
       "    }\n",
       "\n",
       "    .dataframe thead th {\n",
       "        text-align: right;\n",
       "    }\n",
       "</style>\n",
       "<table border=\"1\" class=\"dataframe\">\n",
       "  <thead>\n",
       "    <tr style=\"text-align: right;\">\n",
       "      <th></th>\n",
       "      <th>setting</th>\n",
       "      <th>k</th>\n",
       "      <th>F1</th>\n",
       "    </tr>\n",
       "  </thead>\n",
       "  <tbody>\n",
       "    <tr>\n",
       "      <th>0</th>\n",
       "      <td>Scaled (MaxAbs)</td>\n",
       "      <td>1</td>\n",
       "      <td>0.949254</td>\n",
       "    </tr>\n",
       "    <tr>\n",
       "      <th>1</th>\n",
       "      <td>Unscaled</td>\n",
       "      <td>1</td>\n",
       "      <td>0.666667</td>\n",
       "    </tr>\n",
       "  </tbody>\n",
       "</table>\n",
       "</div>"
      ],
      "text/plain": [
       "           setting  k        F1\n",
       "0  Scaled (MaxAbs)  1  0.949254\n",
       "1         Unscaled  1  0.666667"
      ]
     },
     "metadata": {},
     "output_type": "display_data"
    }
   ],
   "source": [
    "best = (knn_results.sort_values([\"setting\",\"F1\"], ascending=[True, False])\n",
    "                    .groupby(\"setting\").head(1).reset_index(drop=True))\n",
    "print(\"Best k per setting:\")\n",
    "display(best)"
   ]
  },
  {
   "cell_type": "code",
   "execution_count": 103,
   "metadata": {},
   "outputs": [
    {
     "data": {
      "text/plain": [
       "Text(0, 0.5, 'F1 score')"
      ]
     },
     "execution_count": 103,
     "metadata": {},
     "output_type": "execute_result"
    },
    {
     "data": {
      "image/png": "[encoded data removed]",
      "text/plain": [
       "<Figure size 640x480 with 1 Axes>"
      ]
     },
     "metadata": {},
     "output_type": "display_data"
    }
   ],
   "source": [
    "ax = sns.lineplot(data=knn_results, x=\"k\", y=\"F1\", hue=\"setting\", marker=\"o\")\n",
    "ax.set_title(\"k-NN F1 vs k (Unscaled vs MaxAbs-Scaled)\")\n",
    "ax.set_xlabel(\"k (neighbors)\")\n",
    "ax.set_ylabel(\"F1 score\")"
   ]
  },
  {
   "cell_type": "markdown",
   "metadata": {},
   "source": [
    "<div class=\"alert alert-info\">\n",
    "\n",
    "#### Key Observations\n",
    "##### Impact of Scaling\n",
    "- On unscaled data, F1-scores were much lower, starting at 0.67 for k = 1 and rapidly declining as k increased (dropping below 0.1 for k ≥ 8).\n",
    "- On scaled data (MaxAbs), F1-scores were consistently high (≈ 0.90–0.95) across all k.\n",
    "- caling prevents income (the largest-magnitude feature) from dominating the distance metric, allowing all features (age, gender, family size) to contribute fairly.\n",
    "\n",
    "##### Best Performance\n",
    "- Both settings peaked at k = 1, but the scaled model achieved a much higher best score:\n",
    "- Scaled (MaxAbs): F1 = 0.949\n",
    "- Unscaled: F1 = 0.667\n",
    "- The scaled model’s F1 stayed robust (> 0.90) even for larger k, showing better generalization.\n",
    "\n",
    "##### Effect of k\n",
    "- For unscaled data, increasing k quickly degraded the classifier’s ability to detect the minority class (customers who received benefits), leading to very low F1.\n",
    "- For scaled data, F1 remained stable across k, indicating the model is less sensitive to k when features are normalized.\n",
    "\n",
    "##### Dummy Random Model and Class Imbalance\n",
    "- The dummy random model confirms the effect of class imbalance:\n",
    "- Always predicting 0 yields F1 = 0, because it never finds a positive case.\n",
    "- Predicting 1 with probability equal to the class prevalence (~11 %) gives a small but non-zero F1 (≈ 0.12).\n",
    "- Predicting with higher probability (0.5 or 1) improves recall but also raises false positives, so F1 rises modestly to ≈ 0.20.\n",
    "- This baseline shows that any trained k-NN classifier must beat F1 ≈ 0.20 to be considered useful — and the scaled k-NN far surpasses that benchmark.\n",
    "\n",
    "##### Insights\n",
    "- Scaling is essential for distance-based algorithms like k-NN.\n",
    "- Proper scaling drastically improved the model’s ability to distinguish the positive class in an imbalanced dataset.\n",
    "- Compared to the random dummy baseline (F1 ≈ 0.20), the scaled k-NN model achieved a huge performance gain (F1 ≈ 0.95), confirming that a well-prepared distance-based classifier can significantly outperform untrained or naive models.\n",
    "- This demonstrates that feature preprocessing can be as important as model choice for fair distance calculations and for handling imbalanced data."
   ]
  },
  {
   "cell_type": "markdown",
   "metadata": {},
   "source": [
    "# Task 3. Regression (with Linear Regression)"
   ]
  },
  {
   "cell_type": "markdown",
   "metadata": {},
   "source": [
    "With `insurance_benefits` as the target, evaluate what RMSE would be for a Linear Regression model."
   ]
  },
  {
   "cell_type": "markdown",
   "metadata": {},
   "source": [
    "Build your own implementation of LR. For that, recall how the linear regression task's solution is formulated in terms of LA. Check RMSE for both the original data and the scaled one. Can you see any difference in RMSE between these two cases?\n",
    "\n",
    "Let's denote\n",
    "- $X$ — feature matrix, each row is a case, each column is a feature, the first column consists of unities\n",
    "- $y$ — target (a vector)\n",
    "- $\\hat{y}$ — estimated tagret (a vector)\n",
    "- $w$ — weight vector\n",
    "\n",
    "The task of linear regression in the language of matrices can be formulated as\n",
    "\n",
    "$$\n",
    "y = Xw\n",
    "$$\n",
    "\n",
    "The training objective then is to find such $w$ that it would minimize the L2-distance (MSE) between $Xw$ and $y$:\n",
    "\n",
    "$$\n",
    "\\min_w d_2(Xw, y) \\quad \\text{or} \\quad \\min_w \\text{MSE}(Xw, y)\n",
    "$$\n",
    "\n",
    "It appears that there is analytical solution for the above:\n",
    "\n",
    "$$\n",
    "w = (X^T X)^{-1} X^T y\n",
    "$$\n",
    "\n",
    "The formula above can be used to find the weights $w$ and the latter can be used to calculate predicted values\n",
    "\n",
    "$$\n",
    "\\hat{y} = X_{val}w\n",
    "$$"
   ]
  },
  {
   "cell_type": "markdown",
   "metadata": {},
   "source": [
    "Split the whole data in the 70:30 proportion for the training/validation parts. Use the RMSE metric for the model evaluation."
   ]
  },
  {
   "cell_type": "code",
   "execution_count": 104,
   "metadata": {},
   "outputs": [],
   "source": [
    "class MyLinearRegression:\n",
    "    \n",
    "    def __init__(self):\n",
    "        \n",
    "        self.weights = None\n",
    "    \n",
    "    def fit(self, X, y):\n",
    "        \n",
    "        # adding the unities\n",
    "        X2 = np.append(np.ones([len(X), 1]), X, axis=1)\n",
    "        self.weights = np.linalg.inv(X2.T @ X2) @ X2.T @ y\n",
    "\n",
    "    def predict(self, X):\n",
    "        \n",
    "        # adding the unities\n",
    "        X2 = np.append(np.ones([len(X), 1]), X, axis = 1)\n",
    "        y_pred = X2 @ self.weights\n",
    "        \n",
    "        return y_pred"
   ]
  },
  {
   "cell_type": "code",
   "execution_count": 105,
   "metadata": {},
   "outputs": [],
   "source": [
    "def eval_regressor(y_true, y_pred, label=''):\n",
    "    \n",
    "    rmse = np.sqrt(sklearn.metrics.mean_squared_error(y_true, y_pred))\n",
    "    print(f'RMSE: {rmse:.2f}')\n",
    "    \n",
    "    r2_score = np.sqrt(sklearn.metrics.r2_score(y_true, y_pred))\n",
    "    print(f'R2: {r2_score:.2f}') \n",
    "    return rmse, r2_score"
   ]
  },
  {
   "cell_type": "code",
   "execution_count": 106,
   "metadata": {},
   "outputs": [
    {
     "name": "stdout",
     "output_type": "stream",
     "text": [
      "[-9.43539012e-01  3.57495491e-02  1.64272726e-02 -2.60743659e-07\n",
      " -1.16902127e-02]\n",
      "RMSE: 0.34\n",
      "R2: 0.66\n"
     ]
    },
    {
     "data": {
      "text/plain": [
       "(0.3435565089137969, 0.6561462140777121)"
      ]
     },
     "execution_count": 106,
     "metadata": {},
     "output_type": "execute_result"
    }
   ],
   "source": [
    "X = df[['age', 'gender', 'income', 'family_members']].to_numpy()\n",
    "y = df['insurance_benefits'].to_numpy()\n",
    "\n",
    "X_train, X_test, y_train, y_test = train_test_split(X, y, test_size=0.3, random_state=12345)\n",
    "\n",
    "lr = MyLinearRegression()\n",
    "\n",
    "lr.fit(X_train, y_train)\n",
    "print(lr.weights)\n",
    "\n",
    "y_test_pred = lr.predict(X_test)\n",
    "eval_regressor(y_test, y_test_pred)"
   ]
  },
  {
   "cell_type": "code",
   "execution_count": 107,
   "metadata": {},
   "outputs": [
    {
     "name": "stdout",
     "output_type": "stream",
     "text": [
      "RMSE: 0.34\n",
      "R2: 0.66\n"
     ]
    }
   ],
   "source": [
    "X = df[['age', 'gender', 'income', 'family_members']].to_numpy()\n",
    "y = df['insurance_benefits'].to_numpy()\n",
    "\n",
    "X_tr, X_te, y_tr, y_te = train_test_split(X, y, test_size=0.30, random_state=12345)\n",
    "\n",
    "lr_unscaled = MyLinearRegression()\n",
    "lr_unscaled.fit(X_tr, y_tr)\n",
    "yhat_unscaled = lr_unscaled.predict(X_te)\n",
    "rmse_u, r2_u = eval_regressor(y_te, yhat_unscaled, label=\"[Unscaled]\")"
   ]
  },
  {
   "cell_type": "code",
   "execution_count": 108,
   "metadata": {},
   "outputs": [
    {
     "name": "stdout",
     "output_type": "stream",
     "text": [
      "RMSE: 0.34\n",
      "R2: 0.66\n"
     ]
    }
   ],
   "source": [
    "X_s = df_scaled[['age', 'gender', 'income', 'family_members']].to_numpy()\n",
    "y_s = df_scaled['insurance_benefits'].to_numpy()  # same target values\n",
    "\n",
    "Xs_tr, Xs_te, ys_tr, ys_te = train_test_split(X_s, y_s, test_size=0.30, random_state=12345)\n",
    "\n",
    "lr_scaled = MyLinearRegression()\n",
    "lr_scaled.fit(Xs_tr, ys_tr)\n",
    "yhat_scaled = lr_scaled.predict(Xs_te)\n",
    "rmse_s, r2_s = eval_regressor(ys_te, yhat_scaled, label=\"[Scaled]\")"
   ]
  },
  {
   "cell_type": "code",
   "execution_count": 109,
   "metadata": {},
   "outputs": [
    {
     "name": "stdout",
     "output_type": "stream",
     "text": [
      "Max |prediction_unscaled - prediction_scaled| = 6.439293542826e-15\n"
     ]
    }
   ],
   "source": [
    "max_abs_diff = float(np.max(np.abs(yhat_unscaled - yhat_scaled)))\n",
    "print(f\"Max |prediction_unscaled - prediction_scaled| = {max_abs_diff:.12e}\")"
   ]
  },
  {
   "cell_type": "markdown",
   "metadata": {},
   "source": [
    "<div class=\"alert alert-info\">\n",
    "\n",
    "##### Key Result\n",
    "- Training and evaluating the custom MyLinearRegression model on both the original and the MaxAbs-scaled feature sets produced identical predictive performance:\n",
    "- $RMSE ≈ 0.34$\n",
    "- $R² ≈ 0.66$\n",
    "- The maximum difference between the two models’ predictions was essentially zero (≈ $6.4 × 10⁻¹⁵$), confirming that scaling had no effect on predictions.\n",
    "\n",
    "##### Why Scaling Does Not Matter Here\n",
    "- Linear regression computes the best linear projection of y onto the column space of X.\n",
    "- Scaling the columns of X by a constant (as MaxAbsScaler does) simply rescales the corresponding coefficients in w but does not change the predicted values after the model is re-fit:\n",
    "$$\\hat y = X w = (X P)\\,(P^{-1} w)$$\n",
    "- Therefore, $RMSE$ and $R²$ remain unchanged.\n",
    "- Any small discrepancy observed is due only to floating-point rounding.\n",
    "\n",
    "##### Takeaway\n",
    "- Distance-based algorithms (like k-NN) benefit greatly from feature scaling, as shown in Task 2.\n",
    "- In contrast, ordinary least-squares linear regression is invariant to scaling — the model automatically compensates by adjusting its coefficients.\n",
    "- This means that for linear regression, scaling is not required for performance, though it can still be useful for numerical stability or interpretability in some cases.\n",
    "\n",
    "##### Overall:\n",
    "We have empirically confirmed the theoretical property that linear regression’s predictive accuracy does not change under linear rescaling of features. This complements the earlier tasks by showing how the effect of scaling depends strongly on the type of model used."
   ]
  },
  {
   "cell_type": "markdown",
   "metadata": {},
   "source": [
    "# Task 4. Obfuscating Data"
   ]
  },
  {
   "cell_type": "markdown",
   "metadata": {},
   "source": [
    "It best to obfuscate data by multiplying the numerical features (remember, they can be seen as the matrix $X$) by an invertible matrix $P$. \n",
    "\n",
    "$$\n",
    "X' = X \\times P\n",
    "$$\n",
    "\n",
    "Try to do that and check how the features' values will look like after the transformation. By the way, the intertible property is important here so make sure that $P$ is indeed invertible.\n",
    "\n",
    "You may want to review the 'Matrices and Matrix Operations -> Matrix Multiplication' lesson to recall the rule of matrix multiplication and its implementation with NumPy."
   ]
  },
  {
   "cell_type": "code",
   "execution_count": 110,
   "metadata": {},
   "outputs": [],
   "source": [
    "personal_info_column_list = ['gender', 'age', 'income', 'family_members']\n",
    "df_pn = df[personal_info_column_list]"
   ]
  },
  {
   "cell_type": "code",
   "execution_count": 111,
   "metadata": {},
   "outputs": [],
   "source": [
    "X = df_pn.to_numpy()"
   ]
  },
  {
   "cell_type": "markdown",
   "metadata": {},
   "source": [
    "Generating a random matrix $P$."
   ]
  },
  {
   "cell_type": "code",
   "execution_count": 112,
   "metadata": {},
   "outputs": [],
   "source": [
    "rng = np.random.default_rng(seed=42)\n",
    "P = rng.random(size=(X.shape[1], X.shape[1]))"
   ]
  },
  {
   "cell_type": "markdown",
   "metadata": {},
   "source": [
    "Checking the matrix $P$ is invertible"
   ]
  },
  {
   "cell_type": "code",
   "execution_count": 113,
   "metadata": {},
   "outputs": [
    {
     "name": "stdout",
     "output_type": "stream",
     "text": [
      "[[ 0.41467992 -1.43783972  0.62798546  1.14001268]\n",
      " [-1.06101789  0.44219337  0.1329549   1.18425933]\n",
      " [ 1.42362442  1.60461607 -2.0553823  -1.53699695]\n",
      " [-0.11128575 -0.65813802  1.74995517 -0.11816316]]\n"
     ]
    }
   ],
   "source": [
    "p_invert = np.linalg.inv(P)\n",
    "print(p_invert)"
   ]
  },
  {
   "cell_type": "markdown",
   "metadata": {},
   "source": [
    "Can you guess the customers' ages or income after the transformation?"
   ]
  },
  {
   "cell_type": "markdown",
   "metadata": {},
   "source": [
    "<div class=\"alert alert-info\">\n",
    "    \n",
    "No — you cannot meaningfully “guess” individual customers’ ages or income after such a transformation if P is kept private.\n",
    "The transformed data only reveals abstract directions in feature space, not interpretable quantities like years or dollars."
   ]
  },
  {
   "cell_type": "markdown",
   "metadata": {},
   "source": [
    "Can you recover the original data from $X'$ if you know $P$? Try to check that with calculations by moving $P$ from the right side of the formula above to the left one. The rules of matrix multiplcation are really helpful here."
   ]
  },
  {
   "cell_type": "markdown",
   "metadata": {},
   "source": [
    "<div class=\"alert alert-info\">\n",
    "\n",
    "Yes. If $X’ = X P$ and $P$ is invertible, multiply on the right by $P^{-1}$:\n",
    "\n",
    "$X’ P^{-1} = X P P^{-1} = X I = X  X = X’ P^{-1}$"
   ]
  },
  {
   "cell_type": "markdown",
   "metadata": {},
   "source": [
    "\n",
    "Print all three cases for a few customers\n",
    "- The original data\n",
    "- The transformed one\n",
    "- The reversed (recovered) one\n"
   ]
  },
  {
   "cell_type": "code",
   "execution_count": 114,
   "metadata": {},
   "outputs": [
    {
     "name": "stdout",
     "output_type": "stream",
     "text": [
      "Original, Transformed, and Recovered features for a few customers:\n"
     ]
    },
    {
     "data": {
      "text/html": [
       "<div>\n",
       "<style scoped>\n",
       "    .dataframe tbody tr th:only-of-type {\n",
       "        vertical-align: middle;\n",
       "    }\n",
       "\n",
       "    .dataframe tbody tr th {\n",
       "        vertical-align: top;\n",
       "    }\n",
       "\n",
       "    .dataframe thead th {\n",
       "        text-align: right;\n",
       "    }\n",
       "</style>\n",
       "<table border=\"1\" class=\"dataframe\">\n",
       "  <thead>\n",
       "    <tr style=\"text-align: right;\">\n",
       "      <th></th>\n",
       "      <th>age(orig)</th>\n",
       "      <th>gender(orig)</th>\n",
       "      <th>income(orig)</th>\n",
       "      <th>family(orig)</th>\n",
       "      <th>T1</th>\n",
       "      <th>T2</th>\n",
       "      <th>T3</th>\n",
       "      <th>T4</th>\n",
       "      <th>age(recov)</th>\n",
       "      <th>gender(recov)</th>\n",
       "      <th>income(recov)</th>\n",
       "      <th>family(recov)</th>\n",
       "    </tr>\n",
       "  </thead>\n",
       "  <tbody>\n",
       "    <tr>\n",
       "      <th>4885</th>\n",
       "      <td>0.0</td>\n",
       "      <td>25.0</td>\n",
       "      <td>42800.0</td>\n",
       "      <td>3.0</td>\n",
       "      <td>5487.5495</td>\n",
       "      <td>19303.3770</td>\n",
       "      <td>15890.5142</td>\n",
       "      <td>39685.8748</td>\n",
       "      <td>-0.0</td>\n",
       "      <td>25.0</td>\n",
       "      <td>42800.0</td>\n",
       "      <td>3.0</td>\n",
       "    </tr>\n",
       "    <tr>\n",
       "      <th>2662</th>\n",
       "      <td>0.0</td>\n",
       "      <td>22.0</td>\n",
       "      <td>33800.0</td>\n",
       "      <td>1.0</td>\n",
       "      <td>4332.9566</td>\n",
       "      <td>15245.3312</td>\n",
       "      <td>12550.1617</td>\n",
       "      <td>31342.1773</td>\n",
       "      <td>-0.0</td>\n",
       "      <td>22.0</td>\n",
       "      <td>33800.0</td>\n",
       "      <td>1.0</td>\n",
       "    </tr>\n",
       "    <tr>\n",
       "      <th>587</th>\n",
       "      <td>0.0</td>\n",
       "      <td>33.0</td>\n",
       "      <td>51700.0</td>\n",
       "      <td>1.0</td>\n",
       "      <td>6627.2265</td>\n",
       "      <td>23317.9713</td>\n",
       "      <td>19195.8189</td>\n",
       "      <td>47939.9173</td>\n",
       "      <td>-0.0</td>\n",
       "      <td>33.0</td>\n",
       "      <td>51700.0</td>\n",
       "      <td>1.0</td>\n",
       "    </tr>\n",
       "    <tr>\n",
       "      <th>2136</th>\n",
       "      <td>1.0</td>\n",
       "      <td>37.0</td>\n",
       "      <td>60100.0</td>\n",
       "      <td>3.0</td>\n",
       "      <td>7705.8194</td>\n",
       "      <td>27107.2001</td>\n",
       "      <td>22315.3123</td>\n",
       "      <td>55729.0393</td>\n",
       "      <td>1.0</td>\n",
       "      <td>37.0</td>\n",
       "      <td>60100.0</td>\n",
       "      <td>3.0</td>\n",
       "    </tr>\n",
       "    <tr>\n",
       "      <th>1578</th>\n",
       "      <td>1.0</td>\n",
       "      <td>30.0</td>\n",
       "      <td>46000.0</td>\n",
       "      <td>1.0</td>\n",
       "      <td>5897.4702</td>\n",
       "      <td>20748.2835</td>\n",
       "      <td>17080.8453</td>\n",
       "      <td>42655.6960</td>\n",
       "      <td>1.0</td>\n",
       "      <td>30.0</td>\n",
       "      <td>46000.0</td>\n",
       "      <td>1.0</td>\n",
       "    </tr>\n",
       "  </tbody>\n",
       "</table>\n",
       "</div>"
      ],
      "text/plain": [
       "      age(orig)  gender(orig)  income(orig)  family(orig)         T1  \\\n",
       "4885        0.0          25.0       42800.0           3.0  5487.5495   \n",
       "2662        0.0          22.0       33800.0           1.0  4332.9566   \n",
       "587         0.0          33.0       51700.0           1.0  6627.2265   \n",
       "2136        1.0          37.0       60100.0           3.0  7705.8194   \n",
       "1578        1.0          30.0       46000.0           1.0  5897.4702   \n",
       "\n",
       "              T2          T3          T4  age(recov)  gender(recov)  \\\n",
       "4885  19303.3770  15890.5142  39685.8748        -0.0           25.0   \n",
       "2662  15245.3312  12550.1617  31342.1773        -0.0           22.0   \n",
       "587   23317.9713  19195.8189  47939.9173        -0.0           33.0   \n",
       "2136  27107.2001  22315.3123  55729.0393         1.0           37.0   \n",
       "1578  20748.2835  17080.8453  42655.6960         1.0           30.0   \n",
       "\n",
       "      income(recov)  family(recov)  \n",
       "4885        42800.0            3.0  \n",
       "2662        33800.0            1.0  \n",
       "587         51700.0            1.0  \n",
       "2136        60100.0            3.0  \n",
       "1578        46000.0            1.0  "
      ]
     },
     "metadata": {},
     "output_type": "display_data"
    }
   ],
   "source": [
    "idx = np.random.choice(len(X), size=5, replace=False)\n",
    "\n",
    "# Original data (unscaled)\n",
    "X_orig = X[idx]\n",
    "\n",
    "# Transformed data\n",
    "X_trans = X_orig @ P\n",
    "\n",
    "# Recovered data\n",
    "X_recov = X_trans @ np.linalg.inv(P)\n",
    "\n",
    "df_compare = pd.DataFrame(\n",
    "    np.hstack([X_orig, X_trans, X_recov]),\n",
    "    columns=[\n",
    "        'age(orig)', 'gender(orig)', 'income(orig)', 'family(orig)',\n",
    "        'T1', 'T2', 'T3', 'T4',\n",
    "        'age(recov)', 'gender(recov)', 'income(recov)', 'family(recov)'\n",
    "    ]\n",
    ")\n",
    "df_compare.index = idx\n",
    "print(\"Original, Transformed, and Recovered features for a few customers:\")\n",
    "display(df_compare.round(4))"
   ]
  },
  {
   "cell_type": "markdown",
   "metadata": {},
   "source": [
    "You can probably see that some values are not exactly the same as they are in the original data. What might be the reason for that?"
   ]
  },
  {
   "cell_type": "markdown",
   "metadata": {},
   "source": [
    "<div class=\"alert alert-info\">\n",
    "    \n",
    "We applied a linear transformation to the original feature matrix X using a random invertible matrix P, producing transformed data $X’ = X P$. This step masked the original features such as age and income, making them appear as arbitrary mixed numbers without interpretable meaning.\n",
    "\n",
    "To verify the privacy mechanism and its reversibility, we recovered the original data using the inverse of the transformation matrix:\n",
    "\n",
    "$X = X’ P^{-1}$\n",
    "\n",
    "We compared the original, transformed, and recovered data for several customers. The transformed features were unrecognizable combinations of the original features, while the recovered data matched the original values almost exactly.\n",
    "\n",
    "A few very small discrepancies (e.g., –0.0 instead of 0.0 or tiny decimal differences) appeared in the recovered data. These differences are due to floating-point rounding errors in matrix multiplication and inversion, not due to the transformation itself.\n",
    "\n",
    "Key Points:\n",
    "\t•\tWithout knowing P, it’s practically impossible to infer original features like age or income from the transformed data.\n",
    "\t•\tWith knowledge of P, the original data can be accurately reconstructed.\n",
    "\t•\tMinor numerical differences are expected and negligible for practical purposes.\n",
    "\n",
    "This demonstrates that the linear transformation provides effective data masking while preserving the ability to recover the original data if the transformation matrix is securely stored."
   ]
  },
  {
   "cell_type": "markdown",
   "metadata": {},
   "source": [
    "## Proof That Data Obfuscation Can Work with LR"
   ]
  },
  {
   "cell_type": "markdown",
   "metadata": {},
   "source": [
    "The regression task has been solved with linear regression in this project. Your next task is to prove _analytically_ that the given obfuscation method won't affect linear regression in terms of predicted values i.e. their values will remain the same. Can you believe that? Well, you don't have to, you should prove it!"
   ]
  },
  {
   "cell_type": "markdown",
   "metadata": {},
   "source": [
    "So, the data is obfuscated and there is $X \\times P$ instead of just $X$ now. Consequently, there are other weights $w_P$ as\n",
    "$$\n",
    "w = (X^T X)^{-1} X^T y \\quad \\Rightarrow \\quad w_P = [(XP)^T XP]^{-1} (XP)^T y\n",
    "$$\n",
    "\n",
    "How would $w$ and $w_P$ be linked if you simplify the formula for $w_P$ above? \n",
    "\n",
    "What would be predicted values with $w_P$? \n",
    "\n",
    "What does that mean for the quality of linear regression if you measure it with RMSE?\n",
    "\n",
    "Check Appendix B Properties of Matrices in the end of the notebook. There are useful formulas in there!\n",
    "\n",
    "No code is necessary in this section, only analytical explanation!"
   ]
  },
  {
   "cell_type": "markdown",
   "metadata": {},
   "source": [
    "**Answer**"
   ]
  },
  {
   "cell_type": "markdown",
   "metadata": {},
   "source": [
    "<div class=\"alert alert-info\">\n",
    "\n",
    "- The coefficients relate by $w_P = P^{-1} w$ (equivalently, $w = P\\,w_P$).\n",
    "- Predictions with the transformed design are $\\hat y_P = (X P)w_P = Xw = \\hat y$.\n",
    "- Therefore any prediction–based metric (e.g., RMSE) is unchanged by the invertible linear obfuscation $X’ = X P$."
   ]
  },
  {
   "cell_type": "markdown",
   "metadata": {},
   "source": [
    "**Analytical proof**"
   ]
  },
  {
   "cell_type": "markdown",
   "metadata": {},
   "source": [
    "<div class=\"alert alert-info\">\n",
    "    \n",
    "Let $X\\in\\mathbb{R}^{n\\times d}$ be the feature matrix (without the intercept column), $y\\in\\mathbb{R}^{n}$ the target, and let $P\\in\\mathbb{R}^{d\\times d}$ be **invertible**.  \n",
    "Define the obfuscated design $X' = X P$.  \n",
    "\n",
    "Ordinary least squares gives\n",
    "$w = (X^{\\!\\top} X)^{-1} X^{\\!\\top} y))$\n",
    "$w_P = (X')^{\\!\\top} X'\\big]^{-1} (X')^{\\!\\top} y$\n",
    "\n",
    "Using $(X' = X P)$ and matrix identities  \n",
    "$(AB)^{\\!\\top} = B^{\\!\\top}A^{\\!\\top})$,   \n",
    "$((ABC)^{-1} = C^{-1} B^{-1} A^{-1}$, we have:\n",
    "\\\n",
    "\\begin{aligned}\n",
    "&w_P=(XP)^{\\!\\top} (XP)\\big]^{-1} (XP)^{\\!\\top} y \\\\\n",
    "&= \\big(P^{\\!\\top} X^{\\!\\top} X P\\big)^{-1} \\, P^{\\!\\top} X^{\\!\\top} y\\\\\n",
    "&= P^{-1} (X^{\\!\\top} X)^{-1} (P^{\\!\\top})^{-1} \\, P^{\\!\\top} X^{\\!\\top} y\\\\\n",
    "&= P^{-1} (X^{\\!\\top} X)^{-1} X^{\\!\\top} y\\\\\n",
    "&= P^{-1} w\n",
    "\\end{aligned}\n",
    "\n",
    "Hence\n",
    "$w_P = P^{-1} w \\quad\\Longleftrightarrow\\quad w = P\\, w_P$\n",
    "\n",
    "---\n",
    "\n",
    "### Predictions under the transformed model\n",
    "$hat y_P = X' w_P = (X P) w_P = X (P w_P) = X w = \\hat y$\n",
    "\n",
    "Thus, for every observation the predicted value is **identical** to that from the original model.\n",
    "\n",
    "---\n",
    "\n",
    "### Implication for RMSE\n",
    "Because $\\hat y_P = \\hat y$, any prediction-based metric, including RMSE, is **unchanged**:\n",
    "$\\mathrm{RMSE}(y, \\hat y_P) = \\mathrm{RMSE}(y, \\hat y)$\n",
    "\n",
    "---\n",
    "\n",
    "**Remark:**  \n",
    "If an intercept is included, either  \n",
    "(i) add the column of ones after the $(X P)$ transform, or  \n",
    "(ii) apply a block transform $\\tilde P = \\operatorname{diag}(1, P)$ to $\\mathbf{1}\\; X$;  \n",
    "the same conclusions hold."
   ]
  },
  {
   "cell_type": "markdown",
   "metadata": {},
   "source": [
    "## Test Linear Regression With Data Obfuscation"
   ]
  },
  {
   "cell_type": "markdown",
   "metadata": {},
   "source": [
    "Now, let's prove Linear Regression can work computationally with the chosen obfuscation transformation.\n",
    "\n",
    "Build a procedure or a class that runs Linear Regression optionally with the obfuscation. You can use either a ready implementation of Linear Regression from sciki-learn or your own.\n",
    "\n",
    "Run Linear Regression for the original data and the obfuscated one, compare the predicted values and the RMSE, $R^2$ metric values. Is there any difference?"
   ]
  },
  {
   "cell_type": "markdown",
   "metadata": {},
   "source": [
    "**Procedure**\n",
    "\n",
    "- Create a square matrix $P$ of random numbers.\n",
    "- Check that it is invertible. If not, repeat the first point until we get an invertible matrix.\n",
    "- <! your comment here !>\n",
    "- Use $XP$ as the new feature matrix"
   ]
  },
  {
   "cell_type": "code",
   "execution_count": 115,
   "metadata": {},
   "outputs": [],
   "source": [
    "def rmse(y_true, y_pred):\n",
    "    return sklearn.metrics.mean_squared_error(y_true, y_pred, squared=False)\n",
    "\n",
    "def make_invertible_P(d, seed=42, max_tries=100):\n",
    "    rng = np.random.default_rng(seed)\n",
    "    for _ in range(max_tries):\n",
    "        P = rng.random((d, d))\n",
    "        if np.linalg.matrix_rank(P) == d and np.linalg.cond(P) < 1e8:\n",
    "            return P\n",
    "    raise RuntimeError(\"Failed to generate a well-conditioned invertible P.\")"
   ]
  },
  {
   "cell_type": "code",
   "execution_count": 116,
   "metadata": {},
   "outputs": [],
   "source": [
    "class LRWithObfuscation:\n",
    "\n",
    "    def __init__(self, use_obfuscation=False, P=None):\n",
    "        self.use_obfuscation = use_obfuscation\n",
    "        self.P = P          # (d x d) or None\n",
    "        self.model = sklearn.linear_model.LinearRegression()  \n",
    "        \n",
    "    def _maybe_transform(self, X):\n",
    "        if self.use_obfuscation:\n",
    "            if self.P is None:\n",
    "                raise ValueError(\"P must be provided when use_obfuscation=True.\")\n",
    "            return X @ self.P\n",
    "        return X\n",
    "\n",
    "    def fit(self, X, y):\n",
    "        X_t = self._maybe_transform(X)\n",
    "        self.model.fit(X_t, y)\n",
    "        return self\n",
    "\n",
    "    def predict(self, X):\n",
    "        X_t = self._maybe_transform(X)\n",
    "        return self.model.predict(X_t)\n"
   ]
  },
  {
   "cell_type": "code",
   "execution_count": 117,
   "metadata": {},
   "outputs": [],
   "source": [
    "feature_names = ['gender', 'age', 'income', 'family_members']\n",
    "target_col = 'insurance_benefits' \n",
    "\n",
    "X = df[feature_names].to_numpy(dtype=float)\n",
    "y = df[target_col].to_numpy(dtype=float)\n",
    "\n",
    "\n",
    "X_train, X_test, y_train, y_test = train_test_split(\n",
    "    X, y, test_size=0.30, random_state=123, shuffle=True)\n",
    "\n",
    "\n",
    "d = X.shape[1]\n",
    "P = make_invertible_P(d, seed=42)"
   ]
  },
  {
   "cell_type": "markdown",
   "metadata": {},
   "source": [
    "<div class=\"alert alert-info\">\n",
    "    \n",
    "We apply $P$ ONLY to the feature matrix (no intercept mixing).\n",
    "Because LinearRegression refits in the transformed space, predictions should match the original-space predictions theoretically (up to float rounding).\n"
   ]
  },
  {
   "cell_type": "code",
   "execution_count": 118,
   "metadata": {},
   "outputs": [
    {
     "data": {
      "text/html": [
       "<div>\n",
       "<style scoped>\n",
       "    .dataframe tbody tr th:only-of-type {\n",
       "        vertical-align: middle;\n",
       "    }\n",
       "\n",
       "    .dataframe tbody tr th {\n",
       "        vertical-align: top;\n",
       "    }\n",
       "\n",
       "    .dataframe thead th {\n",
       "        text-align: right;\n",
       "    }\n",
       "</style>\n",
       "<table border=\"1\" class=\"dataframe\">\n",
       "  <thead>\n",
       "    <tr style=\"text-align: right;\">\n",
       "      <th></th>\n",
       "      <th>setting</th>\n",
       "      <th>RMSE</th>\n",
       "      <th>R2</th>\n",
       "    </tr>\n",
       "  </thead>\n",
       "  <tbody>\n",
       "    <tr>\n",
       "      <th>0</th>\n",
       "      <td>Original</td>\n",
       "      <td>0.354895</td>\n",
       "      <td>0.426193</td>\n",
       "    </tr>\n",
       "    <tr>\n",
       "      <th>1</th>\n",
       "      <td>Obfuscated (X @ P)</td>\n",
       "      <td>0.354895</td>\n",
       "      <td>0.426193</td>\n",
       "    </tr>\n",
       "  </tbody>\n",
       "</table>\n",
       "</div>"
      ],
      "text/plain": [
       "              setting      RMSE        R2\n",
       "0            Original  0.354895  0.426193\n",
       "1  Obfuscated (X @ P)  0.354895  0.426193"
      ]
     },
     "metadata": {},
     "output_type": "display_data"
    },
    {
     "name": "stdout",
     "output_type": "stream",
     "text": [
      "Max |prediction_orig - prediction_obfuscated| = 2.590594405660e-12\n"
     ]
    }
   ],
   "source": [
    "lr_orig = LRWithObfuscation(use_obfuscation=False).fit(X_train, y_train)\n",
    "y_pred_orig = lr_orig.predict(X_test)\n",
    "rmse_orig = rmse(y_test, y_pred_orig)\n",
    "r2_orig = sklearn.metrics.r2_score(y_test, y_pred_orig)\n",
    "\n",
    "\n",
    "lr_obf = LRWithObfuscation(use_obfuscation=True, P=P).fit(X_train, y_train)\n",
    "y_pred_obf = lr_obf.predict(X_test)\n",
    "rmse_obf = rmse(y_test, y_pred_obf)\n",
    "r2_obf = sklearn.metrics.r2_score(y_test, y_pred_obf)\n",
    "\n",
    "results = pd.DataFrame({\n",
    "    \"setting\": [\"Original\", \"Obfuscated (X @ P)\"],\n",
    "    \"RMSE\":    [rmse_orig, rmse_obf],\n",
    "    \"R2\":      [r2_orig, r2_obf]\n",
    "})\n",
    "display(results)\n",
    "\n",
    "max_abs_diff = float(np.max(np.abs(y_pred_orig - y_pred_obf)))\n",
    "print(f\"Max |prediction_orig - prediction_obfuscated| = {max_abs_diff:.12e}\")"
   ]
  },
  {
   "cell_type": "markdown",
   "metadata": {},
   "source": [
    "<div class=\"alert alert-info\">\n",
    "\n",
    "    \n",
    "This verifies that linear regression is invariant to invertible linear transformations of the features (when refitted in the transformed space).\n",
    "The transformation $X’ = X P$ merely re-parametrizes the coefficients as $w_P = P^{-1} w$, but predictions and hence all prediction-based metrics ($RMSE, R^2,$ etc.) remain unchanged.\n"
   ]
  },
  {
   "cell_type": "markdown",
   "metadata": {},
   "source": [
    "# Conclusions"
   ]
  },
  {
   "cell_type": "markdown",
   "metadata": {},
   "source": [
    "<div class=\"alert alert-info\">\n",
    "    \n",
    "### Final Conclusion\n",
    "\n",
    "In this project we explored several key tasks for the Sure Tomorrow insurance company and demonstrated how machine learning — particularly k-Nearest Neighbors and Linear Regression — can be applied effectively, even under data-obfuscation for privacy.\n",
    "\n",
    "#### Key Findings\n",
    "\n",
    "##### Data Quality\n",
    "- The dataset was clean: no missing values, realistic ranges for age, income, and family size.\n",
    "- The target variable, number of insurance benefits, was highly imbalanced $(≈ 11 % positives)$, which impacts classification metrics.\n",
    "  \n",
    "##### Task 1 — Similar Customers\n",
    "- Implemented $k-NN$ similarity search.\n",
    "- Showed that scaling the data (via MaxAbsScaler) affects neighbor selection: without scaling, income dominates distances.\n",
    "- Manhattan and Euclidean distances produced very similar neighbor sets once features were scaled.\n",
    "  \n",
    "##### Task 2 — Binary Classification\n",
    "- Built k-NN classifiers for $k = 1…10$ and compared them to random dummy baselines.\n",
    "- Scaling had a dramatic impact:\n",
    "\t•\tBest unscaled model $(k = 1)$ achieved $F1 ≈ 0.67$.\n",
    "\t•\tScaled models achieved $F1 ≈ 0.90–0.95$ across most k, showing far more stable and robust performance.\n",
    "- Dummy random baseline confirmed class imbalance effects:\n",
    "\t•\tAlways predicting $0 → F1 = 0$.\n",
    "\t•\tPredicting 1 with probability ≈ class prevalence $(~11 %) → F1 ≈ 0.12$.\n",
    "\t•\tPredicting with higher probabilities $(0.5 or 1) → F1 ≈ 0.20$.\n",
    "- These baselines highlight that any useful classifier must beat $F1 ≈ 0.20$; the scaled k-NN classifier far exceeded this benchmark, confirming that a trained model is both useful and necessary.\n",
    "\n",
    "##### Task 3 — Regression\n",
    "- Implemented Linear Regression (custom LA-based and sklearn).\n",
    "- Verified numerically that scaling the features made essentially no difference to performance:\n",
    "\t•\t$RMSE ≈ 0.34$, $R² ≈ 0.66$ for both unscaled and MaxAbs-scaled data.\n",
    "- Reason: OLS regression is invariant to linear rescaling of features — scaling changes coefficient magnitudes but not the predicted values after refitting.\n",
    "- This was confirmed by the negligible difference between predictions $(< 10⁻¹⁴)$, showing that scaling does not improve or worsen RMSE for ordinary least-squares linear regression.\n",
    "  \n",
    "##### Task 4 — Privacy-Preserving Transformation\n",
    "- Applied a random invertible linear transformation $X’ = X P$ to obfuscate original features.\n",
    "- Demonstrated that original features (age, income, etc.) cannot be recovered without knowing $P$.\n",
    "- Proved analytically and confirmed computationally that predictions remain identical:\n",
    "$$(XP) w_P = X w\n",
    "\\quad\\Rightarrow\\quad\n",
    "\\mathrm{RMSE}{\\text{obfuscated}} = \\mathrm{RMSE}{\\text{original}}$$\n",
    "- Any differences were only due to floating-point rounding, confirming that privacy protection is achieved without degrading model quality.\n"
   ]
  },
  {
   "cell_type": "markdown",
   "metadata": {},
   "source": [
    "<div class=\"alert alert-info\">\n",
    "\n",
    "##### Business Implications\n",
    "- Customer similarity search (Task 1) can help agents in marketing and customer segmentation.\n",
    "- Classification (Task 2) allows the company to identify customers likely to use insurance benefits far more effectively than naive baselines.\n",
    "- Regression (Task 3) enables the company to estimate the expected number of benefits a customer might receive.\n",
    "- Privacy-preserving transformation (Task 4) allows the company to share or store data securely without sacrificing predictive performance, supporting compliance with data-protection regulations."
   ]
  },
  {
   "cell_type": "markdown",
   "metadata": {},
   "source": [
    "<div class=\"alert alert-info\">\n",
    "\n",
    "##### Overall\n",
    "\n",
    "We have shown that Sure Tomorrow can use machine-learning methods to gain actionable insights while maintaining customer privacy.\n",
    "- Scaling is essential for distance-based models like k-NN but not needed for linear regression.\n",
    "- A simple linear obfuscation protects sensitive features while leaving model performance unchanged, proving that privacy and predictive power can co-exist."
   ]
  }
 ],
 "metadata": {
  "kernelspec": {
   "display_name": "Python 3 (ipykernel)",
   "language": "python",
   "name": "python3"
  },
  "language_info": {
   "codemirror_mode": {
    "name": "ipython",
    "version": 3
   },
   "file_extension": ".py",
   "mimetype": "text/x-python",
   "name": "python",
   "nbconvert_exporter": "python",
   "pygments_lexer": "ipython3",
   "version": "3.9.23"
  },
  "toc": {
   "base_numbering": 1,
   "nav_menu": {},
   "number_sections": true,
   "sideBar": true,
   "skip_h1_title": true,
   "title_cell": "Table of Contents",
   "title_sidebar": "Contents",
   "toc_cell": false,
   "toc_position": {},
   "toc_section_display": true,
   "toc_window_display": false
  }
 },
 "nbformat": 4,
 "nbformat_minor": 4
}
