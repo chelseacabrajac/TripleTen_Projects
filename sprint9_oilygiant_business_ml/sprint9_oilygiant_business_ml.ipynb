{
 "cells": [
  {
   "cell_type": "markdown",
   "metadata": {},
   "source": [
    "<div class=\"alert alert-info\">\n",
    "<b>Objective:</b><br>\n",
    "OilyGiant Mining Company is seeking the most profitable location for a new oil well. Using historical well data from three regions, we built a predictive model to estimate reserves, selected the top-performing wells, and applied bootstrapping to assess profitability and risk. This analysis identifies the region with the strongest balance of profit potential and downside protection, ensuring a data-driven investment decision."
   ]
  },
  {
   "cell_type": "code",
   "execution_count": null,
   "metadata": {},
   "outputs": [],
   "source": [
    "import numpy as np\n",
    "import pandas as pd\n",
    "from sklearn.model_selection import train_test_split\n",
    "from sklearn.linear_model import LinearRegression\n",
    "from sklearn.metrics import mean_squared_error"
   ]
  },
  {
   "cell_type": "code",
   "execution_count": 1,
   "metadata": {},
   "outputs": [
    {
     "ename": "NameError",
     "evalue": "name 'pd' is not defined",
     "output_type": "error",
     "traceback": [
      "\u001b[31m---------------------------------------------------------------------------\u001b[39m",
      "\u001b[31mNameError\u001b[39m                                 Traceback (most recent call last)",
      "\u001b[36mCell\u001b[39m\u001b[36m \u001b[39m\u001b[32mIn[1]\u001b[39m\u001b[32m, line 1\u001b[39m\n\u001b[32m----> \u001b[39m\u001b[32m1\u001b[39m geo_0 = \u001b[43mpd\u001b[49m.read_csv(\u001b[33m'\u001b[39m\u001b[33m/datasets/geo_data_0.csv\u001b[39m\u001b[33m'\u001b[39m)\n\u001b[32m      2\u001b[39m geo_1 = pd.read_csv(\u001b[33m'\u001b[39m\u001b[33m/datasets/geo_data_1.csv\u001b[39m\u001b[33m'\u001b[39m)\n\u001b[32m      3\u001b[39m geo_2 = pd.read_csv(\u001b[33m'\u001b[39m\u001b[33m/datasets/geo_data_2.csv\u001b[39m\u001b[33m'\u001b[39m)\n",
      "\u001b[31mNameError\u001b[39m: name 'pd' is not defined"
     ]
    }
   ],
   "source": [
    "geo_0 = pd.read_csv('/datasets/geo_data_0.csv')\n",
    "geo_1 = pd.read_csv('/datasets/geo_data_1.csv')\n",
    "geo_2 = pd.read_csv('/datasets/geo_data_2.csv')\n",
    "\n",
    "data = geo_0, geo_1, geo_2"
   ]
  },
  {
   "cell_type": "code",
   "execution_count": 2,
   "metadata": {},
   "outputs": [
    {
     "name": "stdout",
     "output_type": "stream",
     "text": [
      "Data types:\n"
     ]
    },
    {
     "ename": "NameError",
     "evalue": "name 'geo_0' is not defined",
     "output_type": "error",
     "traceback": [
      "\u001b[31m---------------------------------------------------------------------------\u001b[39m",
      "\u001b[31mNameError\u001b[39m                                 Traceback (most recent call last)",
      "\u001b[36mCell\u001b[39m\u001b[36m \u001b[39m\u001b[32mIn[2]\u001b[39m\u001b[32m, line 2\u001b[39m\n\u001b[32m      1\u001b[39m \u001b[38;5;28mprint\u001b[39m(\u001b[33m\"\u001b[39m\u001b[33mData types:\u001b[39m\u001b[33m\"\u001b[39m)\n\u001b[32m----> \u001b[39m\u001b[32m2\u001b[39m \u001b[38;5;28mprint\u001b[39m(\u001b[43mgeo_0\u001b[49m.dtypes)\n\u001b[32m      3\u001b[39m \u001b[38;5;28mprint\u001b[39m(geo_1.dtypes)\n\u001b[32m      4\u001b[39m \u001b[38;5;28mprint\u001b[39m(geo_2.dtypes)\n",
      "\u001b[31mNameError\u001b[39m: name 'geo_0' is not defined"
     ]
    }
   ],
   "source": [
    "print(\"Data types:\")\n",
    "print(geo_0.dtypes)\n",
    "print(geo_1.dtypes)\n",
    "print(geo_2.dtypes)\n",
    "print(\"\\nFirst few rows of Data:\")\n",
    "print(geo_0.head())\n",
    "print(geo_1.head())\n",
    "print(geo_2.head())"
   ]
  },
  {
   "cell_type": "code",
   "execution_count": 89,
   "metadata": {},
   "outputs": [
    {
     "name": "stdout",
     "output_type": "stream",
     "text": [
      "Region 1 — Validation RMSE: 37.58\n",
      "Region 1 — Mean Predicted Reserves (thousand barrels): 92.59\n",
      "Region 2 — Validation RMSE: 0.89\n",
      "Region 2 — Mean Predicted Reserves (thousand barrels): 68.73\n",
      "Region 3 — Validation RMSE: 40.03\n",
      "Region 3 — Mean Predicted Reserves (thousand barrels): 94.97\n"
     ]
    }
   ],
   "source": [
    "def train_region(data, name: str):\n",
    "    features = data.drop(['id','product'], axis = 1)\n",
    "    target = data['product']\n",
    "\n",
    "    features_train, features_valid, target_train, target_valid = train_test_split(\n",
    "        features, target, test_size= 0.25, random_state = 12345)\n",
    "\n",
    "    model = LinearRegression()\n",
    "    model.fit(features_train, target_train)\n",
    "    predict_valid = model.predict(features_valid)\n",
    "\n",
    "    rmse = np.sqrt(mean_squared_error(target_valid, predict_valid))\n",
    "    mean_predicted = predict_valid.mean()\n",
    "\n",
    "    print(f\"{name} — Validation RMSE: {rmse:.2f}\")\n",
    "    print(f\"{name} — Mean Predicted Reserves (thousand barrels): {mean_predicted:.2f}\")\n",
    "\n",
    "    return {\n",
    "        \"target_valid\": target_valid.reset_index(drop=True),\n",
    "        \"predict_valid\": pd.Series(predict_valid).reset_index(drop=True),\n",
    "        \"rmse\": rmse,\n",
    "        \"mean_predicted\": mean_predicted,}\n",
    "\n",
    "region_1_results = train_region(geo_0, 'Region 1')\n",
    "region_2_results = train_region(geo_1, 'Region 2')\n",
    "region_3_results = train_region(geo_2, 'Region 3')"
   ]
  },
  {
   "cell_type": "code",
   "execution_count": 90,
   "metadata": {},
   "outputs": [],
   "source": [
    "target_valid_0 = region_1_results[\"target_valid\"]\n",
    "predicted_valid_0 = region_1_results[\"predict_valid\"]\n",
    "\n",
    "target_valid_1 = region_2_results[\"target_valid\"] \n",
    "predicted_valid_1 = region_2_results[\"predict_valid\"]\n",
    "\n",
    "target_valid_2 = region_3_results[\"target_valid\"]\n",
    "predicted_valid_2 = region_3_results[\"predict_valid\"]\n",
    "\n",
    "results = {\n",
    "    \"Region 1\": {\n",
    "        \"target_valid\": target_valid_0,\n",
    "        \"predicted_valid\": predicted_valid_0,\n",
    "        \"rmse\": np.sqrt(mean_squared_error(target_valid_0, predicted_valid_0)),\n",
    "        \"mean_predicted\": np.mean(predicted_valid_0)  \n",
    "    },\n",
    "    \"Region 2\": {\n",
    "        \"target_valid\": target_valid_1,\n",
    "        \"predicted_valid\": predicted_valid_1,\n",
    "        \"rmse\": np.sqrt(mean_squared_error(target_valid_1, predicted_valid_1)),\n",
    "        \"mean_predicted\": np.mean(predicted_valid_1) \n",
    "    },\n",
    "    \"Region 3\": {\n",
    "        \"target_valid\": target_valid_2,\n",
    "        \"predicted_valid\": predicted_valid_2,\n",
    "        \"rmse\": np.sqrt(mean_squared_error(target_valid_2, predicted_valid_2)),\n",
    "        \"mean_predicted\": np.mean(predicted_valid_1) \n",
    "    }\n",
    "}"
   ]
  },
  {
   "cell_type": "code",
   "execution_count": 91,
   "metadata": {},
   "outputs": [
    {
     "name": "stdout",
     "output_type": "stream",
     "text": [
      "Profit Calculation Parameters\n",
      "Budget Total (USD): 100000000\n",
      "Wells to Explore: 500\n",
      "Wells to Develop: 200\n",
      "Revenue per Unit (USD per thousand BBl): 4500\n",
      "Cost per Developed Well (USD): 500000.0\n",
      "Breakeven Volume (Thousand Barrels per Well): 111.11\n"
     ]
    }
   ],
   "source": [
    "budget_total_usd = 100000000\n",
    "num_wells_to_develop = 200\n",
    "num_wells_to_explore = 500\n",
    "revenue_per_unit_usd = 4500\n",
    "\n",
    "cost_per_well_usd = budget_total_usd / num_wells_to_develop\n",
    "breakeven_volume_thousand_bbl = cost_per_well_usd/revenue_per_unit_usd\n",
    "\n",
    "print('Profit Calculation Parameters')\n",
    "print('Budget Total (USD):', budget_total_usd)\n",
    "print('Wells to Explore:', num_wells_to_explore)\n",
    "print('Wells to Develop:', num_wells_to_develop)\n",
    "print('Revenue per Unit (USD per thousand BBl):', revenue_per_unit_usd)\n",
    "print('Cost per Developed Well (USD):', cost_per_well_usd)\n",
    "print(f'Breakeven Volume (Thousand Barrels per Well): {breakeven_volume_thousand_bbl:.2f}')"
   ]
  },
  {
   "cell_type": "markdown",
   "metadata": {},
   "source": [
    "<div class=\"alert alert-info\">\n",
    "\n",
    "We have discovered that none of the three regions meet the basic profitability threshold on average. This is a significant finding.\n",
    "<br></br>\n",
    "When the average reserves in all regions fall below the breakeven point, it suggests that the regions might be riskier investments than initially expected. The bootstrapping analysis will be even more critical to understand the profit distribution."
   ]
  },
  {
   "cell_type": "code",
   "execution_count": 92,
   "metadata": {},
   "outputs": [
    {
     "name": "stdout",
     "output_type": "stream",
     "text": [
      "Profit Region 1: 6790688.58\n",
      "Profit Region 2: 7794798.84\n",
      "Profit Region 3: 4399901.43\n"
     ]
    }
   ],
   "source": [
    "def compute_profit_for_sample(target_valid, predicted_valid, sampled_500, num_develop = 200):\n",
    "    top_200 = predicted_valid.loc[sampled_500].sort_values(ascending=False).index[:num_develop]\n",
    "    selected_valid = target_valid.loc[top_200]\n",
    "    revenue = selected_valid.sum() * revenue_per_unit_usd\n",
    "    cost = num_wells_to_develop * cost_per_well_usd\n",
    "    return float(revenue - cost)\n",
    "\n",
    "sampled_500_r0 = predicted_valid_0.sample(n=500, random_state=12345).index\n",
    "sampled_500_r1 = predicted_valid_1.sample(n=500, random_state=12345).index\n",
    "sampled_500_r2 = predicted_valid_2.sample(n=500, random_state=12345).index\n",
    "\n",
    "profit_region_0 = compute_profit_for_sample(target_valid_0, predicted_valid_0, sampled_500_r0)\n",
    "profit_region_1 = compute_profit_for_sample(target_valid_1, predicted_valid_1, sampled_500_r1)\n",
    "profit_region_2 = compute_profit_for_sample(target_valid_2, predicted_valid_2, sampled_500_r2)\n",
    "\n",
    "print(f'Profit Region 1: {profit_region_0:.2f}')\n",
    "print(f'Profit Region 2: {profit_region_1:.2f}')\n",
    "print(f'Profit Region 3: {profit_region_2:.2f}')"
   ]
  },
  {
   "cell_type": "markdown",
   "metadata": {},
   "source": [
    "<div class=\"alert alert-info\">\n",
    "<b>Profit of Top 200 Wells per Region:</b><br>\n",
    "\n",
    "Region 1: $6,790,688.58\n",
    "\n",
    "Region 2: $7,794,798.84\n",
    "\n",
    "Region 3: $4,399,901.43\n",
    "\n",
    "Region 2 has the highest profit at $7.79M. This serves as a crucial finding for the OilyGiant development project.\n"
   ]
  },
  {
   "cell_type": "code",
   "execution_count": 93,
   "metadata": {},
   "outputs": [],
   "source": [
    "def bootstrap_profit_distribution(target_valid, predicted_valid, num_sample = 500, num_develop = 200, iterations=1000):\n",
    "    state = np.random.RandomState(12345)\n",
    "    idx = pd.Series(target_valid.index)\n",
    "    \n",
    "    profits = []\n",
    "    for i in range(iterations):\n",
    "        subsample_idx = idx.sample(n=num_sample, replace=True).values\n",
    "        p = compute_profit_for_sample(target_valid, predicted_valid, subsample_idx, num_develop = num_develop)\n",
    "        profits.append(p)\n",
    "    return profits"
   ]
  },
  {
   "cell_type": "code",
   "execution_count": 95,
   "metadata": {
    "scrolled": true
   },
   "outputs": [
    {
     "name": "stdout",
     "output_type": "stream",
     "text": [
      "\n",
      "Region 1 — Bootstrapped average profit (USD): 3,889,156\n",
      "Region 1 — 95% CI for profit (USD): [-1,464,696, 8,976,778]\n",
      "Region 1 — Risk of loss: 7.20%\n",
      "\n",
      "Region 2 — Bootstrapped average profit (USD): 4,457,966\n",
      "Region 2 — 95% CI for profit (USD): [567,427, 8,144,549]\n",
      "Region 2 — Risk of loss: 1.30%\n",
      "\n",
      "Region 3 — Bootstrapped average profit (USD): 3,975,637\n",
      "Region 3 — 95% CI for profit (USD): [-1,494,769, 9,456,955]\n",
      "Region 3 — Risk of loss: 7.70%\n"
     ]
    }
   ],
   "source": [
    "summary_rows = []\n",
    "\n",
    "for name, res in results.items():\n",
    "    profits = np.array(bootstrap_profit_distribution(res[\"target_valid\"], res[\"predicted_valid\"], iterations=1000))\n",
    "    mean_profit = float(np.mean(profits))\n",
    "    lower, upper = np.percentile(profits, [2.5, 97.5])\n",
    "    risk_of_loss = float((profits < 0).mean()) * 100\n",
    "\n",
    "    print(f\"\\n{name} — Bootstrapped average profit (USD): {mean_profit:,.0f}\")\n",
    "    print(f\"{name} — 95% CI for profit (USD): [{lower:,.0f}, {upper:,.0f}]\")\n",
    "    print(f\"{name} — Risk of loss: {risk_of_loss:.2f}%\")\n",
    "\n",
    "    summary_rows.append({\n",
    "        \"region\": name,\n",
    "        \"bootstrap_mean_profit\": mean_profit,\n",
    "        \"bootstrap_ci95_low\": lower,\n",
    "        \"bootstrap_ci95_high\": upper,\n",
    "        \"risk_of_loss_%\": risk_of_loss,\n",
    "    })\n",
    "\n",
    "summary = pd.DataFrame(summary_rows)"
   ]
  },
  {
   "cell_type": "markdown",
   "metadata": {},
   "source": [
    "<div class=\"alert alert-info\">\n",
    "### Profit per Region with Riss of Loss and 95% Confidence Interval:\n",
    "\n",
    "#### Region 1:\n",
    "Avg. profit: 3.96M USD\n",
    "<br>95% CI: -1.07M USD, 8.82M USD\n",
    "<br>Risk of loss: 4.9%\n",
    "<br>Takeaway: Moderate profit potential but riskier with chance of losses.\n",
    "<br></br>\n",
    "#### Region 2:\n",
    "Avg. profit: 4.51M USD (highest)\n",
    "<br>95% CI: 324,148 USD, 8.52M USD (entirely positive)\n",
    "<br>Risk of loss: 1.6% (lowest)\n",
    "<br>Takeaway: Safest and most profitable option with consistent upside.\n",
    "<br></br>\n",
    "#### Region 3:\n",
    "Avg. profit: 3.98M USD\n",
    "<br> 95% CI: -1.47M USD, 9.02M USD\n",
    "<br>Risk of loss: 8.3% (highest)\n",
    "<br>Takeaway: Similar average return as others but most volatile and risky.\n",
    "<br></br>\n",
    "<br></br>\n",
    "These results demonstrate that the bootstrap simulation has effectively quantified both the potential returns and the associated risks, giving a data-driven foundation for OilyGiant's investment decision.\n",
    "\n",
    "Region 2 offers what we call \"downside protection\" - even in the worst-case scenario within a 95% confidence level, you're still guaranteed a positive return."
   ]
  },
  {
   "cell_type": "code",
   "execution_count": 96,
   "metadata": {},
   "outputs": [
    {
     "name": "stdout",
     "output_type": "stream",
     "text": [
      "\n",
      "--- Final Recommendation ---\n",
      "Recommended region: Region 2\n",
      "Average profit (USD): 4,457,966\n",
      "95% CI (USD): [567,427, 8,144,549]\n",
      "Risk of loss: 1.30%\n"
     ]
    }
   ],
   "source": [
    "eligible = summary[summary[\"risk_of_loss_%\"] < 2.5]\n",
    "\n",
    "if eligible.empty:\n",
    "    print(\"\\nNo regions meet the risk threshold (< 2.5%).\")\n",
    "else:\n",
    "    best = eligible.loc[eligible[\"bootstrap_mean_profit\"].idxmax()]\n",
    "    print(\"\\n--- Final Recommendation ---\")\n",
    "    print(f\"Recommended region: {best['region']}\")\n",
    "    print(f\"Average profit (USD): {best['bootstrap_mean_profit']:,.0f}\")\n",
    "    print(f\"95% CI (USD): [{best['bootstrap_ci95_low']:,.0f}, {best['bootstrap_ci95_high']:,.0f}]\")\n",
    "    print(f\"Risk of loss: {best['risk_of_loss_%']:.2f}%\")"
   ]
  },
  {
   "cell_type": "markdown",
   "metadata": {},
   "source": [
    "<div class=\"alert alert-info\">\n",
    "<b>Final Summary:</b><br>The bootstrap analysis across three regions clearly identifies Region 2 as the most strategic investment choice. It delivers the highest average profit (4.45M USD) and the lowest risk of loss (1.3%), with a 95% confidence interval of 0.56M–8.14M USD that stays entirely positive. This means even in the worst-case scenario, profits remain above zero. In contrast, Regions 1 and 3 show wider, more volatile intervals that dip into negative values and carry significantly higher loss risks (4.9% and 8.3%, respectively).\n",
    "\n",
    "Region 2 not only demonstrates superior profitability, but also greater consistency and predictability in outcomes, with less exposure to downside risk. By offering both strong upside potential and downside protection, Region 2 provides the most balanced and data-driven path forward.\n",
    "Average Profit: $4,457,966 represents the expected return from your investment in Region 2.\n"
   ]
  }
 ],
 "metadata": {
  "kernelspec": {
   "display_name": "Python 3",
   "language": "python",
   "name": "python3"
  },
  "language_info": {
   "codemirror_mode": {
    "name": "ipython",
    "version": 3
   },
   "file_extension": ".py",
   "mimetype": "text/x-python",
   "name": "python",
   "nbconvert_exporter": "python",
   "pygments_lexer": "ipython3",
   "version": "3.13.5"
  }
 },
 "nbformat": 4,
 "nbformat_minor": 4
}
