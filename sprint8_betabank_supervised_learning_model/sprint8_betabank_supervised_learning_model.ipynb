{
 "cells": [
  {
   "cell_type": "markdown",
   "metadata": {},
   "source": [
    "<div class=\"alert alert-info\">\n",
    "<b> Introduction</b><br>\n",
    "Customer churn is one of the most critical challenges for modern financial institutions. At Beta Bank, clients have been gradually leaving month after month, causing a steady erosion of the customer base. Since acquiring new customers is often more expensive than retaining existing ones, the bank has prioritized predicting and preventing churn.\n",
    "<br><br>\n",
    "The goal of this project is to build a machine learning model capable of predicting whether a customer is likely to leave the bank in the near future, based on historical behavioral and contractual data. The model’s effectiveness will be primarily evaluated using the F1 score, with a minimum threshold of 0.59 required for success. To gain a deeper understanding of performance, the AUC-ROC metric will also be measured and compared against the F1 score.\n",
    "<br><br>\n",
    "By accurately identifying customers at risk of churn, the bank will be able to implement timely retention strategies, ultimately reducing losses and strengthening customer loyalty."
   ]
  },
  {
   "cell_type": "code",
   "execution_count": 1,
   "metadata": {},
   "outputs": [],
   "source": [
    "import pandas as pd\n",
    "import numpy as np\n",
    "import matplotlib.pyplot as plt\n",
    "\n",
    "from sklearn.model_selection import train_test_split\n",
    "from sklearn.preprocessing import StandardScaler\n",
    "from sklearn.linear_model import LogisticRegression\n",
    "from sklearn.tree import DecisionTreeClassifier\n",
    "from sklearn.ensemble import RandomForestClassifier\n",
    "from sklearn.utils import shuffle\n",
    "from sklearn.metrics import confusion_matrix, accuracy_score, recall_score, precision_score, f1_score, roc_curve, roc_auc_score, precision_recall_curve"
   ]
  },
  {
   "cell_type": "code",
   "execution_count": 2,
   "metadata": {},
   "outputs": [
    {
     "name": "stdout",
     "output_type": "stream",
     "text": [
      "(10000, 14)\n",
      "<class 'pandas.core.frame.DataFrame'>\n",
      "RangeIndex: 10000 entries, 0 to 9999\n",
      "Data columns (total 14 columns):\n",
      " #   Column           Non-Null Count  Dtype  \n",
      "---  ------           --------------  -----  \n",
      " 0   RowNumber        10000 non-null  int64  \n",
      " 1   CustomerId       10000 non-null  int64  \n",
      " 2   Surname          10000 non-null  object \n",
      " 3   CreditScore      10000 non-null  int64  \n",
      " 4   Geography        10000 non-null  object \n",
      " 5   Gender           10000 non-null  object \n",
      " 6   Age              10000 non-null  int64  \n",
      " 7   Tenure           9091 non-null   float64\n",
      " 8   Balance          10000 non-null  float64\n",
      " 9   NumOfProducts    10000 non-null  int64  \n",
      " 10  HasCrCard        10000 non-null  int64  \n",
      " 11  IsActiveMember   10000 non-null  int64  \n",
      " 12  EstimatedSalary  10000 non-null  float64\n",
      " 13  Exited           10000 non-null  int64  \n",
      "dtypes: float64(3), int64(8), object(3)\n",
      "memory usage: 1.1+ MB\n"
     ]
    },
    {
     "data": {
      "text/html": [
       "<div>\n",
       "<style scoped>\n",
       "    .dataframe tbody tr th:only-of-type {\n",
       "        vertical-align: middle;\n",
       "    }\n",
       "\n",
       "    .dataframe tbody tr th {\n",
       "        vertical-align: top;\n",
       "    }\n",
       "\n",
       "    .dataframe thead th {\n",
       "        text-align: right;\n",
       "    }\n",
       "</style>\n",
       "<table border=\"1\" class=\"dataframe\">\n",
       "  <thead>\n",
       "    <tr style=\"text-align: right;\">\n",
       "      <th></th>\n",
       "      <th>RowNumber</th>\n",
       "      <th>CustomerId</th>\n",
       "      <th>Surname</th>\n",
       "      <th>CreditScore</th>\n",
       "      <th>Geography</th>\n",
       "      <th>Gender</th>\n",
       "      <th>Age</th>\n",
       "      <th>Tenure</th>\n",
       "      <th>Balance</th>\n",
       "      <th>NumOfProducts</th>\n",
       "      <th>HasCrCard</th>\n",
       "      <th>IsActiveMember</th>\n",
       "      <th>EstimatedSalary</th>\n",
       "      <th>Exited</th>\n",
       "    </tr>\n",
       "  </thead>\n",
       "  <tbody>\n",
       "    <tr>\n",
       "      <th>0</th>\n",
       "      <td>1</td>\n",
       "      <td>15634602</td>\n",
       "      <td>Hargrave</td>\n",
       "      <td>619</td>\n",
       "      <td>France</td>\n",
       "      <td>Female</td>\n",
       "      <td>42</td>\n",
       "      <td>2.0</td>\n",
       "      <td>0.00</td>\n",
       "      <td>1</td>\n",
       "      <td>1</td>\n",
       "      <td>1</td>\n",
       "      <td>101348.88</td>\n",
       "      <td>1</td>\n",
       "    </tr>\n",
       "    <tr>\n",
       "      <th>1</th>\n",
       "      <td>2</td>\n",
       "      <td>15647311</td>\n",
       "      <td>Hill</td>\n",
       "      <td>608</td>\n",
       "      <td>Spain</td>\n",
       "      <td>Female</td>\n",
       "      <td>41</td>\n",
       "      <td>1.0</td>\n",
       "      <td>83807.86</td>\n",
       "      <td>1</td>\n",
       "      <td>0</td>\n",
       "      <td>1</td>\n",
       "      <td>112542.58</td>\n",
       "      <td>0</td>\n",
       "    </tr>\n",
       "    <tr>\n",
       "      <th>2</th>\n",
       "      <td>3</td>\n",
       "      <td>15619304</td>\n",
       "      <td>Onio</td>\n",
       "      <td>502</td>\n",
       "      <td>France</td>\n",
       "      <td>Female</td>\n",
       "      <td>42</td>\n",
       "      <td>8.0</td>\n",
       "      <td>159660.80</td>\n",
       "      <td>3</td>\n",
       "      <td>1</td>\n",
       "      <td>0</td>\n",
       "      <td>113931.57</td>\n",
       "      <td>1</td>\n",
       "    </tr>\n",
       "    <tr>\n",
       "      <th>3</th>\n",
       "      <td>4</td>\n",
       "      <td>15701354</td>\n",
       "      <td>Boni</td>\n",
       "      <td>699</td>\n",
       "      <td>France</td>\n",
       "      <td>Female</td>\n",
       "      <td>39</td>\n",
       "      <td>1.0</td>\n",
       "      <td>0.00</td>\n",
       "      <td>2</td>\n",
       "      <td>0</td>\n",
       "      <td>0</td>\n",
       "      <td>93826.63</td>\n",
       "      <td>0</td>\n",
       "    </tr>\n",
       "    <tr>\n",
       "      <th>4</th>\n",
       "      <td>5</td>\n",
       "      <td>15737888</td>\n",
       "      <td>Mitchell</td>\n",
       "      <td>850</td>\n",
       "      <td>Spain</td>\n",
       "      <td>Female</td>\n",
       "      <td>43</td>\n",
       "      <td>2.0</td>\n",
       "      <td>125510.82</td>\n",
       "      <td>1</td>\n",
       "      <td>1</td>\n",
       "      <td>1</td>\n",
       "      <td>79084.10</td>\n",
       "      <td>0</td>\n",
       "    </tr>\n",
       "  </tbody>\n",
       "</table>\n",
       "</div>"
      ],
      "text/plain": [
       "   RowNumber  CustomerId   Surname  CreditScore Geography  Gender  Age  \\\n",
       "0          1    15634602  Hargrave          619    France  Female   42   \n",
       "1          2    15647311      Hill          608     Spain  Female   41   \n",
       "2          3    15619304      Onio          502    France  Female   42   \n",
       "3          4    15701354      Boni          699    France  Female   39   \n",
       "4          5    15737888  Mitchell          850     Spain  Female   43   \n",
       "\n",
       "   Tenure    Balance  NumOfProducts  HasCrCard  IsActiveMember  \\\n",
       "0     2.0       0.00              1          1               1   \n",
       "1     1.0   83807.86              1          0               1   \n",
       "2     8.0  159660.80              3          1               0   \n",
       "3     1.0       0.00              2          0               0   \n",
       "4     2.0  125510.82              1          1               1   \n",
       "\n",
       "   EstimatedSalary  Exited  \n",
       "0        101348.88       1  \n",
       "1        112542.58       0  \n",
       "2        113931.57       1  \n",
       "3         93826.63       0  \n",
       "4         79084.10       0  "
      ]
     },
     "execution_count": 2,
     "metadata": {},
     "output_type": "execute_result"
    }
   ],
   "source": [
    "data = pd.read_csv('/datasets/Churn.csv')\n",
    "\n",
    "print(data.shape)\n",
    "data.info()\n",
    "data.head()"
   ]
  },
  {
   "cell_type": "code",
   "execution_count": 3,
   "metadata": {},
   "outputs": [
    {
     "data": {
      "text/html": [
       "<div>\n",
       "<style scoped>\n",
       "    .dataframe tbody tr th:only-of-type {\n",
       "        vertical-align: middle;\n",
       "    }\n",
       "\n",
       "    .dataframe tbody tr th {\n",
       "        vertical-align: top;\n",
       "    }\n",
       "\n",
       "    .dataframe thead th {\n",
       "        text-align: right;\n",
       "    }\n",
       "</style>\n",
       "<table border=\"1\" class=\"dataframe\">\n",
       "  <thead>\n",
       "    <tr style=\"text-align: right;\">\n",
       "      <th></th>\n",
       "      <th>RowNumber</th>\n",
       "      <th>CustomerId</th>\n",
       "      <th>Surname</th>\n",
       "      <th>CreditScore</th>\n",
       "      <th>Geography</th>\n",
       "      <th>Gender</th>\n",
       "      <th>Age</th>\n",
       "      <th>Tenure</th>\n",
       "      <th>Balance</th>\n",
       "      <th>NumOfProducts</th>\n",
       "      <th>HasCrCard</th>\n",
       "      <th>IsActiveMember</th>\n",
       "      <th>EstimatedSalary</th>\n",
       "      <th>Exited</th>\n",
       "    </tr>\n",
       "  </thead>\n",
       "  <tbody>\n",
       "    <tr>\n",
       "      <th>30</th>\n",
       "      <td>31</td>\n",
       "      <td>15589475</td>\n",
       "      <td>Azikiwe</td>\n",
       "      <td>591</td>\n",
       "      <td>Spain</td>\n",
       "      <td>Female</td>\n",
       "      <td>39</td>\n",
       "      <td>NaN</td>\n",
       "      <td>0.00</td>\n",
       "      <td>3</td>\n",
       "      <td>1</td>\n",
       "      <td>0</td>\n",
       "      <td>140469.38</td>\n",
       "      <td>1</td>\n",
       "    </tr>\n",
       "    <tr>\n",
       "      <th>48</th>\n",
       "      <td>49</td>\n",
       "      <td>15766205</td>\n",
       "      <td>Yin</td>\n",
       "      <td>550</td>\n",
       "      <td>Germany</td>\n",
       "      <td>Male</td>\n",
       "      <td>38</td>\n",
       "      <td>NaN</td>\n",
       "      <td>103391.38</td>\n",
       "      <td>1</td>\n",
       "      <td>0</td>\n",
       "      <td>1</td>\n",
       "      <td>90878.13</td>\n",
       "      <td>0</td>\n",
       "    </tr>\n",
       "    <tr>\n",
       "      <th>51</th>\n",
       "      <td>52</td>\n",
       "      <td>15768193</td>\n",
       "      <td>Trevisani</td>\n",
       "      <td>585</td>\n",
       "      <td>Germany</td>\n",
       "      <td>Male</td>\n",
       "      <td>36</td>\n",
       "      <td>NaN</td>\n",
       "      <td>146050.97</td>\n",
       "      <td>2</td>\n",
       "      <td>0</td>\n",
       "      <td>0</td>\n",
       "      <td>86424.57</td>\n",
       "      <td>0</td>\n",
       "    </tr>\n",
       "    <tr>\n",
       "      <th>53</th>\n",
       "      <td>54</td>\n",
       "      <td>15702298</td>\n",
       "      <td>Parkhill</td>\n",
       "      <td>655</td>\n",
       "      <td>Germany</td>\n",
       "      <td>Male</td>\n",
       "      <td>41</td>\n",
       "      <td>NaN</td>\n",
       "      <td>125561.97</td>\n",
       "      <td>1</td>\n",
       "      <td>0</td>\n",
       "      <td>0</td>\n",
       "      <td>164040.94</td>\n",
       "      <td>1</td>\n",
       "    </tr>\n",
       "    <tr>\n",
       "      <th>60</th>\n",
       "      <td>61</td>\n",
       "      <td>15651280</td>\n",
       "      <td>Hunter</td>\n",
       "      <td>742</td>\n",
       "      <td>Germany</td>\n",
       "      <td>Male</td>\n",
       "      <td>35</td>\n",
       "      <td>NaN</td>\n",
       "      <td>136857.00</td>\n",
       "      <td>1</td>\n",
       "      <td>0</td>\n",
       "      <td>0</td>\n",
       "      <td>84509.57</td>\n",
       "      <td>0</td>\n",
       "    </tr>\n",
       "    <tr>\n",
       "      <th>...</th>\n",
       "      <td>...</td>\n",
       "      <td>...</td>\n",
       "      <td>...</td>\n",
       "      <td>...</td>\n",
       "      <td>...</td>\n",
       "      <td>...</td>\n",
       "      <td>...</td>\n",
       "      <td>...</td>\n",
       "      <td>...</td>\n",
       "      <td>...</td>\n",
       "      <td>...</td>\n",
       "      <td>...</td>\n",
       "      <td>...</td>\n",
       "      <td>...</td>\n",
       "    </tr>\n",
       "    <tr>\n",
       "      <th>9944</th>\n",
       "      <td>9945</td>\n",
       "      <td>15703923</td>\n",
       "      <td>Cameron</td>\n",
       "      <td>744</td>\n",
       "      <td>Germany</td>\n",
       "      <td>Male</td>\n",
       "      <td>41</td>\n",
       "      <td>NaN</td>\n",
       "      <td>190409.34</td>\n",
       "      <td>2</td>\n",
       "      <td>1</td>\n",
       "      <td>1</td>\n",
       "      <td>138361.48</td>\n",
       "      <td>0</td>\n",
       "    </tr>\n",
       "    <tr>\n",
       "      <th>9956</th>\n",
       "      <td>9957</td>\n",
       "      <td>15707861</td>\n",
       "      <td>Nucci</td>\n",
       "      <td>520</td>\n",
       "      <td>France</td>\n",
       "      <td>Female</td>\n",
       "      <td>46</td>\n",
       "      <td>NaN</td>\n",
       "      <td>85216.61</td>\n",
       "      <td>1</td>\n",
       "      <td>1</td>\n",
       "      <td>0</td>\n",
       "      <td>117369.52</td>\n",
       "      <td>1</td>\n",
       "    </tr>\n",
       "    <tr>\n",
       "      <th>9964</th>\n",
       "      <td>9965</td>\n",
       "      <td>15642785</td>\n",
       "      <td>Douglas</td>\n",
       "      <td>479</td>\n",
       "      <td>France</td>\n",
       "      <td>Male</td>\n",
       "      <td>34</td>\n",
       "      <td>NaN</td>\n",
       "      <td>117593.48</td>\n",
       "      <td>2</td>\n",
       "      <td>0</td>\n",
       "      <td>0</td>\n",
       "      <td>113308.29</td>\n",
       "      <td>0</td>\n",
       "    </tr>\n",
       "    <tr>\n",
       "      <th>9985</th>\n",
       "      <td>9986</td>\n",
       "      <td>15586914</td>\n",
       "      <td>Nepean</td>\n",
       "      <td>659</td>\n",
       "      <td>France</td>\n",
       "      <td>Male</td>\n",
       "      <td>36</td>\n",
       "      <td>NaN</td>\n",
       "      <td>123841.49</td>\n",
       "      <td>2</td>\n",
       "      <td>1</td>\n",
       "      <td>0</td>\n",
       "      <td>96833.00</td>\n",
       "      <td>0</td>\n",
       "    </tr>\n",
       "    <tr>\n",
       "      <th>9999</th>\n",
       "      <td>10000</td>\n",
       "      <td>15628319</td>\n",
       "      <td>Walker</td>\n",
       "      <td>792</td>\n",
       "      <td>France</td>\n",
       "      <td>Female</td>\n",
       "      <td>28</td>\n",
       "      <td>NaN</td>\n",
       "      <td>130142.79</td>\n",
       "      <td>1</td>\n",
       "      <td>1</td>\n",
       "      <td>0</td>\n",
       "      <td>38190.78</td>\n",
       "      <td>0</td>\n",
       "    </tr>\n",
       "  </tbody>\n",
       "</table>\n",
       "<p>909 rows × 14 columns</p>\n",
       "</div>"
      ],
      "text/plain": [
       "      RowNumber  CustomerId    Surname  CreditScore Geography  Gender  Age  \\\n",
       "30           31    15589475    Azikiwe          591     Spain  Female   39   \n",
       "48           49    15766205        Yin          550   Germany    Male   38   \n",
       "51           52    15768193  Trevisani          585   Germany    Male   36   \n",
       "53           54    15702298   Parkhill          655   Germany    Male   41   \n",
       "60           61    15651280     Hunter          742   Germany    Male   35   \n",
       "...         ...         ...        ...          ...       ...     ...  ...   \n",
       "9944       9945    15703923    Cameron          744   Germany    Male   41   \n",
       "9956       9957    15707861      Nucci          520    France  Female   46   \n",
       "9964       9965    15642785    Douglas          479    France    Male   34   \n",
       "9985       9986    15586914     Nepean          659    France    Male   36   \n",
       "9999      10000    15628319     Walker          792    France  Female   28   \n",
       "\n",
       "      Tenure    Balance  NumOfProducts  HasCrCard  IsActiveMember  \\\n",
       "30       NaN       0.00              3          1               0   \n",
       "48       NaN  103391.38              1          0               1   \n",
       "51       NaN  146050.97              2          0               0   \n",
       "53       NaN  125561.97              1          0               0   \n",
       "60       NaN  136857.00              1          0               0   \n",
       "...      ...        ...            ...        ...             ...   \n",
       "9944     NaN  190409.34              2          1               1   \n",
       "9956     NaN   85216.61              1          1               0   \n",
       "9964     NaN  117593.48              2          0               0   \n",
       "9985     NaN  123841.49              2          1               0   \n",
       "9999     NaN  130142.79              1          1               0   \n",
       "\n",
       "      EstimatedSalary  Exited  \n",
       "30          140469.38       1  \n",
       "48           90878.13       0  \n",
       "51           86424.57       0  \n",
       "53          164040.94       1  \n",
       "60           84509.57       0  \n",
       "...               ...     ...  \n",
       "9944        138361.48       0  \n",
       "9956        117369.52       1  \n",
       "9964        113308.29       0  \n",
       "9985         96833.00       0  \n",
       "9999         38190.78       0  \n",
       "\n",
       "[909 rows x 14 columns]"
      ]
     },
     "execution_count": 3,
     "metadata": {},
     "output_type": "execute_result"
    }
   ],
   "source": [
    "missing_data = data[data['Tenure'].isnull()]\n",
    "missing_data"
   ]
  },
  {
   "cell_type": "code",
   "execution_count": 4,
   "metadata": {},
   "outputs": [
    {
     "name": "stdout",
     "output_type": "stream",
     "text": [
      "<class 'pandas.core.frame.DataFrame'>\n",
      "RangeIndex: 10000 entries, 0 to 9999\n",
      "Data columns (total 14 columns):\n",
      " #   Column           Non-Null Count  Dtype  \n",
      "---  ------           --------------  -----  \n",
      " 0   RowNumber        10000 non-null  int64  \n",
      " 1   CustomerId       10000 non-null  int64  \n",
      " 2   Surname          10000 non-null  object \n",
      " 3   CreditScore      10000 non-null  int64  \n",
      " 4   Geography        10000 non-null  object \n",
      " 5   Gender           10000 non-null  object \n",
      " 6   Age              10000 non-null  int64  \n",
      " 7   Tenure           10000 non-null  float64\n",
      " 8   Balance          10000 non-null  float64\n",
      " 9   NumOfProducts    10000 non-null  int64  \n",
      " 10  HasCrCard        10000 non-null  int64  \n",
      " 11  IsActiveMember   10000 non-null  int64  \n",
      " 12  EstimatedSalary  10000 non-null  float64\n",
      " 13  Exited           10000 non-null  int64  \n",
      "dtypes: float64(3), int64(8), object(3)\n",
      "memory usage: 1.1+ MB\n"
     ]
    }
   ],
   "source": [
    "data['Tenure'] = data['Tenure'].fillna(data['Tenure'].median())\n",
    "data.info()"
   ]
  },
  {
   "cell_type": "code",
   "execution_count": 5,
   "metadata": {},
   "outputs": [
    {
     "data": {
      "text/html": [
       "<div>\n",
       "<style scoped>\n",
       "    .dataframe tbody tr th:only-of-type {\n",
       "        vertical-align: middle;\n",
       "    }\n",
       "\n",
       "    .dataframe tbody tr th {\n",
       "        vertical-align: top;\n",
       "    }\n",
       "\n",
       "    .dataframe thead th {\n",
       "        text-align: right;\n",
       "    }\n",
       "</style>\n",
       "<table border=\"1\" class=\"dataframe\">\n",
       "  <thead>\n",
       "    <tr style=\"text-align: right;\">\n",
       "      <th></th>\n",
       "      <th>CreditScore</th>\n",
       "      <th>Geography</th>\n",
       "      <th>Gender</th>\n",
       "      <th>Age</th>\n",
       "      <th>Tenure</th>\n",
       "      <th>Balance</th>\n",
       "      <th>NumOfProducts</th>\n",
       "      <th>HasCrCard</th>\n",
       "      <th>IsActiveMember</th>\n",
       "      <th>EstimatedSalary</th>\n",
       "      <th>Exited</th>\n",
       "    </tr>\n",
       "  </thead>\n",
       "  <tbody>\n",
       "    <tr>\n",
       "      <th>0</th>\n",
       "      <td>619</td>\n",
       "      <td>France</td>\n",
       "      <td>Female</td>\n",
       "      <td>42</td>\n",
       "      <td>2.0</td>\n",
       "      <td>0.00</td>\n",
       "      <td>1</td>\n",
       "      <td>1</td>\n",
       "      <td>1</td>\n",
       "      <td>101348.88</td>\n",
       "      <td>1</td>\n",
       "    </tr>\n",
       "    <tr>\n",
       "      <th>1</th>\n",
       "      <td>608</td>\n",
       "      <td>Spain</td>\n",
       "      <td>Female</td>\n",
       "      <td>41</td>\n",
       "      <td>1.0</td>\n",
       "      <td>83807.86</td>\n",
       "      <td>1</td>\n",
       "      <td>0</td>\n",
       "      <td>1</td>\n",
       "      <td>112542.58</td>\n",
       "      <td>0</td>\n",
       "    </tr>\n",
       "    <tr>\n",
       "      <th>2</th>\n",
       "      <td>502</td>\n",
       "      <td>France</td>\n",
       "      <td>Female</td>\n",
       "      <td>42</td>\n",
       "      <td>8.0</td>\n",
       "      <td>159660.80</td>\n",
       "      <td>3</td>\n",
       "      <td>1</td>\n",
       "      <td>0</td>\n",
       "      <td>113931.57</td>\n",
       "      <td>1</td>\n",
       "    </tr>\n",
       "    <tr>\n",
       "      <th>3</th>\n",
       "      <td>699</td>\n",
       "      <td>France</td>\n",
       "      <td>Female</td>\n",
       "      <td>39</td>\n",
       "      <td>1.0</td>\n",
       "      <td>0.00</td>\n",
       "      <td>2</td>\n",
       "      <td>0</td>\n",
       "      <td>0</td>\n",
       "      <td>93826.63</td>\n",
       "      <td>0</td>\n",
       "    </tr>\n",
       "    <tr>\n",
       "      <th>4</th>\n",
       "      <td>850</td>\n",
       "      <td>Spain</td>\n",
       "      <td>Female</td>\n",
       "      <td>43</td>\n",
       "      <td>2.0</td>\n",
       "      <td>125510.82</td>\n",
       "      <td>1</td>\n",
       "      <td>1</td>\n",
       "      <td>1</td>\n",
       "      <td>79084.10</td>\n",
       "      <td>0</td>\n",
       "    </tr>\n",
       "    <tr>\n",
       "      <th>...</th>\n",
       "      <td>...</td>\n",
       "      <td>...</td>\n",
       "      <td>...</td>\n",
       "      <td>...</td>\n",
       "      <td>...</td>\n",
       "      <td>...</td>\n",
       "      <td>...</td>\n",
       "      <td>...</td>\n",
       "      <td>...</td>\n",
       "      <td>...</td>\n",
       "      <td>...</td>\n",
       "    </tr>\n",
       "    <tr>\n",
       "      <th>9995</th>\n",
       "      <td>771</td>\n",
       "      <td>France</td>\n",
       "      <td>Male</td>\n",
       "      <td>39</td>\n",
       "      <td>5.0</td>\n",
       "      <td>0.00</td>\n",
       "      <td>2</td>\n",
       "      <td>1</td>\n",
       "      <td>0</td>\n",
       "      <td>96270.64</td>\n",
       "      <td>0</td>\n",
       "    </tr>\n",
       "    <tr>\n",
       "      <th>9996</th>\n",
       "      <td>516</td>\n",
       "      <td>France</td>\n",
       "      <td>Male</td>\n",
       "      <td>35</td>\n",
       "      <td>10.0</td>\n",
       "      <td>57369.61</td>\n",
       "      <td>1</td>\n",
       "      <td>1</td>\n",
       "      <td>1</td>\n",
       "      <td>101699.77</td>\n",
       "      <td>0</td>\n",
       "    </tr>\n",
       "    <tr>\n",
       "      <th>9997</th>\n",
       "      <td>709</td>\n",
       "      <td>France</td>\n",
       "      <td>Female</td>\n",
       "      <td>36</td>\n",
       "      <td>7.0</td>\n",
       "      <td>0.00</td>\n",
       "      <td>1</td>\n",
       "      <td>0</td>\n",
       "      <td>1</td>\n",
       "      <td>42085.58</td>\n",
       "      <td>1</td>\n",
       "    </tr>\n",
       "    <tr>\n",
       "      <th>9998</th>\n",
       "      <td>772</td>\n",
       "      <td>Germany</td>\n",
       "      <td>Male</td>\n",
       "      <td>42</td>\n",
       "      <td>3.0</td>\n",
       "      <td>75075.31</td>\n",
       "      <td>2</td>\n",
       "      <td>1</td>\n",
       "      <td>0</td>\n",
       "      <td>92888.52</td>\n",
       "      <td>1</td>\n",
       "    </tr>\n",
       "    <tr>\n",
       "      <th>9999</th>\n",
       "      <td>792</td>\n",
       "      <td>France</td>\n",
       "      <td>Female</td>\n",
       "      <td>28</td>\n",
       "      <td>5.0</td>\n",
       "      <td>130142.79</td>\n",
       "      <td>1</td>\n",
       "      <td>1</td>\n",
       "      <td>0</td>\n",
       "      <td>38190.78</td>\n",
       "      <td>0</td>\n",
       "    </tr>\n",
       "  </tbody>\n",
       "</table>\n",
       "<p>10000 rows × 11 columns</p>\n",
       "</div>"
      ],
      "text/plain": [
       "      CreditScore Geography  Gender  Age  Tenure    Balance  NumOfProducts  \\\n",
       "0             619    France  Female   42     2.0       0.00              1   \n",
       "1             608     Spain  Female   41     1.0   83807.86              1   \n",
       "2             502    France  Female   42     8.0  159660.80              3   \n",
       "3             699    France  Female   39     1.0       0.00              2   \n",
       "4             850     Spain  Female   43     2.0  125510.82              1   \n",
       "...           ...       ...     ...  ...     ...        ...            ...   \n",
       "9995          771    France    Male   39     5.0       0.00              2   \n",
       "9996          516    France    Male   35    10.0   57369.61              1   \n",
       "9997          709    France  Female   36     7.0       0.00              1   \n",
       "9998          772   Germany    Male   42     3.0   75075.31              2   \n",
       "9999          792    France  Female   28     5.0  130142.79              1   \n",
       "\n",
       "      HasCrCard  IsActiveMember  EstimatedSalary  Exited  \n",
       "0             1               1        101348.88       1  \n",
       "1             0               1        112542.58       0  \n",
       "2             1               0        113931.57       1  \n",
       "3             0               0         93826.63       0  \n",
       "4             1               1         79084.10       0  \n",
       "...         ...             ...              ...     ...  \n",
       "9995          1               0         96270.64       0  \n",
       "9996          1               1        101699.77       0  \n",
       "9997          0               1         42085.58       1  \n",
       "9998          1               0         92888.52       1  \n",
       "9999          1               0         38190.78       0  \n",
       "\n",
       "[10000 rows x 11 columns]"
      ]
     },
     "execution_count": 5,
     "metadata": {},
     "output_type": "execute_result"
    }
   ],
   "source": [
    "clean_data = data.drop(['RowNumber', 'CustomerId', 'Surname'], axis = 1)\n",
    "clean_data"
   ]
  },
  {
   "cell_type": "code",
   "execution_count": 6,
   "metadata": {},
   "outputs": [
    {
     "name": "stdout",
     "output_type": "stream",
     "text": [
      "<class 'pandas.core.frame.DataFrame'>\n",
      "RangeIndex: 10000 entries, 0 to 9999\n",
      "Data columns (total 12 columns):\n",
      " #   Column             Non-Null Count  Dtype  \n",
      "---  ------             --------------  -----  \n",
      " 0   CreditScore        10000 non-null  int64  \n",
      " 1   Age                10000 non-null  int64  \n",
      " 2   Tenure             10000 non-null  float64\n",
      " 3   Balance            10000 non-null  float64\n",
      " 4   NumOfProducts      10000 non-null  int64  \n",
      " 5   HasCrCard          10000 non-null  int64  \n",
      " 6   IsActiveMember     10000 non-null  int64  \n",
      " 7   EstimatedSalary    10000 non-null  float64\n",
      " 8   Exited             10000 non-null  int64  \n",
      " 9   Geography_Germany  10000 non-null  uint8  \n",
      " 10  Geography_Spain    10000 non-null  uint8  \n",
      " 11  Gender_Male        10000 non-null  uint8  \n",
      "dtypes: float64(3), int64(6), uint8(3)\n",
      "memory usage: 732.5 KB\n"
     ]
    }
   ],
   "source": [
    "data_ohe = pd.get_dummies(clean_data, drop_first = True)\n",
    "\n",
    "data_ohe.info()"
   ]
  },
  {
   "cell_type": "code",
   "execution_count": 7,
   "metadata": {},
   "outputs": [],
   "source": [
    "train_valid, test = train_test_split(data_ohe, test_size = 0.20, random_state = 12345)\n",
    "train, valid = train_test_split(train_valid, test_size = 0.25, random_state = 12345)"
   ]
  },
  {
   "cell_type": "code",
   "execution_count": 8,
   "metadata": {},
   "outputs": [],
   "source": [
    "features_train = train.drop(['Exited'], axis = 1)\n",
    "target_train = train['Exited']\n",
    "\n",
    "features_valid = valid.drop(['Exited'], axis = 1)\n",
    "target_valid = valid['Exited']\n",
    "\n",
    "features_test = test.drop(['Exited'], axis = 1)\n",
    "target_test = test['Exited']"
   ]
  },
  {
   "cell_type": "code",
   "execution_count": 9,
   "metadata": {},
   "outputs": [
    {
     "data": {
      "text/plain": [
       "StandardScaler()"
      ]
     },
     "execution_count": 9,
     "metadata": {},
     "output_type": "execute_result"
    }
   ],
   "source": [
    "scaler = StandardScaler()\n",
    "\n",
    "numerical_features = ['CreditScore', 'Age', 'Tenure', 'Balance', 'EstimatedSalary']\n",
    "\n",
    "scaler.fit(features_train[numerical_features])"
   ]
  },
  {
   "cell_type": "code",
   "execution_count": 10,
   "metadata": {},
   "outputs": [],
   "source": [
    "features_train_scaled = features_train.copy()\n",
    "features_train_scaled[numerical_features] = scaler.transform(features_train[numerical_features])\n",
    "\n",
    "features_valid_scaled = features_valid.copy()\n",
    "features_valid_scaled[numerical_features] = scaler.transform(features_valid[numerical_features])\n",
    "\n",
    "features_test_scaled = features_test.copy()\n",
    "features_test_scaled[numerical_features] = scaler.transform(features_test[numerical_features])"
   ]
  },
  {
   "cell_type": "code",
   "execution_count": 11,
   "metadata": {},
   "outputs": [
    {
     "name": "stdout",
     "output_type": "stream",
     "text": [
      "Unbalanced Model Accuracy: 0.8145\n",
      "Precision: 0.5714285714285714\n",
      "Recall: 0.20460358056265984\n",
      "F1-Score: 0.30131826741996237\n"
     ]
    }
   ],
   "source": [
    "baseline_model = LogisticRegression(random_state = 12345, solver = 'liblinear')\n",
    "baseline_model.fit(features_train_scaled,target_train)\n",
    "baseline_predicted_valid = baseline_model.predict(features_valid_scaled)\n",
    "baseline_accuracy = accuracy_score(target_valid, baseline_predicted_valid)\n",
    "baseline_precision = precision_score(target_valid, baseline_predicted_valid)\n",
    "baseline_recall = recall_score(target_valid, baseline_predicted_valid)\n",
    "baseline_f1 = f1_score(target_valid, baseline_predicted_valid)\n",
    "print('Unbalanced Model Accuracy:', baseline_accuracy)\n",
    "print('Precision:', baseline_precision)\n",
    "print('Recall:', baseline_recall)\n",
    "print('F1-Score:', baseline_f1)"
   ]
  },
  {
   "cell_type": "code",
   "execution_count": 12,
   "metadata": {},
   "outputs": [
    {
     "name": "stdout",
     "output_type": "stream",
     "text": [
      "0    4781\n",
      "1    1219\n",
      "Name: Exited, dtype: int64\n",
      "0    0.796833\n",
      "1    0.203167\n",
      "Name: Exited, dtype: float64\n"
     ]
    }
   ],
   "source": [
    "print(target_train.value_counts())\n",
    "print(target_train.value_counts(normalize=True))"
   ]
  },
  {
   "cell_type": "code",
   "execution_count": 13,
   "metadata": {},
   "outputs": [
    {
     "name": "stdout",
     "output_type": "stream",
     "text": [
      "Balanced Model Accuracy: 0.705\n",
      "Precision: 0.36388508891928867\n",
      "Recall: 0.680306905370844\n",
      "F1-Score: 0.4741532976827095\n"
     ]
    }
   ],
   "source": [
    "balanced_model = LogisticRegression(class_weight = 'balanced', random_state = 12345, solver = 'liblinear')\n",
    "balanced_model.fit(features_train_scaled,target_train)\n",
    "balanced_predicted_valid = balanced_model.predict(features_valid_scaled)\n",
    "balanced_accuracy = accuracy_score(target_valid, balanced_predicted_valid)\n",
    "balanced_precision = precision_score(target_valid, balanced_predicted_valid)\n",
    "balanced_recall = recall_score(target_valid, balanced_predicted_valid)\n",
    "balanced_f1 = f1_score(target_valid, balanced_predicted_valid)\n",
    "print('Balanced Model Accuracy:', balanced_accuracy)\n",
    "print('Precision:', balanced_precision)\n",
    "print('Recall:', balanced_recall)\n",
    "print('F1-Score:', balanced_f1)"
   ]
  },
  {
   "cell_type": "code",
   "execution_count": 14,
   "metadata": {},
   "outputs": [],
   "source": [
    "def upsample(features, target, repeat):\n",
    "    features_zeros = features[target == 0]\n",
    "    features_ones = features[target == 1]\n",
    "    target_zeros = target[target == 0]\n",
    "    target_ones = target[target == 1]\n",
    "\n",
    "    arg_1 = pd.concat([features_zeros] + [features_ones] * repeat)\n",
    "    arg_2 = pd.concat([target_zeros] + [target_ones] * repeat)\n",
    "\n",
    "    features_upsampled, target_upsampled = shuffle(arg_1, arg_2, random_state = 12345)\n",
    "\n",
    "    return features_upsampled, target_upsampled\n",
    "\n",
    "features_upsampled, target_upsampled= upsample(features_train, target_train, 4)"
   ]
  },
  {
   "cell_type": "code",
   "execution_count": 15,
   "metadata": {},
   "outputs": [],
   "source": [
    "features_upsampled_scaled = features_upsampled.copy()\n",
    "features_upsampled_scaled[numerical_features] = scaler.transform(features_upsampled[numerical_features])"
   ]
  },
  {
   "cell_type": "code",
   "execution_count": 16,
   "metadata": {},
   "outputs": [
    {
     "name": "stdout",
     "output_type": "stream",
     "text": [
      "Upsampled Model Accuracy: 0.703\n",
      "Precision: 0.363758389261745\n",
      "Recall: 0.6930946291560103\n",
      "F1-Score: 0.4771126760563381\n"
     ]
    }
   ],
   "source": [
    "upsampled_model = LogisticRegression(random_state = 12345, solver = 'liblinear')\n",
    "upsampled_model.fit(features_upsampled_scaled, target_upsampled)\n",
    "upsampled_predicted_valid = upsampled_model.predict(features_valid_scaled)\n",
    "upsampled_accuracy = accuracy_score(target_valid, upsampled_predicted_valid)\n",
    "upsampled_precision = precision_score(target_valid, upsampled_predicted_valid)\n",
    "upsampled_recall = recall_score(target_valid, upsampled_predicted_valid)\n",
    "upsampled_f1 = f1_score(target_valid, upsampled_predicted_valid)\n",
    "print('Upsampled Model Accuracy:', upsampled_accuracy)\n",
    "print('Precision:', upsampled_precision)\n",
    "print('Recall:', upsampled_recall)\n",
    "print('F1-Score:', upsampled_f1)"
   ]
  },
  {
   "cell_type": "code",
   "execution_count": 17,
   "metadata": {},
   "outputs": [],
   "source": [
    "def downsample (features, target, frac):\n",
    "    features_zeros = features[target == 0]\n",
    "    features_ones = features[target == 1]\n",
    "    target_zeros = target[target == 0]\n",
    "    target_ones = target[target == 1]\n",
    "\n",
    "    features_downsampled = pd.concat([features_zeros.sample(frac = frac, random_state = 12345), features_ones])\n",
    "    target_downsampled = pd.concat([target_zeros.sample(frac = frac, random_state = 12345), target_ones])\n",
    "\n",
    "    features_downsampled, target_downsampled = shuffle(features_downsampled, target_downsampled, random_state = 12345)\n",
    "\n",
    "    return features_downsampled, target_downsampled\n",
    "\n",
    "features_downsampled, target_downsampled = downsample (features_train, target_train, 0.1)"
   ]
  },
  {
   "cell_type": "code",
   "execution_count": 18,
   "metadata": {},
   "outputs": [],
   "source": [
    "features_downsampled_scaled = features_downsampled.copy()\n",
    "features_downsampled_scaled[numerical_features] = scaler.transform(features_downsampled[numerical_features])"
   ]
  },
  {
   "cell_type": "code",
   "execution_count": 19,
   "metadata": {},
   "outputs": [
    {
     "name": "stdout",
     "output_type": "stream",
     "text": [
      "Downsampled Model Accuracy: 0.4675\n",
      "Precision: 0.25997150997151\n",
      "Recall: 0.9335038363171355\n",
      "F1-Score: 0.4066852367688022\n"
     ]
    }
   ],
   "source": [
    "downsampled_model = LogisticRegression(random_state = 12345, solver = 'liblinear')\n",
    "downsampled_model.fit(features_downsampled_scaled, target_downsampled)\n",
    "downsampled_predicted_valid = downsampled_model.predict(features_valid_scaled)\n",
    "downsampled_accuracy = accuracy_score(target_valid, downsampled_predicted_valid)\n",
    "downsampled_precision = precision_score(target_valid, downsampled_predicted_valid)\n",
    "downsampled_recall = recall_score(target_valid, downsampled_predicted_valid)\n",
    "downsampled_f1 = f1_score(target_valid, downsampled_predicted_valid)\n",
    "print('Downsampled Model Accuracy:', downsampled_accuracy)\n",
    "print('Precision:', downsampled_precision)\n",
    "print('Recall:', downsampled_recall)\n",
    "print('F1-Score:', downsampled_f1)"
   ]
  },
  {
   "cell_type": "code",
   "execution_count": 20,
   "metadata": {},
   "outputs": [
    {
     "name": "stdout",
     "output_type": "stream",
     "text": [
      "Random Forest: (Best Est): 40 (F1): 0.5596184419713831\n"
     ]
    }
   ],
   "source": [
    "best_score = 0\n",
    "best_est= 0\n",
    "for est in range (10,100, 10):\n",
    "    rf_model = RandomForestClassifier(n_estimators = est, random_state = 12345)\n",
    "    rf_model.fit(features_train, target_train)\n",
    "    predicted_valid = rf_model.predict(features_valid)\n",
    "    score = f1_score(target_valid, predicted_valid)\n",
    "    if score > best_score:\n",
    "        best_score = score\n",
    "        best_est = est\n",
    "\n",
    "print('Random Forest:', '(Best Est):', best_est, '(F1):', best_score)"
   ]
  },
  {
   "cell_type": "code",
   "execution_count": 21,
   "metadata": {},
   "outputs": [
    {
     "name": "stdout",
     "output_type": "stream",
     "text": [
      "Random Forest: (Best Depth): 15 (F1): 0.5750394944707741\n"
     ]
    }
   ],
   "source": [
    "best_score = 0\n",
    "best_est = 40\n",
    "best_depth = 0\n",
    "for depth in [5 , 7, 10, 15, 20, None]:\n",
    "    rf_model = RandomForestClassifier(random_state = 12345, n_estimators = 40, max_depth = depth)\n",
    "    rf_model.fit(features_train, target_train)\n",
    "    predicted_valid = rf_model.predict(features_valid)\n",
    "    score = f1_score(target_valid, predicted_valid)\n",
    "    if score > best_score:\n",
    "        best_score = score\n",
    "        best_depth = depth\n",
    "\n",
    "print('Random Forest:', '(Best Depth):', best_depth, '(F1):', best_score)"
   ]
  },
  {
   "cell_type": "markdown",
   "metadata": {},
   "source": [
    "<div class=\"alert alert-info\">\n",
    "\n",
    "Best Hyperparameters for Random Forest model"
   ]
  },
  {
   "cell_type": "code",
   "execution_count": 22,
   "metadata": {},
   "outputs": [
    {
     "name": "stdout",
     "output_type": "stream",
     "text": [
      "Unbalanced Random Forest Model Accuracy: 0.8655\n",
      "Precision: 0.7520661157024794\n",
      "Recall: 0.46547314578005117\n",
      "F1-Score: 0.5750394944707741\n"
     ]
    }
   ],
   "source": [
    "rf_model = RandomForestClassifier(n_estimators = 40, max_depth = 15, random_state = 12345)\n",
    "rf_model.fit(features_train, target_train)\n",
    "rf_predicted_valid = rf_model.predict(features_valid)\n",
    "rf_accuracy = accuracy_score(target_valid, rf_predicted_valid)\n",
    "rf_precision = precision_score(target_valid, rf_predicted_valid)\n",
    "rf_recall = recall_score(target_valid, rf_predicted_valid)\n",
    "rf_f1 = f1_score(target_valid, rf_predicted_valid)\n",
    "print('Unbalanced Random Forest Model Accuracy:', rf_accuracy)\n",
    "print('Precision:', rf_precision)\n",
    "print('Recall:', rf_recall)\n",
    "print('F1-Score:', rf_f1)"
   ]
  },
  {
   "cell_type": "code",
   "execution_count": 23,
   "metadata": {},
   "outputs": [
    {
     "name": "stdout",
     "output_type": "stream",
     "text": [
      "Balanced Random Forest Model Accuracy: 0.857\n",
      "Precision: 0.6981132075471698\n",
      "Recall: 0.4731457800511509\n",
      "F1-Score: 0.5640243902439024\n"
     ]
    }
   ],
   "source": [
    "rf_balanced_model = RandomForestClassifier(n_estimators = 40, max_depth = 15, class_weight = 'balanced', random_state = 12345)\n",
    "rf_balanced_model.fit(features_train, target_train)\n",
    "rf_balanced_predicted_valid = rf_balanced_model.predict(features_valid)\n",
    "rf_balanced_accuracy = accuracy_score(target_valid, rf_balanced_predicted_valid)\n",
    "rf_balanced_precision = precision_score(target_valid, rf_balanced_predicted_valid)\n",
    "rf_balanced_recall = recall_score(target_valid, rf_balanced_predicted_valid)\n",
    "rf_balanced_f1 = f1_score(target_valid, rf_balanced_predicted_valid)\n",
    "print('Balanced Random Forest Model Accuracy:', rf_balanced_accuracy)\n",
    "print('Precision:', rf_balanced_precision)\n",
    "print('Recall:', rf_balanced_recall)\n",
    "print('F1-Score:', rf_balanced_f1)"
   ]
  },
  {
   "cell_type": "code",
   "execution_count": 24,
   "metadata": {},
   "outputs": [
    {
     "name": "stdout",
     "output_type": "stream",
     "text": [
      "Upsampled Random Forest: (Best Est): 90 (F1): 0.5879043600562588\n"
     ]
    }
   ],
   "source": [
    "best_score = 0\n",
    "best_est= 0\n",
    "for est in range (10,100, 10):\n",
    "    rf_upsamp_model = RandomForestClassifier(n_estimators = est, random_state = 12345)\n",
    "    rf_upsamp_model.fit(features_upsampled, target_upsampled)\n",
    "    predicted_valid = rf_upsamp_model.predict(features_valid)\n",
    "    score = f1_score(target_valid, predicted_valid)\n",
    "    if score > best_score:\n",
    "        best_score = score\n",
    "        best_est = est\n",
    "\n",
    "print('Upsampled Random Forest:', '(Best Est):', best_est, '(F1):', best_score)"
   ]
  },
  {
   "cell_type": "code",
   "execution_count": 25,
   "metadata": {},
   "outputs": [
    {
     "name": "stdout",
     "output_type": "stream",
     "text": [
      "Upsampled Random Forest: (Best Depth): 15 (F1): 0.5941644562334216\n"
     ]
    }
   ],
   "source": [
    "best_score = 0\n",
    "best_est = 90\n",
    "best_depth = 0\n",
    "for depth in [5 , 7, 10, 15, 20, None]:\n",
    "    rf_upsamp_model = RandomForestClassifier(random_state = 12345, n_estimators = 90, max_depth = depth)\n",
    "    rf_upsamp_model.fit(features_upsampled, target_upsampled)\n",
    "    predicted_valid = rf_upsamp_model.predict(features_valid)\n",
    "    score = f1_score(target_valid, predicted_valid)\n",
    "    if score > best_score:\n",
    "        best_score = score\n",
    "        best_depth = depth\n",
    "\n",
    "print('Upsampled Random Forest:', '(Best Depth):', best_depth, '(F1):', best_score)"
   ]
  },
  {
   "cell_type": "markdown",
   "metadata": {},
   "source": [
    "<div class=\"alert alert-info\">\n",
    "Upsampled best Random Forest parameter:"
   ]
  },
  {
   "cell_type": "code",
   "execution_count": 26,
   "metadata": {},
   "outputs": [
    {
     "name": "stdout",
     "output_type": "stream",
     "text": [
      "Upsampled Random Forest Model Accuracy: 0.847\n",
      "Precision: 0.6170798898071626\n",
      "Recall: 0.5728900255754475\n",
      "F1-Score: 0.5941644562334216\n"
     ]
    }
   ],
   "source": [
    "rf_upsampled_model = RandomForestClassifier(n_estimators = 90, max_depth = 15, random_state = 12345)\n",
    "rf_upsampled_model.fit(features_upsampled, target_upsampled)\n",
    "rf_upsampled_predicted_valid = rf_upsampled_model.predict(features_valid)\n",
    "rf_upsampled_accuracy = accuracy_score(target_valid, rf_upsampled_predicted_valid)\n",
    "rf_upsampled_precision = precision_score(target_valid, rf_upsampled_predicted_valid)\n",
    "rf_upsampled_recall = recall_score(target_valid, rf_upsampled_predicted_valid)\n",
    "rf_upsampled_f1 = f1_score(target_valid, rf_upsampled_predicted_valid)\n",
    "print('Upsampled Random Forest Model Accuracy:', rf_upsampled_accuracy)\n",
    "print('Precision:', rf_upsampled_precision)\n",
    "print('Recall:', rf_upsampled_recall)\n",
    "print('F1-Score:', rf_upsampled_f1)"
   ]
  },
  {
   "cell_type": "code",
   "execution_count": 27,
   "metadata": {},
   "outputs": [
    {
     "name": "stdout",
     "output_type": "stream",
     "text": [
      "Downsampled Random Forest: (Best Est): 50 (F1): 0.4834571235651587\n"
     ]
    }
   ],
   "source": [
    "best_score = 0\n",
    "best_est= 0\n",
    "for est in range (10,100, 10):\n",
    "    rf_downsamp_model = RandomForestClassifier(n_estimators = est, random_state = 12345)\n",
    "    rf_downsamp_model.fit(features_downsampled, target_downsampled)\n",
    "    predicted_valid = rf_downsamp_model.predict(features_valid)\n",
    "    score = f1_score(target_valid, predicted_valid)\n",
    "    if score > best_score:\n",
    "        best_score = score\n",
    "        best_est = est\n",
    "\n",
    "print('Downsampled Random Forest:', '(Best Est):', best_est, '(F1):', best_score)"
   ]
  },
  {
   "cell_type": "code",
   "execution_count": 28,
   "metadata": {},
   "outputs": [
    {
     "name": "stdout",
     "output_type": "stream",
     "text": [
      "Downsampled Random Forest: (Best Depth): 20 (F1): 0.4834571235651587\n"
     ]
    }
   ],
   "source": [
    "best_score = 0\n",
    "best_est = 50\n",
    "best_depth = 0\n",
    "for depth in [5 , 7, 10, 15, 20, None]:\n",
    "    rf_downsamp_model = RandomForestClassifier(random_state = 12345, n_estimators = 50, max_depth = depth)\n",
    "    rf_downsamp_model.fit(features_downsampled, target_downsampled)\n",
    "    predicted_valid = rf_downsamp_model.predict(features_valid)\n",
    "    score = f1_score(target_valid, predicted_valid)\n",
    "    if score > best_score:\n",
    "        best_score = score\n",
    "        best_depth = depth\n",
    "\n",
    "print('Downsampled Random Forest:', '(Best Depth):', best_depth, '(F1):', best_score)"
   ]
  },
  {
   "cell_type": "code",
   "execution_count": 29,
   "metadata": {},
   "outputs": [
    {
     "name": "stdout",
     "output_type": "stream",
     "text": [
      "Downsampled Random Forest Model Accuracy: 0.6175\n",
      "Precision: 0.3284403669724771\n",
      "Recall: 0.9156010230179028\n",
      "F1-Score: 0.4834571235651587\n"
     ]
    }
   ],
   "source": [
    "rf_downsampled_model = RandomForestClassifier(n_estimators = 50, max_depth = 20, random_state = 12345)\n",
    "rf_downsampled_model.fit(features_downsampled, target_downsampled)\n",
    "rf_downsampled_predicted_valid = rf_downsampled_model.predict(features_valid)\n",
    "rf_downsampled_accuracy = accuracy_score(target_valid, rf_downsampled_predicted_valid)\n",
    "rf_downsampled_precision = precision_score(target_valid, rf_downsampled_predicted_valid)\n",
    "rf_downsampled_recall = recall_score(target_valid, rf_downsampled_predicted_valid)\n",
    "rf_downsampled_f1 = f1_score(target_valid, rf_downsampled_predicted_valid)\n",
    "print('Downsampled Random Forest Model Accuracy:', rf_downsampled_accuracy)\n",
    "print('Precision:', rf_downsampled_precision)\n",
    "print('Recall:', rf_downsampled_recall)\n",
    "print('F1-Score:', rf_downsampled_f1)"
   ]
  },
  {
   "cell_type": "code",
   "execution_count": 30,
   "metadata": {},
   "outputs": [
    {
     "name": "stdout",
     "output_type": "stream",
     "text": [
      "Best Decision Tree: (Max Depth): 7 (F1): 0.5583596214511041\n"
     ]
    }
   ],
   "source": [
    "best_model = None\n",
    "best_result = 0\n",
    "for depth in range (1, 20):\n",
    "    dt_model = DecisionTreeClassifier(random_state = 12345, max_depth = depth)\n",
    "    dt_model.fit(features_train, target_train)\n",
    "    predicted_valid = dt_model.predict(features_valid)\n",
    "    result = f1_score(target_valid, predicted_valid)\n",
    "    if result > best_result:\n",
    "        best_model = dt_model\n",
    "        best_result = result\n",
    "\n",
    "print('Best Decision Tree:', '(Max Depth):', best_model.max_depth, '(F1):', best_result)"
   ]
  },
  {
   "cell_type": "code",
   "execution_count": 31,
   "metadata": {},
   "outputs": [
    {
     "name": "stdout",
     "output_type": "stream",
     "text": [
      "(Sample Split): 40 (F1): 0.5389610389610391\n",
      "(Sample Split): 45 (F1): 0.5395799676898223\n",
      "(Sample Split): 50 (F1): 0.5368248772504092\n",
      "(Sample Split): 55 (F1): 0.5368248772504092\n",
      "(Sample Split): 60 (F1): 0.5368248772504092\n",
      "Best Decision Tree: (Max Depth): 7 (Sample Split): 45 (F1): 0.5395799676898223\n"
     ]
    }
   ],
   "source": [
    "best_model = None\n",
    "best_result = 0\n",
    "for split in [40 , 45, 50, 55, 60]:\n",
    "    dt_model = DecisionTreeClassifier(random_state = 12345, max_depth = 7, min_samples_split = split)\n",
    "    dt_model.fit(features_train, target_train)\n",
    "    predicted_valid = dt_model.predict(features_valid)\n",
    "    result = f1_score(target_valid, predicted_valid)\n",
    "\n",
    "    print('(Sample Split):', split, '(F1):', result)   \n",
    "    \n",
    "    if result > best_result:\n",
    "        best_model = dt_model\n",
    "        best_result = result\n",
    "\n",
    "print('Best Decision Tree:', '(Max Depth):', best_model.max_depth, '(Sample Split):', best_model.min_samples_split, '(F1):', best_result)"
   ]
  },
  {
   "cell_type": "code",
   "execution_count": 32,
   "metadata": {},
   "outputs": [
    {
     "name": "stdout",
     "output_type": "stream",
     "text": [
      "(Sample Leaf): 1 (F1): 0.5395799676898223\n",
      "(Sample Leaf): 2 (F1): 0.5419354838709678\n",
      "(Sample Leaf): 3 (F1): 0.5419354838709678\n",
      "(Sample Leaf): 4 (F1): 0.5428109854604201\n",
      "(Sample Leaf): 5 (F1): 0.5428109854604201\n",
      "(Sample Leaf): 6 (F1): 0.5436893203883495\n",
      "(Sample Leaf): 7 (F1): 0.5472\n",
      "(Sample Leaf): 8 (F1): 0.5472\n",
      "(Sample Leaf): 9 (F1): 0.5472\n",
      "(Sample Leaf): 10 (F1): 0.5472\n",
      "Best Decision Tree: (Max Depth): 7 (Sample Split): 45 (Sample Leaf): 7 (F1): 0.5472\n"
     ]
    }
   ],
   "source": [
    "best_model = None\n",
    "best_result = 0\n",
    "best_leaf = 0\n",
    "for leaf in range (1, 11):\n",
    "    dt_model = DecisionTreeClassifier(random_state = 12345, max_depth = 7, min_samples_split = 45, min_samples_leaf = leaf)\n",
    "    dt_model.fit(features_train, target_train)\n",
    "    predicted_valid = dt_model.predict(features_valid)\n",
    "    result = f1_score(target_valid, predicted_valid)\n",
    "\n",
    "    print('(Sample Leaf):', leaf, '(F1):', result)   \n",
    "    \n",
    "    if result > best_result:\n",
    "        best_model = dt_model\n",
    "        best_result = result\n",
    "\n",
    "print('Best Decision Tree:', '(Max Depth):', best_model.max_depth, '(Sample Split):', best_model.min_samples_split, '(Sample Leaf):', best_model.min_samples_leaf, '(F1):', best_result)"
   ]
  },
  {
   "cell_type": "code",
   "execution_count": 33,
   "metadata": {},
   "outputs": [
    {
     "name": "stdout",
     "output_type": "stream",
     "text": [
      "Unbalanced Decision Tree Model Accuracy: 0.8585\n",
      "Precision: 0.7307692307692307\n",
      "Recall: 0.4373401534526854\n",
      "F1-Score: 0.5472\n"
     ]
    }
   ],
   "source": [
    "dt_model = DecisionTreeClassifier(random_state = 12345, max_depth = 7, min_samples_split = 46, min_samples_leaf = 7)\n",
    "dt_model.fit(features_train, target_train)\n",
    "dt_predicted_valid = dt_model.predict(features_valid)\n",
    "dt_accuracy = accuracy_score(target_valid, dt_predicted_valid)\n",
    "dt_precision = precision_score(target_valid, dt_predicted_valid)\n",
    "dt_recall = recall_score(target_valid, dt_predicted_valid)\n",
    "dt_f1 = f1_score(target_valid, dt_predicted_valid)\n",
    "print('Unbalanced Decision Tree Model Accuracy:', dt_accuracy)\n",
    "print('Precision:', dt_precision)\n",
    "print('Recall:', dt_recall)\n",
    "print('F1-Score:', dt_f1)"
   ]
  },
  {
   "cell_type": "code",
   "execution_count": 34,
   "metadata": {},
   "outputs": [
    {
     "name": "stdout",
     "output_type": "stream",
     "text": [
      "Balanced Decision Tree Model Accuracy: 0.7775\n",
      "Precision: 0.4560260586319218\n",
      "Recall: 0.7161125319693095\n",
      "F1-Score: 0.5572139303482586\n"
     ]
    }
   ],
   "source": [
    "dt_balanced_model = DecisionTreeClassifier(class_weight = 'balanced', random_state = 12345, max_depth = 7, min_samples_split = 45, min_samples_leaf = 7)\n",
    "dt_balanced_model.fit(features_train, target_train)\n",
    "dt_balanced_predicted_valid = dt_balanced_model.predict(features_valid)\n",
    "dt_balanced_accuracy = accuracy_score(target_valid, dt_balanced_predicted_valid)\n",
    "dt_balanced_precision = precision_score(target_valid, dt_balanced_predicted_valid)\n",
    "dt_balanced_recall = recall_score(target_valid, dt_balanced_predicted_valid)\n",
    "dt_balanced_f1 = f1_score(target_valid, dt_balanced_predicted_valid)\n",
    "print('Balanced Decision Tree Model Accuracy:', dt_balanced_accuracy)\n",
    "print('Precision:', dt_balanced_precision)\n",
    "print('Recall:', dt_balanced_recall)\n",
    "print('F1-Score:', dt_balanced_f1)"
   ]
  },
  {
   "cell_type": "code",
   "execution_count": 35,
   "metadata": {},
   "outputs": [
    {
     "name": "stdout",
     "output_type": "stream",
     "text": [
      "Best Upsampled Decision Tree: (Max Depth): 6 (F1): 0.5587044534412956\n"
     ]
    }
   ],
   "source": [
    "best_model = None\n",
    "best_result = 0\n",
    "for depth in range (1, 8):\n",
    "    dt_upsamp_model = DecisionTreeClassifier(random_state = 12345, max_depth = depth)\n",
    "    dt_upsamp_model.fit(features_upsampled, target_upsampled)\n",
    "    predicted_valid = dt_upsamp_model.predict(features_valid)\n",
    "    result = f1_score(target_valid, predicted_valid)\n",
    "    if result > best_result:\n",
    "        best_model = dt_upsamp_model\n",
    "        best_result = result\n",
    "\n",
    "print('Best Upsampled Decision Tree:', '(Max Depth):', best_model.max_depth, '(F1):', best_result)"
   ]
  },
  {
   "cell_type": "code",
   "execution_count": 36,
   "metadata": {},
   "outputs": [
    {
     "name": "stdout",
     "output_type": "stream",
     "text": [
      "(Sample Split): 40 (F1): 0.5604060913705584\n",
      "(Sample Split): 45 (F1): 0.5604060913705584\n",
      "(Sample Split): 50 (F1): 0.5604060913705584\n",
      "(Sample Split): 55 (F1): 0.5604060913705584\n",
      "(Sample Split): 60 (F1): 0.5604060913705584\n",
      "Best Upsampled Decision Tree: (Max Depth): 6 (Sample Split): 40 (F1): 0.5604060913705584\n"
     ]
    }
   ],
   "source": [
    "best_model = None\n",
    "best_result = 0\n",
    "for split in [40 , 45, 50, 55, 60]:\n",
    "    dt_upsamp_model = DecisionTreeClassifier(random_state = 12345, max_depth = 6, min_samples_split = split)\n",
    "    dt_upsamp_model.fit(features_upsampled, target_upsampled)\n",
    "    predicted_valid = dt_upsamp_model.predict(features_valid)\n",
    "    result = f1_score(target_valid, predicted_valid)\n",
    "\n",
    "    print('(Sample Split):', split, '(F1):', result)   \n",
    "    \n",
    "    if result > best_result:\n",
    "        best_model = dt_upsamp_model\n",
    "        best_result = result\n",
    "\n",
    "print('Best Upsampled Decision Tree:', '(Max Depth):', best_model.max_depth, '(Sample Split):', best_model.min_samples_split, '(F1):', best_result)"
   ]
  },
  {
   "cell_type": "code",
   "execution_count": 37,
   "metadata": {},
   "outputs": [
    {
     "name": "stdout",
     "output_type": "stream",
     "text": [
      "(Sample Leaf): 1 (F1): 0.5604060913705584\n",
      "(Sample Leaf): 2 (F1): 0.5618661257606491\n",
      "(Sample Leaf): 3 (F1): 0.5621840242669364\n",
      "(Sample Leaf): 4 (F1): 0.5621840242669364\n",
      "(Sample Leaf): 5 (F1): 0.5621840242669364\n",
      "(Sample Leaf): 6 (F1): 0.5621840242669364\n",
      "(Sample Leaf): 7 (F1): 0.5621840242669364\n",
      "(Sample Leaf): 8 (F1): 0.5621840242669364\n",
      "(Sample Leaf): 9 (F1): 0.5621840242669364\n",
      "(Sample Leaf): 10 (F1): 0.5621840242669364\n",
      "Best Upsampled Decision Tree: (Max Depth): 6 (Sample Split): 40 (Sample Leaf): 3 (F1): 0.5621840242669364\n"
     ]
    }
   ],
   "source": [
    "best_model = None\n",
    "best_result = 0\n",
    "best_leaf = 0\n",
    "for leaf in range (1, 11):\n",
    "    dt_upsamp_model = DecisionTreeClassifier(random_state = 12345, max_depth = 6, min_samples_split = 40, min_samples_leaf = leaf)\n",
    "    dt_upsamp_model.fit(features_upsampled, target_upsampled)\n",
    "    predicted_valid = dt_upsamp_model.predict(features_valid)\n",
    "    result = f1_score(target_valid, predicted_valid)\n",
    "\n",
    "    print('(Sample Leaf):', leaf, '(F1):', result)   \n",
    "    \n",
    "    if result > best_result:\n",
    "        best_model = dt_upsamp_model\n",
    "        best_result = result\n",
    "\n",
    "print('Best Upsampled Decision Tree:', '(Max Depth):', best_model.max_depth, '(Sample Split):', best_model.min_samples_split, '(Sample Leaf):', best_model.min_samples_leaf, '(F1):', best_result)"
   ]
  },
  {
   "cell_type": "code",
   "execution_count": 38,
   "metadata": {},
   "outputs": [
    {
     "name": "stdout",
     "output_type": "stream",
     "text": [
      "Upsampled Decision Tree Model Accuracy: 0.7835\n",
      "Precision: 0.46488294314381273\n",
      "Recall: 0.710997442455243\n",
      "F1-Score: 0.5621840242669364\n"
     ]
    }
   ],
   "source": [
    "dt_upsampled_model = DecisionTreeClassifier(random_state = 12345, max_depth = 6, min_samples_split = 40, min_samples_leaf = 3)\n",
    "dt_upsampled_model.fit(features_upsampled, target_upsampled)\n",
    "dt_upsampled_predicted_valid = dt_upsampled_model.predict(features_valid)\n",
    "dt_upsampled_accuracy = accuracy_score(target_valid, dt_upsampled_predicted_valid)\n",
    "dt_upsampled_precision = precision_score(target_valid, dt_upsampled_predicted_valid)\n",
    "dt_upsampled_recall = recall_score(target_valid, dt_upsampled_predicted_valid)\n",
    "dt_upsampled_f1 = f1_score(target_valid, dt_upsampled_predicted_valid)\n",
    "print('Upsampled Decision Tree Model Accuracy:', dt_upsampled_accuracy)\n",
    "print('Precision:', dt_upsampled_precision)\n",
    "print('Recall:', dt_upsampled_recall)\n",
    "print('F1-Score:', dt_upsampled_f1)"
   ]
  },
  {
   "cell_type": "code",
   "execution_count": 39,
   "metadata": {},
   "outputs": [
    {
     "name": "stdout",
     "output_type": "stream",
     "text": [
      "Best Downsampled Decision Tree: (Max Depth): 5 (F1): 0.5164394546912591\n"
     ]
    }
   ],
   "source": [
    "best_model = None\n",
    "best_result = 0\n",
    "for depth in range (1, 8):\n",
    "    dt_downsamp_model = DecisionTreeClassifier(random_state = 12345, max_depth = depth)\n",
    "    dt_downsamp_model.fit(features_downsampled, target_downsampled)\n",
    "    predicted_valid = dt_downsamp_model.predict(features_valid)\n",
    "    result = f1_score(target_valid, predicted_valid)\n",
    "    if result > best_result:\n",
    "        best_model = dt_downsamp_model\n",
    "        best_result = result\n",
    "\n",
    "print('Best Downsampled Decision Tree:', '(Max Depth):', best_model.max_depth, '(F1):', best_result)"
   ]
  },
  {
   "cell_type": "code",
   "execution_count": 40,
   "metadata": {},
   "outputs": [
    {
     "name": "stdout",
     "output_type": "stream",
     "text": [
      "(Sample Split): 40 (F1): 0.514423076923077\n",
      "(Sample Split): 45 (F1): 0.5139664804469274\n",
      "(Sample Split): 50 (F1): 0.5139664804469274\n",
      "(Sample Split): 55 (F1): 0.5139664804469274\n",
      "(Sample Split): 60 (F1): 0.5139664804469274\n",
      "Best Downsampled Decision Tree: (Max Depth): 5 (Sample Split): 40 (F1): 0.514423076923077\n"
     ]
    }
   ],
   "source": [
    "best_model = None\n",
    "best_result = 0\n",
    "for split in [40 , 45, 50, 55, 60]:\n",
    "    dt_downsamp_model = DecisionTreeClassifier(random_state = 12345, max_depth = 5, min_samples_split = split)\n",
    "    dt_downsamp_model.fit(features_downsampled, target_downsampled)\n",
    "    predicted_valid = dt_downsamp_model.predict(features_valid)\n",
    "    result = f1_score(target_valid, predicted_valid)\n",
    "\n",
    "    print('(Sample Split):', split, '(F1):', result)   \n",
    "    \n",
    "    if result > best_result:\n",
    "        best_model = dt_downsamp_model\n",
    "        best_result = result\n",
    "\n",
    "print('Best Downsampled Decision Tree:', '(Max Depth):', best_model.max_depth, '(Sample Split):', best_model.min_samples_split, '(F1):', best_result)"
   ]
  },
  {
   "cell_type": "code",
   "execution_count": 41,
   "metadata": {},
   "outputs": [
    {
     "name": "stdout",
     "output_type": "stream",
     "text": [
      "(Sample Leaf): 1 (F1): 0.4780994803266519\n",
      "(Sample Leaf): 2 (F1): 0.47887323943661975\n",
      "(Sample Leaf): 3 (F1): 0.4811250925240563\n",
      "(Sample Leaf): 4 (F1): 0.4797645327446652\n",
      "(Sample Leaf): 5 (F1): 0.4797645327446652\n",
      "(Sample Leaf): 6 (F1): 0.4797645327446652\n",
      "(Sample Leaf): 7 (F1): 0.4797645327446652\n",
      "(Sample Leaf): 8 (F1): 0.4797645327446652\n",
      "(Sample Leaf): 9 (F1): 0.4794721407624634\n",
      "(Sample Leaf): 10 (F1): 0.4794721407624634\n",
      "Best Downsampled Decision Tree: (Max Depth): 6 (Sample Split): 40 (Sample Leaf): 3 (F1): 0.4811250925240563\n"
     ]
    }
   ],
   "source": [
    "best_model = None\n",
    "best_result = 0\n",
    "best_leaf = 0\n",
    "for leaf in range (1, 11):\n",
    "    dt_downsamp_model = DecisionTreeClassifier(random_state = 12345, max_depth = 6, min_samples_split = 40, min_samples_leaf = leaf)\n",
    "    dt_downsamp_model.fit(features_downsampled, target_downsampled)\n",
    "    predicted_valid = dt_downsamp_model.predict(features_valid)\n",
    "    result = f1_score(target_valid, predicted_valid)\n",
    "\n",
    "    print('(Sample Leaf):', leaf, '(F1):', result)   \n",
    "    \n",
    "    if result > best_result:\n",
    "        best_model = dt_downsamp_model\n",
    "        best_result = result\n",
    "\n",
    "print('Best Downsampled Decision Tree:', '(Max Depth):', best_model.max_depth, '(Sample Split):', best_model.min_samples_split, '(Sample Leaf):', best_model.min_samples_leaf, '(F1):', best_result)"
   ]
  },
  {
   "cell_type": "code",
   "execution_count": 42,
   "metadata": {},
   "outputs": [
    {
     "name": "stdout",
     "output_type": "stream",
     "text": [
      "Downsampled Decision Tree Model Accuracy: 0.6495\n",
      "Precision: 0.3385416666666667\n",
      "Recall: 0.8312020460358056\n",
      "F1-Score: 0.4811250925240563\n"
     ]
    }
   ],
   "source": [
    "dt_downsampled_model = DecisionTreeClassifier(random_state = 12345, max_depth = 6, min_samples_split = 40, min_samples_leaf = 3)\n",
    "dt_downsampled_model.fit(features_downsampled, target_downsampled)\n",
    "dt_downsampled_predicted_valid = dt_downsampled_model.predict(features_valid)\n",
    "dt_downsampled_accuracy = accuracy_score(target_valid, dt_downsampled_predicted_valid)\n",
    "dt_downsampled_precision = precision_score(target_valid, dt_downsampled_predicted_valid)\n",
    "dt_downsampled_recall = recall_score(target_valid, dt_downsampled_predicted_valid)\n",
    "dt_downsampled_f1 = f1_score(target_valid, dt_downsampled_predicted_valid)\n",
    "print('Downsampled Decision Tree Model Accuracy:', dt_downsampled_accuracy)\n",
    "print('Precision:', dt_downsampled_precision)\n",
    "print('Recall:', dt_downsampled_recall)\n",
    "print('F1-Score:', dt_downsampled_f1)"
   ]
  },
  {
   "cell_type": "markdown",
   "metadata": {},
   "source": [
    "<div class=\"alert alert-info\">\n",
    "\n",
    "Updated model's improvement:\n",
    "\n",
    "<b>ACCURACY:</b><br>\n",
    "LOGISTIC REGRESSION\n",
    "- Unbalanced model: 81.4% Accuracy\n",
    "- Balanced model: 70.5% Accuracy\n",
    "- Upsampled model: 70.3% Accuracy\n",
    "- Downsampled model: 46.7% Accuracy\n",
    "\n",
    "RANDOM FOREST\n",
    "- Unbalanced model: 86.5% Accuracy\n",
    "- Balanced model: 85.5% Accuracy\n",
    "- Upsampled model: 84.7% Accuracy\n",
    "- Downsampled model: 61.7% Accuracy\n",
    "\n",
    "DECISION TREE\n",
    "- Unbalanced model: 79.1% Accuracy\n",
    "- Balanced model: 79.5% Accuracy\n",
    "- Upsampled model: 78.3% Accuracy\n",
    "- Downsampled model: 64.9% Accuracy\n",
    "\n",
    "<b>PRECISION:</b><br>\n",
    "LOGISTIC REGRESSION\n",
    "- Unbalanced model: 57.1% Precision\n",
    "- Balanced model: 36.3% Precision\n",
    "- Upsampled model: 36.3% Precision\n",
    "- Downsampled model: 25.9% Precision\n",
    "\n",
    "RANDOM FOREST\n",
    "- Unbalanced model: 75.2% Precision\n",
    "- Balanced model: 75.2% Precision\n",
    "- Upsampled model: 84.7% Precision\n",
    "- Downsampled model: 32.8% Precision\n",
    "\n",
    "DECISION TREE\n",
    "- Unbalanced model: 46.8% Precision\n",
    "- Balanced model: 45.1% Precision\n",
    "- Upsampled model: 46.4% Precision\n",
    "- Downsampled model: 33.8% Precision\n",
    "\n",
    "<b>RECALL:</b><br>\n",
    "LOGISTIC REGRESSION\n",
    "- Unbalanced model: 20.4% Recall\n",
    "- Balanced model: 68% Recall\n",
    "- Upsampled model: 69.3% Recall\n",
    "- Downsampled model: 93.3% Recall\n",
    "\n",
    "RANDOM FOREST\n",
    "- Unbalanced model: 46.5% Recall\n",
    "- Balanced model: 48.2% Recall\n",
    "- Upsampled model: 57.2% Recall\n",
    "- Downsampled model: 91.5% Recall\n",
    "\n",
    "DECISION TREE\n",
    "- Unbalanced model: 42.1% Recall\n",
    "- Balanced model: 46.5% Recall\n",
    "- Upsampled model: 71% Recall\n",
    "- Downsampled model: 83.1% Recall\n",
    "\n",
    "<b>F1:</b><br>\n",
    "LOGISTIC REGRESSION\n",
    "- Unbalanced model: 11.7% F1\n",
    "- Balanced model: 30.1% F1\n",
    "- Upsampled model: 47.7% F1\n",
    "- Downsampled model: 40.6% F1\n",
    "\n",
    "RANDOM FOREST\n",
    "- Unbalanced model: 57.5% F1\n",
    "- Balanced model: 56.4% F1\n",
    "- Upsampled model: 59.4% F1\n",
    "- Downsampled model: 48.3% F1\n",
    "\n",
    "DECISION TREE\n",
    "- Unbalanced model: 48.1% F1\n",
    "- Balanced model: 47% F1\n",
    "- Upsampled model: 56.2% F1\n",
    "- Downsampled model: 48.1% F1"
   ]
  },
  {
   "cell_type": "code",
   "execution_count": 43,
   "metadata": {},
   "outputs": [
    {
     "name": "stdout",
     "output_type": "stream",
     "text": [
      "Best Model Accuracy: 0.8425\n",
      "Probability: [0.43632801 0.18216534 0.02634522 ... 0.1297619  0.048      0.18819079]\n",
      "Precision: 0.6465968586387435\n",
      "Recall: 0.5784543325526932\n",
      "F1-Score: 0.6106304079110013\n",
      "Confusion Matrix: [[1438  135]\n",
      " [ 180  247]]\n",
      "AUC-ROC: 0.8538153351864232\n"
     ]
    }
   ],
   "source": [
    "best_model = RandomForestClassifier(n_estimators = 90, max_depth = 15, random_state = 12345)\n",
    "best_model.fit(features_upsampled, target_upsampled)\n",
    "best_predicted_test = best_model.predict(features_test)\n",
    "best_prob_test = best_model.predict_proba(features_test)[: , 1]\n",
    "best_accuracy = accuracy_score(target_test, best_predicted_test)\n",
    "best_precision = precision_score(target_test, best_predicted_test)\n",
    "best_recall = recall_score(target_test, best_predicted_test)\n",
    "best_f1 = f1_score(target_test, best_predicted_test)\n",
    "auc_roc = roc_auc_score(target_test, best_prob_test)\n",
    "\n",
    "print('Best Model Accuracy:', best_accuracy)\n",
    "print('Probability:', best_prob_test)\n",
    "print('Precision:', best_precision)\n",
    "print('Recall:', best_recall)\n",
    "print('F1-Score:', best_f1)\n",
    "print(\"Confusion Matrix:\", confusion_matrix(target_test, best_predicted_test))\n",
    "print('AUC-ROC:', auc_roc)"
   ]
  },
  {
   "cell_type": "markdown",
   "metadata": {},
   "source": [
    "<div class=\"alert alert-info\">\n",
    "<br>\n",
    "Best Model: Upsampled Random Forest Model<br>\n",
    "<br>\n",
    "<b>Accuracy:</b> 84.2%<br>\n",
    "<b>Precision:</b> 64.6%<br>\n",
    "<b>Recall:</b> 57.8%<br>\n",
    "<b>F1:</b> 61%<br>\n",
    "<br>\n",
    "<b>Confusion Matrix:</b><br>\n",
    "[1438  135]<br>\n",
    "[180   247]<br>\n",
    "<br>\n",
    "<b>AUC-ROC:</b> 85.3%"
   ]
  },
  {
   "cell_type": "code",
   "execution_count": 44,
   "metadata": {},
   "outputs": [
    {
     "name": "stdout",
     "output_type": "stream",
     "text": [
      "Threshold: 0.3 | Precision: 0.482 | Recall: 0.789 | F1: 0.599\n",
      "Threshold: 0.4 | Precision: 0.571 | Recall: 0.681 | F1: 0.621\n",
      "Threshold: 0.5 | Precision: 0.647 | Recall: 0.578 | F1: 0.611\n",
      "Threshold: 0.6 | Precision: 0.743 | Recall: 0.466 | F1: 0.573\n",
      "Threshold: 0.7 | Precision: 0.789 | Recall: 0.368 | F1: 0.502\n",
      "Threshold: 0.8 | Precision: 0.839 | Recall: 0.232 | F1: 0.363\n"
     ]
    }
   ],
   "source": [
    "thresholds = [0.3, 0.4, 0.5, 0.6, 0.7, 0.8]\n",
    "for threshold in thresholds:\n",
    "    predictions = (best_prob_test >= threshold).astype(int)\n",
    "    precision = precision_score(target_test, predictions)\n",
    "    recall = recall_score(target_test, predictions)\n",
    "    f1 = f1_score(target_test, predictions)\n",
    "    print(f\"Threshold: {threshold:.1f} | Precision: {precision:.3f} | Recall: {recall:.3f} | F1: {f1:.3f}\")"
   ]
  },
  {
   "cell_type": "code",
   "execution_count": 45,
   "metadata": {},
   "outputs": [
    {
     "name": "stdout",
     "output_type": "stream",
     "text": [
      "Best Model Accuracy: 0.8425\n",
      "Probability: [0.43632801 0.18216534 0.02634522 ... 0.1297619  0.048      0.18819079]\n",
      "Custom Precision: 0.6465968586387435\n",
      "Custom Recall: 0.5784543325526932\n",
      "Custom F1-Score: 0.6106304079110013\n"
     ]
    }
   ],
   "source": [
    "best_model = RandomForestClassifier(n_estimators = 90, max_depth = 15, random_state = 12345)\n",
    "best_model.fit(features_upsampled, target_upsampled)\n",
    "best_predicted_test = best_model.predict(features_test)\n",
    "best_prob_test = best_model.predict_proba(features_test)[: , 1]\n",
    "best_accuracy = accuracy_score(target_test, best_predicted_test)\n",
    "auc_roc = roc_auc_score(target_test, best_prob_test)\n",
    "\n",
    "threshold = 0.5\n",
    "best_predicted_custom = (best_prob_test >= threshold).astype(int)\n",
    "\n",
    "custom_precision = precision_score(target_test, best_predicted_custom)\n",
    "custom_recall = recall_score(target_test, best_predicted_custom)\n",
    "custom_f1 = f1_score(target_test, best_predicted_custom)\n",
    "\n",
    "print('Best Model Accuracy:', best_accuracy)\n",
    "print('Probability:', best_prob_test)\n",
    "print('Custom Precision:', custom_precision)\n",
    "print('Custom Recall:', custom_recall)\n",
    "print('Custom F1-Score:', custom_f1)\n"
   ]
  },
  {
   "cell_type": "markdown",
   "metadata": {},
   "source": [
    "<div class=\"alert alert-info\">\n",
    "\n",
    "Finding and obtaining best possible scores after creating the best model. With a threshold set at 0.5, and to keep precision still in mind as a factor for business decisions, metrics are as follows for our model.\n",
    "\n",
    "\n",
    "Best Model: Upsampled Random Forest Model<br>\n",
    "<br>\n",
    "<b>Threshold:</b> 0.5<br>\n",
    "<b>Accuracy:</b> 84.2%<br>\n",
    "<b>Precision:</b> 64.6%<br>\n",
    "<b>Recall:</b> 57.8%<br>\n",
    "<b>F1:</b> 61%<br>\n",
    "<b>AUC-ROC:</b> 85.3%"
   ]
  },
  {
   "cell_type": "code",
   "execution_count": 46,
   "metadata": {},
   "outputs": [
    {
     "data": {
      "image/png": "[encoded data removed]",
      "text/plain": [
       "<Figure size 600x600 with 1 Axes>"
      ]
     },
     "metadata": {},
     "output_type": "display_data"
    }
   ],
   "source": [
    "precision, recall, thresholds = roc_curve(target_test, best_prob_test)\n",
    "\n",
    "plt.figure(figsize = (6,6))\n",
    "plt.step(recall, precision, where = 'post')\n",
    "plt.xlabel('Recall')\n",
    "plt.ylabel('Precision')\n",
    "plt.ylim([0.0, 1.05])\n",
    "plt.xlim([0.0, 1.0])\n",
    "plt.title('Precision Recall Curve')\n",
    "plt.show()"
   ]
  },
  {
   "cell_type": "markdown",
   "metadata": {},
   "source": [
    "<div class=\"alert alert-info\">\n",
    "\n",
    "PR Curve \n",
    "\n",
    "The curve starts at precision = 1.0 when recall is very low. You can see it generally decreases, but there are some interesting plateaus. The curve shows your model is performing quite well! The high precision at low recall suggests that when the model is very confident about positive predictions, it's usually correct.\n",
    "\n",
    "At low recall (left side of curve): Your model only identifies the cases it's most confident about as positive. These are usually the \"easy\" cases, so precision is very high.\n",
    "\n",
    "As recall increases (moving right): The model has to lower its threshold to catch more positive cases, which means it starts including cases it's less certain about. This inevitably leads to more false positives, reducing precision.\n",
    " \n",
    "High precision, low recall: You'd catch fewer customers who will churn, but you'd be very confident about the ones you do identify\n",
    "\n",
    "Lower precision, high recall: You'd catch more customers who will churn, but you'd also incorrectly flag more customers who won't churn"
   ]
  },
  {
   "cell_type": "code",
   "execution_count": 47,
   "metadata": {},
   "outputs": [
    {
     "data": {
      "image/png": "[encoded data removed]",
      "text/plain": [
       "<Figure size 600x600 with 1 Axes>"
      ]
     },
     "metadata": {},
     "output_type": "display_data"
    }
   ],
   "source": [
    "fpr, tpr, thresholds = roc_curve(target_test, best_prob_test)\n",
    "\n",
    "plt.figure(figsize = (6,6))\n",
    "plt.plot([0,1],[0,1], linestyle = '--')\n",
    "plt.plot(fpr,tpr)\n",
    "plt.xlabel('FPR')\n",
    "plt.ylabel('TPR')\n",
    "plt.ylim([0, 1])\n",
    "plt.xlim([0, 1])\n",
    "plt.title('ROC Curve')\n",
    "plt.show()"
   ]
  },
  {
   "cell_type": "markdown",
   "metadata": {},
   "source": [
    "<div class=\"alert alert-block alert-success\">\n",
    "<b>Reviewer's comment</b> <a class=\"tocSkip\"></a>\n",
    "\n",
    "Good work so far with the charts.\n",
    "\n",
    "</div>"
   ]
  },
  {
   "cell_type": "markdown",
   "metadata": {},
   "source": [
    "<div class=\"alert alert-info\">\n",
    "\n",
    "ROC Curve\n",
    "\n",
    "Great ROC curve! You can see the model is performing quite well - the orange curve is significantly above the diagonal dashed line, which represents random guessing. The closer the curve is to the top-left corner, the better the model. Both curves help evaluate model performance, but they emphasize different aspects. The ROC curve shows that your model can achieve high sensitivity (around 0.8-0.9 TPR) while keeping the false positive rate relatively low (around 0.1-0.2 FPR). This is particularly important for your bank churn prediction problem."
   ]
  },
  {
   "cell_type": "markdown",
   "metadata": {},
   "source": [
    "<div class=\"alert alert-info\">\n",
    "\n",
    "<br><b>CONCLUSION</b>\n",
    "\n",
    "The Upsampled Random Forest Model is the best model for detecting customer churn rate for Beta Bank.\n",
    "\n",
    "The metrics show:\n",
    "\n",
    "<b>Threshold:</b> 0.5<br>\n",
    "<b>Accuracy:</b> 84.2%<br>\n",
    "<b>Precision:</b> 64.6%<br>\n",
    "<b>Recall:</b> 57.8%<br>\n",
    "<b>F1:</b> 61%<br>\n",
    "<br>\n",
    "<b>Confusion Matrix:</b><br>\n",
    "[1438  135]<br>\n",
    "[180   247]<br>\n",
    "<br>\n",
    "<b>AUC-ROC:</b> 85.3%\n",
    "<br></br>\n",
    "\n",
    "While a 0.4 threshold achieved 62.1% F1, the 0.5 threshold provides 64.6% precision vs 57.1%, making it more valuable for business applications despite the slight F1 trade-off. This makes for a smart business perspective! In the context of customer churn prediction for Beta Bank, prioritizing precision makes a lot of sense. Here's why this approach is valuable:\n",
    "\n",
    "Why precision matters more in this case:\n",
    "\n",
    "<b>Resource allocation:</b> If the bank acts on my predictions (like offering retention incentives), I want to be confident those customers are actually at risk\n",
    "\n",
    "<b>Cost efficiency:</b> False positives mean wasting money on customers who weren't going to leave anyway\n",
    "\n",
    "<b>Targeted interventions:</b> Better to focus retention efforts on customers you're confident about\n",
    "\n",
    "The results show the strategy of this model is working well."
   ]
  }
 ],
 "metadata": {
  "kernelspec": {
   "display_name": "Python 3 (ipykernel)",
   "language": "python",
   "name": "python3"
  },
  "language_info": {
   "codemirror_mode": {
    "name": "ipython",
    "version": 3
   },
   "file_extension": ".py",
   "mimetype": "text/x-python",
   "name": "python",
   "nbconvert_exporter": "python",
   "pygments_lexer": "ipython3",
   "version": "3.9.23"
  }
 },
 "nbformat": 4,
 "nbformat_minor": 4
}
